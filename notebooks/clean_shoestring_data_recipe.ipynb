{
 "cells": [
  {
   "cell_type": "markdown",
   "id": "0d3043ea",
   "metadata": {},
   "source": [
    "## Data\n",
    "\n",
    "I think I need to figure out what I want to do with this first...\n",
    "\n",
    "Probably start off with a model that predicts an ingredient list.\n",
    "\n",
    "So I need to clean the ingredient data."
   ]
  },
  {
   "cell_type": "code",
   "execution_count": 1,
   "id": "27338d00",
   "metadata": {},
   "outputs": [],
   "source": [
    "%load_ext autoreload\n",
    "%autoreload 2"
   ]
  },
  {
   "cell_type": "code",
   "execution_count": 2,
   "id": "679a73f5",
   "metadata": {},
   "outputs": [
    {
     "name": "stdout",
     "output_type": "stream",
     "text": [
      "/home/ec2-user/SageMaker/just-a-recipe-generator\n"
     ]
    }
   ],
   "source": [
    "cd /home/ec2-user/SageMaker/just-a-recipe-generator"
   ]
  },
  {
   "cell_type": "code",
   "execution_count": 3,
   "id": "711209b5",
   "metadata": {},
   "outputs": [],
   "source": [
    "from src.data.pickling import load_pickle\n",
    "import copy"
   ]
  },
  {
   "cell_type": "code",
   "execution_count": 4,
   "id": "5e0a9e53",
   "metadata": {},
   "outputs": [
    {
     "name": "stdout",
     "output_type": "stream",
     "text": [
      "shoestring_recipes.pickle  test.pickle\n"
     ]
    }
   ],
   "source": [
    "ls data/raw/"
   ]
  },
  {
   "cell_type": "code",
   "execution_count": 5,
   "id": "c609c7de",
   "metadata": {},
   "outputs": [
    {
     "name": "stdout",
     "output_type": "stream",
     "text": [
      "Loading data/raw/shoestring_recipes.pickle for consumption...\n"
     ]
    }
   ],
   "source": [
    "shoestring_recipes0 = load_pickle(\"data/raw/shoestring_recipes.pickle\")"
   ]
  },
  {
   "cell_type": "code",
   "execution_count": 6,
   "id": "eeb9b28a",
   "metadata": {},
   "outputs": [],
   "source": [
    "shoestring_recipes = copy.deepcopy(shoestring_recipes0)"
   ]
  },
  {
   "cell_type": "code",
   "execution_count": 7,
   "id": "776ac998",
   "metadata": {},
   "outputs": [
    {
     "data": {
      "text/plain": [
       "['https://glutenfreeonashoestring.com/d-y-friday-homemade-hot-chocolate-mix/',\n",
       " 'https://glutenfreeonashoestring.com/gluten-free-carrot-cake-cupcakes/',\n",
       " 'https://glutenfreeonashoestring.com/gluten-free-strawberry-shortcake/',\n",
       " 'https://glutenfreeonashoestring.com/',\n",
       " 'https://glutenfreeonashoestring.com/vegan-gluten-free-muffins/']"
      ]
     },
     "execution_count": 7,
     "metadata": {},
     "output_type": "execute_result"
    }
   ],
   "source": [
    "list(shoestring_recipes.keys())[:5]"
   ]
  },
  {
   "cell_type": "code",
   "execution_count": 10,
   "id": "b37f5b0c",
   "metadata": {},
   "outputs": [],
   "source": [
    "urls = list(shoestring_recipes.keys())"
   ]
  },
  {
   "cell_type": "code",
   "execution_count": 75,
   "id": "f2e6c570",
   "metadata": {},
   "outputs": [],
   "source": [
    "recipe_instructions = {}\n",
    "\n",
    "for recipe in shoestring_recipes:\n",
    "    if shoestring_recipes[recipe] is not None:\n",
    "        for key in shoestring_recipes[recipe].keys():\n",
    "            instructions = \"\"\n",
    "            for nbr in range(0,len(shoestring_recipes[recipe][key][\"recipeInstructions\"])-1):\n",
    "                try:\n",
    "                    if \"text\" in list(shoestring_recipes[recipe][key][\"recipeInstructions\"][nbr].keys()):\n",
    "                        instructions += shoestring_recipes[recipe][key][\"recipeInstructions\"][nbr]['text'] + \"\\n\"\n",
    "                    elif \"itemListElement\" in list(shoestring_recipes[recipe][key][\"recipeInstructions\"][nbr].keys()):\n",
    "                        for item in shoestring_recipes[recipe][key][\"recipeInstructions\"][nbr][\"itemListElement\"]:\n",
    "                            instructions += item[\"text\"] + \"\\n\"\n",
    "                except:\n",
    "                    pass\n",
    "            recipe_instructions[key] = instructions"
   ]
  },
  {
   "cell_type": "code",
   "execution_count": null,
   "id": "00ddf91d",
   "metadata": {},
   "outputs": [],
   "source": [
    "recipe_instructions"
   ]
  },
  {
   "cell_type": "code",
   "execution_count": 31,
   "id": "2c5dee1a",
   "metadata": {},
   "outputs": [
    {
     "name": "stdout",
     "output_type": "stream",
     "text": [
      "To make either mix, combine all the ingredients for that mix, except for the miniature marshmallows, in a large bowl and whisk to combine. Transfer each separately to a 16-ounce container with a lid, and cover until ready to use.\n",
      "Store sealed at cool room temperature (a dark pantry works well) for up to 2 weeks until ready to use. For longer storage, store in the freezer.\n",
      "Place 2 to 3 tablespoons of either mix in a mug. Heat the milk to about 180°F in a small saucepan or the microwave.\n",
      "Stir the hot milk into the mug with the dry mix, whisking constantly until completely combined. Sprinkle with the optional miniature marshmallows and serve immediately.\n",
      "This method produces a thinner hot chocolate, but in moments.\n",
      "Place the 3 tablespoons of either mix and 1 cup milk in a small, heavy-bottom saucepan. Whisk to combine well.\n",
      "Place over medium-high heat and bring to a boil, stirring constantly. Reduce the heat to medium and continue to simmer gently, stirring occasionally, until the mixture just begins to thicken.\n",
      "Pour into a mug, sprinkle with the optional miniature marshmallows and serve immediately.\n"
     ]
    }
   ],
   "source": [
    "for recipe in shoestring_recipes:\n",
    "    for instruction in shoestring_recipes[\n",
    "        urls[0]\n",
    "    ]['Homemade Gluten Free Hot Chocolate Mix [White Chocolate &amp; Dairy Free Options]'][\"recipeInstructions\"]:\n",
    "        if \"text\" in list(instruction.keys()):\n",
    "            print(instruction['text'])\n",
    "        elif \"itemListElement\" in list(instruction.keys()):\n",
    "            for item in instruction[\"itemListElement\"]:\n",
    "                print(item[\"text\"])"
   ]
  },
  {
   "cell_type": "code",
   "execution_count": 521,
   "id": "bc9ebdf8",
   "metadata": {},
   "outputs": [],
   "source": [
    "recipe_dict = {}\n",
    "\n",
    "for recipe in shoestring_recipes:\n",
    "    try:\n",
    "        for key in shoestring_recipes[recipe].keys():\n",
    "            recipe_dict[key] = shoestring_recipes[recipe][key][\"recipeIngredient\"]\n",
    "    except:\n",
    "        pass"
   ]
  },
  {
   "cell_type": "code",
   "execution_count": 503,
   "id": "35d4f941",
   "metadata": {},
   "outputs": [],
   "source": [
    "from src.features.clean_data import recipe_ingredient_dict"
   ]
  },
  {
   "cell_type": "code",
   "execution_count": 504,
   "id": "92cabb83",
   "metadata": {},
   "outputs": [],
   "source": [
    "recipe_dict = recipe_ingredient_dict(shoestring_recipes)"
   ]
  },
  {
   "cell_type": "code",
   "execution_count": null,
   "id": "f1e53722",
   "metadata": {},
   "outputs": [],
   "source": [
    "recipe_dict"
   ]
  },
  {
   "cell_type": "code",
   "execution_count": null,
   "id": "854a5e71",
   "metadata": {},
   "outputs": [],
   "source": [
    "print(len(recipe_dict.keys()))\n",
    "print(recipe_dict)"
   ]
  },
  {
   "cell_type": "code",
   "execution_count": 427,
   "id": "30d7c504",
   "metadata": {},
   "outputs": [
    {
     "data": {
      "text/plain": [
       "['2 1/4 cups all purpose gluten free flour blend',\n",
       " '1 teaspoon xanthan gum (omit if your blend already contains it)',\n",
       " '1 teaspoon baking soda']"
      ]
     },
     "execution_count": 427,
     "metadata": {},
     "output_type": "execute_result"
    }
   ],
   "source": [
    "shoestring_recipes[\n",
    "    'https://glutenfreeonashoestring.com/gluten-free-carrot-cake-cupcakes/'\n",
    "]['Fluffy, Tender, and Easy Gluten Free Carrot Cake (or Cupcakes!)'\n",
    " ][\"recipeIngredient\"][:3]"
   ]
  },
  {
   "cell_type": "code",
   "execution_count": 431,
   "id": "67c0ed0e",
   "metadata": {},
   "outputs": [],
   "source": [
    "import re\n",
    "import nltk\n",
    "from nltk.tokenize import word_tokenize\n",
    "from nltk.tag import pos_tag\n",
    "# add numbers together\n",
    "from fractions import Fraction"
   ]
  },
  {
   "cell_type": "code",
   "execution_count": 260,
   "id": "76181440",
   "metadata": {},
   "outputs": [],
   "source": [
    "# nltk.download('punkt')\n",
    "# nltk.download('averaged_perceptron_tagger')"
   ]
  },
  {
   "cell_type": "code",
   "execution_count": 268,
   "id": "4fbfd3ee",
   "metadata": {},
   "outputs": [],
   "source": [
    "# for single recipe and single \n",
    "recipe_dict_test = copy.deepcopy(recipe_dict)"
   ]
  },
  {
   "cell_type": "code",
   "execution_count": 428,
   "id": "e67a74e9",
   "metadata": {},
   "outputs": [],
   "source": [
    "ingredients_pos = []\n",
    "\n",
    "# POS tagging for ingredients list\n",
    "for ingredient in list(recipe_dict_test.values())[1]:\n",
    "    ingredients_pos.append(pos_tagging(ingredient))"
   ]
  },
  {
   "cell_type": "code",
   "execution_count": 430,
   "id": "624e5822",
   "metadata": {},
   "outputs": [
    {
     "data": {
      "text/plain": [
       "[[('2', 'CD'),\n",
       "  ('1/4', 'CD'),\n",
       "  ('cups', 'NNS'),\n",
       "  ('all', 'DT'),\n",
       "  ('purpose', 'VBP'),\n",
       "  ('gluten', 'NNS'),\n",
       "  ('free', 'JJ'),\n",
       "  ('flour', 'NNS'),\n",
       "  ('blend', 'VBP')],\n",
       " [('1', 'CD'), ('teaspoon', 'NN'), ('xanthan', 'CD'), ('gum', 'NN')],\n",
       " [('1', 'CD'), ('teaspoon', 'NN'), ('baking', 'NN'), ('soda', 'NN')],\n",
       " [('1', 'CD'),\n",
       "  ('1/2', 'CD'),\n",
       "  ('teaspoons', 'NNS'),\n",
       "  ('baking', 'VBG'),\n",
       "  ('powder', 'NN')],\n",
       " [('1/2', 'CD'), ('teaspoon', 'NN'), ('kosher', 'NN'), ('salt', 'NN')],\n",
       " [('2', 'CD'), ('teaspoons', 'NNS'), ('ground', 'NN'), ('cinnamon', 'NN')],\n",
       " [('3/4', 'CD'), ('cup', 'NN'), ('granulated', 'VBD'), ('sugar', 'NN')],\n",
       " [('1/2', 'CD'),\n",
       "  ('cup', 'NN'),\n",
       "  ('packed', 'VBD'),\n",
       "  ('light', 'JJ'),\n",
       "  ('brown', 'NN'),\n",
       "  ('sugar', 'NN')],\n",
       " [('1/2', 'CD'), ('cup', 'JJ'), ('neutral', 'JJ'), ('oil', 'NN')],\n",
       " [('4', 'CD'), ('eggs', 'NNS')],\n",
       " [('1', 'CD'),\n",
       "  ('teaspoon', 'NN'),\n",
       "  ('apple', 'NN'),\n",
       "  ('cider', 'NN'),\n",
       "  ('vinegar', 'NN')],\n",
       " [('1/2', 'CD'), ('cup', 'NN'), ('milk', 'NN')],\n",
       " [('1/2', 'CD'), ('cup', 'NN'), ('chopped', 'VBD'), ('pecans', 'NNS')],\n",
       " [('1/2', 'CD'),\n",
       "  ('cup', 'JJ'),\n",
       "  ('white', 'JJ'),\n",
       "  ('chocolate', 'NN'),\n",
       "  ('chips', 'NNS')],\n",
       " [('3', 'CD'),\n",
       "  ('cups', 'NNS'),\n",
       "  ('peeled', 'VBD'),\n",
       "  ('and', 'CC'),\n",
       "  ('grated', 'VBD'),\n",
       "  ('carrots', 'NNS')],\n",
       " [('8', 'CD'), ('ounces', 'NNS'), ('cream', 'VBP'), ('cheese', 'NN')],\n",
       " [('8', 'CD'), ('tablespoons', 'NNS'), ('unsalted', 'JJ'), ('butter', 'NN')],\n",
       " [('1/4', 'CD'), ('teaspoon', 'NN'), ('kosher', 'NN'), ('salt', 'NN')],\n",
       " [('4', 'CD'),\n",
       "  ('cups', 'NNS'),\n",
       "  ('confectioners', 'NNS'),\n",
       "  ('’', 'VBP'),\n",
       "  ('sugar', 'NN')]]"
      ]
     },
     "execution_count": 430,
     "metadata": {},
     "output_type": "execute_result"
    }
   ],
   "source": [
    "ingredients_pos"
   ]
  },
  {
   "cell_type": "code",
   "execution_count": 353,
   "id": "d7944f6e",
   "metadata": {},
   "outputs": [
    {
     "name": "stdout",
     "output_type": "stream",
     "text": [
      "{'old_key': 'value', 'new_key': 'value'}\n"
     ]
    }
   ],
   "source": [
    "a_dictionary = {\"old_key\": \"value\"}\n",
    "\n",
    "a_dictionary[\"new_key\"] = a_dictionary[\"old_key\"]\n",
    "\n",
    "print(a_dictionary)"
   ]
  },
  {
   "cell_type": "code",
   "execution_count": 514,
   "id": "f3638ae7",
   "metadata": {},
   "outputs": [
    {
     "data": {
      "text/plain": [
       "142"
      ]
     },
     "execution_count": 514,
     "metadata": {},
     "output_type": "execute_result"
    }
   ],
   "source": [
    "recipe_dict_test = copy.deepcopy(recipe_dict)\n",
    "len(recipe_dict_test)"
   ]
  },
  {
   "cell_type": "code",
   "execution_count": 523,
   "id": "a2fdf8f3",
   "metadata": {},
   "outputs": [
    {
     "name": "stdout",
     "output_type": "stream",
     "text": [
      "142\n"
     ]
    }
   ],
   "source": [
    "clean_recipe_dict = {}\n",
    "\n",
    "# clean recipe title of everything after any non-letter\n",
    "for recipe in list(recipe_dict_test.keys()):\n",
    "    if re.sub(r'[^a-zA-Z ]+', '', recipe) is not \"\":\n",
    "        recipe_new = re.sub(r'[^a-zA-Z ]+', '', recipe)\n",
    "    else:\n",
    "        recipe_new = recipe\n",
    "    clean_recipe_dict[recipe_new] = recipe_dict_test[recipe]\n",
    "\n",
    "print(len(clean_recipe_dict))"
   ]
  },
  {
   "cell_type": "code",
   "execution_count": 524,
   "id": "5d68a2de",
   "metadata": {},
   "outputs": [
    {
     "data": {
      "text/plain": [
       "dict_keys(['Homemade Gluten Free Hot Chocolate Mix White Chocolate amp Dairy Free Options', 'Fluffy Tender and Easy Gluten Free Carrot Cake or Cupcakes', 'Gluten Free Strawberry Shortcake', 'Vegan Gluten Free Muffins  Basic Recipe  MixIn Options', 'Gluten Free Brown Bread', 'Homemade Gluten Free Samoas Girl Scout Cookies', 'Master Gluten Free Scones Recipe', 'Super Fluffy Gluten Free Waffles', 'Classic Gluten Free Falafel Recipe  Healthy  Vegan', 'Gluten Free Cinnamon Rolls', 'Easy Delicious Gluten Free Stir Fry  Homemade Sauce  GF Rice Noodles', 'Homemade Gluten Free Spice Cake  Easy From Scratch Recipe', 'Thin amp Crispy Gluten Free Coconut Cookies Dairy Free Too', 'Gluten Free Hawaiian Rolls  with bread shaping videos', 'Flourless Chocolate Cookies  Crispy Chewy Naturally Gluten Free', 'Easy Gluten Free White Sandwich Bread Recipe  Tender and Springy', 'Homemade Protein Bars', 'Gluten Free Apple Bread  Moist Spicy and Tender with Apple Butter', 'Basic Gluten Free Pizza Dough', 'Classic Gluten Free Corn Muffins  MakeAhead Mix Recipe', 'Classic Gluten Free Pound Cake  Basic Recipe and More', 'Extra Flaky Gluten Free Pie Crust', 'Gluten Free Coconut Macaroons Crispy Chewy amp Dairy Free', 'Best Vanilla Gluten Free Biscotti Easy amp Delicious', 'Gluten Free Slow Cooker Meatballs  Perfect Crockpot Dinner', 'Unbeatable Gluten Free Peanut Butter Blossom Cookies', 'Super Simple Ingredient Gluten Free Pudding Mix Recipe  Chocolate or Vanilla', 'How to Make Gluten Free Ladyfingers From Scratch  Perfect Every Time', 'Easy amp Fluffy Gluten Free Pancakes Recipe  Homemade Mix', 'The Very Best Gluten Free Vanilla Cake Recipe', 'Classic Gluten Free British Shortbread  Baked in a Pan', 'Almond Flour Peanut Butter Cookies', 'Gluten Free Sausage Balls', 'Easy Gluten Free Green Bean Casserole  No Canned Soup', 'Gluten Free Lo Mein', 'Foolproof Gluten Free Marshmallow Fudge Recipe With Easy Homemade Fluff', 'Homemade Gluten Free Rice A Roni   Minutes from Scratch', 'Gluten Free Red Velvet Chocolate Chip Cookies  Soft amp Chewy', 'Gluten Free World Peace Cookies  Tastiest Chocolate Cookies Ever Vegan Option', 'Gluten Free Pecan Pie', 'Oat Flour Chocolate Chip Cookies  Naturally Gluten Free', 'Gluten Free Marble Bundt Cake', 'Gluten Free Cream of Mushroom Soup', 'The Best Gluten Free Thumbprint Cookies Soft amp Buttery', 'Gluten Free Pumpkin Pancakes', 'The Best Gluten Free Challah Bread Recipe', 'Master Gluten Free Granola Recipe  Easy Customizable Delicious', 'Soft Pumpkin Chocolate Chip Cookies', 'Oatmeal Breakfast Cookies The Best OntheGo Healthy Breakfast', 'Soft Gluten Free Brownie Cookies', 'BakeryStyle Gluten Free Blueberry Muffins', 'Easy Gluten Free Chicken Tenders Crispy Juicy amp Healthy', 'The Best Enchilada Sauce Smoky Authentic Flavor', 'Easy Gluten Free Lemon Cookies Recipe They Melt in Your Mouth', 'Easy Gluten Free Coffee Cake Recipe  Extramoist with sour cream', 'The Best Gluten Free Stuffing for Thanksgiving  So Savory', 'Gluten Free Carrot Muffins', 'How To Make Gluten Free Buttermilk Biscuits  Extra Flaky', 'Peanut Butter No Bake Bars  Easy Delicious Gluten Free', 'Delicious Gluten Free Gravy  For Holidays and More', 'Chewy Gluten Free Brownies', 'Gluten Free Trifle with Gluten Free Custard', 'Gluten Free Peach Crisp', 'Easy  Cheesy Stovetop Gluten Free Macaroni  Cheese', 'Gluten Free Flour Tortillas', 'Gluten Free Blondies Applebees copycat', 'Flourless Chocolate Peanut Butter Muffins  A Magical Recipe', 'One Bowl Gluten Free Banana Bread Moist and Delicious', 'BEST Gluten Free Peanut Butter Cookies Ever', 'How to make ice cream without cream', 'Gluten Free Strawberry Cake  Real Roasted Strawberries', 'Edible Gluten Free Cookie Dough Recipe', 'Gluten Free Apple Crisp', 'Soft and Chewy Gluten Free Chocolate Chip Cookies', 'Gluten Free Tacos  With Chicken', 'Chocolate No Bake Oatmeal Cookies', 'Gluten Free Savory Muffins', 'Gluten Free Tart Crust  Savory Tomato Tart', 'Homemade Gluten Free Oreos', 'Gluten Free Cheese Scones', 'Gluten Free Hot Cross Buns', 'Gluten Free Biscuit Recipe Without Xanthan Gum', 'Gluten Free Angel Food Cake  Light amp Fluffy', 'Gluten Free Lemon Cake Olive Garden Copycat', 'Gluten Free Dinner Rolls', 'Gluten Free Ice Cream Cones', 'Gluten Free Chocolate Chip Muffins', 'Authentic Gluten Free Calzones', 'Classic Gluten Free Irish Soda Bread  Lightly Sweet', 'Old Fashioned Gluten Free Cornbread  the original best recipe', 'Magic Gluten Free Blondies', 'Gluten Free Pastry Flour', 'Gluten Free Brioche Bread', 'Gluten Free Gingerbread Men Cookies  Soft Chewy PerfectlySpiced', 'Gluten Free Pumpkin Muffins  Quick amp Easy with chocolate chips', 'Gluten Free Shortbread Cookies Recipe  Varieties', 'Classic Gluten Free Red Velvet Cake', 'Perfectly Spiced Gluten Free Gingerbread Cake', 'White Gluten Free Fruit Cake', 'Gluten Free Apple Fritters', 'Creamy Comforting Gluten Free Chicken Pot Pie', 'Gluten Free Plain Bagels', 'Gluten Free White Chocolate Macadamia Nut Cookies', 'The Best Gluten Free Empanada Dough', 'Crispy Crunchy Gluten Free Gingersnaps  they snap', 'Easy Gluten Free Pumpkin Bread Recipe  Tender and Scrumptious', 'Gluten Free French Bread', 'The Best Gluten Free Strawberry Cupcakes', 'The Best Gluten Free Chocolate Cake Recipe  Just One Bowl', 'Gluten Free Molasses Cookies  Soft and Chewy', 'Gluten Free Zucchini Bread  Moist Tender Naturally DairyFree', 'Easy Gluten Free Artisan Bread  Your Everyday GF Loaf', 'Thick and Chewy Classic Gluten Free Oatmeal Cookies', 'Plain Flourless Peanut Butter Cookies', 'Best Gluten Free Sugar Cookie  Cut Out Cookies for Celebrations', 'Savory Gluten Free Irish Soda Bread  The Simplest GF Bread', 'The BEST Gluten Free Chocolate Chip Cookies', 'Gluten Free Chocolate Kiss Cookies  Peanut Butter Optional', 'Gluten Free Apple Slab Pie', 'Gluten Free Japanese Milk Bread', 'Gluten Free Buns for Hamburgers and Sandwiches', 'Gluten Free Naan Bread', 'Gluten Free Chocolate Chip Monster Cookies  no rice flour', 'Classic Gluten Free Cheesecake  Oven or Instant Pot', 'Classic Gluten Free Banana Muffins  Easy OneBowl Recipe', 'Easy Gluten Free Muffins Recipe  Mixins welcome', ' Ingredient Oatmeal Cookies No Bananas or Added Sugar', 'Gluten Free Apple Crumble', 'Gluten Free Snowball Cookies  they melt in your mouth', 'Gluten Free Snickerdoodles', 'Gluten Free Graham Crackers  Just Like Nabisco', 'Fluffy Coconut Flour Pancakes', 'Easy Minute Gluten Free Drop Biscuits', 'Gluten Free Puff Pastry  Authentic Simple Endlessly Flaky', 'Chunky Gluten Free Apple Muffins', 'Gluten Free Pita Bread', 'Gluten Free Chocolate Lava Cakes', 'Gluten Free King Cake for Mardi Gras', 'Fluffy Gluten Free Chocolate Chip Pancakes', 'Fruit Newtonstyle Cookies', 'Gluten Free Lemon Chicken ChineseStyle', 'Simple Gluten Free Cheese Crackers'])"
      ]
     },
     "execution_count": 524,
     "metadata": {},
     "output_type": "execute_result"
    }
   ],
   "source": [
    "clean_recipe_dict.keys()"
   ]
  },
  {
   "cell_type": "code",
   "execution_count": 516,
   "id": "3f075d54",
   "metadata": {},
   "outputs": [
    {
     "data": {
      "text/plain": [
       "'4 cups confectioners’ sugar (plus more as necessary)'"
      ]
     },
     "execution_count": 516,
     "metadata": {},
     "output_type": "execute_result"
    }
   ],
   "source": [
    "new_recipe_dict[\n",
    "    'Fluffy Tender and Easy Gluten Free Carrot Cake or Cupcakes'\n",
    "][-1]"
   ]
  },
  {
   "cell_type": "code",
   "execution_count": 517,
   "id": "c3781f6c",
   "metadata": {},
   "outputs": [],
   "source": [
    "# cleans ingredients\n",
    "# TODO: remove apostrophes - isn't working so maybe not an apostrophe??\n",
    "# might have to clean it by hand\n",
    "for recipe in clean_recipe_dict:\n",
    "    clean_recipe_dict[recipe] = [\n",
    "        ingredient.split(\"(\")[0].rstrip() for ingredient in clean_recipe_dict[recipe]\n",
    "    ]\n",
    "    clean_recipe_dict[recipe] = [\n",
    "        ingredient.replace(\"'\", \"\") for ingredient in clean_recipe_dict[recipe]\n",
    "    ]"
   ]
  },
  {
   "cell_type": "code",
   "execution_count": 518,
   "id": "a0eeea87",
   "metadata": {},
   "outputs": [
    {
     "data": {
      "text/plain": [
       "'4 cups confectioners’ sugar'"
      ]
     },
     "execution_count": 518,
     "metadata": {},
     "output_type": "execute_result"
    }
   ],
   "source": [
    "clean_recipe_dict[\n",
    "    'Fluffy Tender and Easy Gluten Free Carrot Cake or Cupcakes'\n",
    "][-1]"
   ]
  },
  {
   "cell_type": "code",
   "execution_count": null,
   "id": "f71a59c5",
   "metadata": {},
   "outputs": [],
   "source": [
    "# POS tagging for ingredients list\n",
    "recipe_dict_test = copy.deepcopy(clean_recipe_dict)"
   ]
  },
  {
   "cell_type": "code",
   "execution_count": 450,
   "id": "3835ce1f",
   "metadata": {},
   "outputs": [],
   "source": [
    "ingredients_pos = {}\n",
    "\n",
    "for recipe in recipe_dict_test:\n",
    "    ingredients_list_pos = []\n",
    "\n",
    "    for ingredient in recipe_dict_test[recipe]:\n",
    "        ingredients_list_pos.append(pos_tagging(ingredient))\n",
    "\n",
    "    ingredients_pos[recipe] = ingredients_list_pos"
   ]
  },
  {
   "cell_type": "code",
   "execution_count": null,
   "id": "4afae257",
   "metadata": {},
   "outputs": [],
   "source": [
    "print(len(ingredients_pos.keys()))\n",
    "print(ingredients_pos)"
   ]
  },
  {
   "cell_type": "code",
   "execution_count": 456,
   "id": "a9ebaf21",
   "metadata": {},
   "outputs": [],
   "source": [
    "ingredients_pos = {}\n",
    "\n",
    "for recipe in clean_recipe_dict:\n",
    "    ingredients_list_pos = []\n",
    "\n",
    "    for ingredient in clean_recipe_dict[recipe]:\n",
    "        ingredients_list_pos.append(pos_tagging(ingredient))\n",
    "\n",
    "    # For each ingredient in an ingredients list\n",
    "    for ingredient in range(0,len(ingredients_list_pos)):\n",
    "        remove_index = []\n",
    "        final_nbr = 0\n",
    "        sum_nbr = 0\n",
    "        nbr_cd = 0\n",
    "        # For each POS of an ingredient\n",
    "        for pos in ingredients_list_pos[ingredient]:\n",
    "            # If it's a quantity\n",
    "            if pos[1] == \"CD\":\n",
    "                # Get index of POS\n",
    "                pos_index = ingredients_list_pos[ingredient].index(pos)\n",
    "                # Turn quantity to a real number\n",
    "                try:\n",
    "                    final_nbr += Fraction(pos[0])\n",
    "                    round_nbr = round(\n",
    "                        final_nbr.numerator / final_nbr.denominator, 2\n",
    "                    )\n",
    "                    new_pos = (round_nbr, \"CD\")\n",
    "                    # Set old POS as new\n",
    "                    ingredients_list_pos[ingredient][pos_index] = new_pos\n",
    "                    # Track number of POS quantities related to this ingredient\n",
    "                    nbr_cd += 1\n",
    "                    # If multiple quantity POS's related to ingredient\n",
    "                    if nbr_cd > 1:\n",
    "                        # Remove previous quantity\n",
    "                        ingredients_list_pos[ingredient].pop(pos_index-1)\n",
    "                except:\n",
    "                    pass\n",
    "\n",
    "    ingredients_pos[recipe] = ingredients_list_pos"
   ]
  },
  {
   "cell_type": "code",
   "execution_count": 497,
   "id": "023f1cb3",
   "metadata": {},
   "outputs": [
    {
     "name": "stdout",
     "output_type": "stream",
     "text": [
      "['2.25 cups all purpose gluten free flour blend', '1.0 teaspoon xanthan gum', '1.0 teaspoon baking soda', '1.5 teaspoons baking powder', '0.5 teaspoon kosher salt', '2.0 teaspoons ground cinnamon', '0.75 cup granulated sugar', '0.5 cup packed light brown sugar', '0.5 cup neutral oil', '4.0 eggs', '1.0 teaspoon apple cider vinegar', '0.5 cup milk', '0.5 cup chopped pecans', '0.5 cup white chocolate chips', '3.0 cups peeled and grated carrots', '8.0 ounces cream cheese', '8.0 tablespoons unsalted butter', '0.25 teaspoon kosher salt', '4.0 cups confectioners ’ sugar']\n"
     ]
    }
   ],
   "source": [
    "my_recipe = ingredients_pos[\"Fluffy Tender and Easy Gluten Free Carrot Cake or Cupcakes\"]\n",
    "recipe_pos = {}\n",
    "\n",
    "for recipe in ingredients_pos:\n",
    "    ingredients = []\n",
    "\n",
    "    for ingredient in ingredients_pos[recipe]:\n",
    "        ingredient_full = []\n",
    "        for item in ingredient:\n",
    "            ingredient_full.append(str(item[0]))\n",
    "\n",
    "        ingredients.append(\" \".join(ingredient_full).rstrip())\n",
    "\n",
    "    recipe_pos[recipe] = ingredients\n",
    "\n",
    "print(recipe_pos[\"Fluffy Tender and Easy Gluten Free Carrot Cake or Cupcakes\"])"
   ]
  },
  {
   "cell_type": "code",
   "execution_count": 532,
   "id": "e51a1269",
   "metadata": {},
   "outputs": [],
   "source": [
    "from src.features.clean_data import (clean_recipe_title, recipe_ingredient_dict,\n",
    "                                     clean_recipe_ingredients, format_ingredients, pos_tuples_to_list)"
   ]
  },
  {
   "cell_type": "code",
   "execution_count": 539,
   "id": "ae799a61",
   "metadata": {},
   "outputs": [],
   "source": [
    "shoestring_recipes = copy.deepcopy(shoestring_recipes0)"
   ]
  },
  {
   "cell_type": "code",
   "execution_count": 529,
   "id": "fc0b6c00",
   "metadata": {},
   "outputs": [
    {
     "name": "stdout",
     "output_type": "stream",
     "text": [
      "['3/4 cup unsweetened cocoa powder ((preferably Dutch-processed))', '1/2 cup powdered milk', '2 teaspoons gluten free sweet rice flour', '1/2 teaspoon kosher salt', '3/4 cup granulated sugar', '2 ounces bittersweet chocolate, at cool room temperature (finely grated or pulsed in blender or food processor (optional))', '1/3 cup powdered milk', '1 1/2 teaspoons gluten free sweet rice flour', '1/2 teaspoon kosher salt', '1/4 cup granulated sugar', '4 ounces white chocolate, at cool room temperature (finely grated or pulsed in blender or food processor)', '3 tablespoons dry mix', '1 cup milk', 'Miniature marshmallows (for serving (optional))']\n"
     ]
    }
   ],
   "source": [
    "recipe_dict = recipe_ingredient_dict(shoestring_recipes)\n",
    "print(recipe_dict['Homemade Gluten Free Hot Chocolate Mix [White Chocolate &amp; Dairy Free Options]'])"
   ]
  },
  {
   "cell_type": "code",
   "execution_count": 530,
   "id": "f2261e3e",
   "metadata": {},
   "outputs": [],
   "source": [
    "recipe_dict_clean_titles = clean_recipe_title(recipe_dict)\n",
    "print(recipe_dict_clean_titles.keys())"
   ]
  },
  {
   "cell_type": "code",
   "execution_count": 533,
   "id": "9b51d651",
   "metadata": {},
   "outputs": [],
   "source": [
    "recipe_dict_clean_ingredients = clean_recipe_ingredients(recipe_dict_clean_titles)\n",
    "print(recipe_dict_clean_ingredients[\"Homemade Gluten Free Hot Chocolate Mix White Chocolate amp Dairy Free Options\"])"
   ]
  },
  {
   "cell_type": "code",
   "execution_count": null,
   "id": "18edaf7b",
   "metadata": {},
   "outputs": [],
   "source": [
    "recipe_dict_format_ingredients = format_ingredients(recipe_dict_clean_ingredients)\n",
    "print(recipe_dict_format_ingredients[\"Homemade Gluten Free Hot Chocolate Mix White Chocolate amp Dairy Free Options\"])"
   ]
  },
  {
   "cell_type": "code",
   "execution_count": 536,
   "id": "fa789852",
   "metadata": {},
   "outputs": [
    {
     "name": "stdout",
     "output_type": "stream",
     "text": [
      "['0.75 cup unsweetened cocoa powder', '0.5 cup powdered milk', '2.0 teaspoons gluten free sweet rice flour', '0.5 teaspoon kosher salt', '0.75 cup granulated sugar', '2.0 ounces bittersweet chocolate , at cool room temperature', '0.33 cup powdered milk', '1.5 teaspoons gluten free sweet rice flour', '0.5 teaspoon kosher salt', '0.25 cup granulated sugar', '4.0 ounces white chocolate , at cool room temperature', '3.0 tablespoons dry mix', '1.0 cup milk', 'Miniature marshmallows']\n"
     ]
    }
   ],
   "source": [
    "recipe_dict_ingredients_list = pos_tuples_to_list(recipe_dict_format_ingredients)\n",
    "print(recipe_dict_ingredients_list[\"Homemade Gluten Free Hot Chocolate Mix White Chocolate amp Dairy Free Options\"])"
   ]
  },
  {
   "cell_type": "code",
   "execution_count": 537,
   "id": "efe78b78",
   "metadata": {},
   "outputs": [
    {
     "data": {
      "text/plain": [
       "142"
      ]
     },
     "execution_count": 537,
     "metadata": {},
     "output_type": "execute_result"
    }
   ],
   "source": [
    "len(recipe_dict_ingredients_list)"
   ]
  },
  {
   "cell_type": "code",
   "execution_count": 541,
   "id": "0a3f3078",
   "metadata": {},
   "outputs": [
    {
     "name": "stderr",
     "output_type": "stream",
     "text": [
      "[nltk_data] Downloading package punkt to /home/ec2-user/nltk_data...\n",
      "[nltk_data]   Package punkt is already up-to-date!\n",
      "[nltk_data] Downloading package averaged_perceptron_tagger to\n",
      "[nltk_data]     /home/ec2-user/nltk_data...\n",
      "[nltk_data]   Package averaged_perceptron_tagger is already up-to-\n",
      "[nltk_data]       date!\n"
     ]
    }
   ],
   "source": [
    "from src.features.clean_shoestring_data import clean_shoestring_recipes"
   ]
  },
  {
   "cell_type": "code",
   "execution_count": 542,
   "id": "cbd4e1e9",
   "metadata": {},
   "outputs": [],
   "source": [
    "recipe_dict = clean_shoestring_recipes(shoestring_recipes)"
   ]
  },
  {
   "cell_type": "markdown",
   "id": "d6e58ceb",
   "metadata": {},
   "source": [
    "# Next steps\n",
    "\n",
    "- See what form data needs to be in for model and do that\n",
    "- Remove untagged words"
   ]
  },
  {
   "cell_type": "markdown",
   "id": "030e11f9",
   "metadata": {},
   "source": [
    "POS tag list:\n",
    "\n",
    "POS_tag | definiton\n",
    "- | -\n",
    "CC | coordinating conjunction\n",
    "CD | cardinal digit\n",
    "DT | determiner\n",
    "EX | existential there (like: \"there is\" ... think of it like \"there exists\")\n",
    "FW | foreign word\n",
    "IN | preposition/subordinating conjunction\n",
    "JJ | adjective 'big'\n",
    "JJR | adjective, comparative 'bigger'\n",
    "JJS | adjective, superlative 'biggest'\n",
    "LS | list marker 1)\n",
    "MD | modal could, will\n",
    "NN | noun, singular 'desk'\n",
    "NNS | noun plural 'desks'\n",
    "NNP | proper noun, singular 'Harrison'\n",
    "NNPS | proper noun, plural 'Americans'\n",
    "PDT | predeterminer 'all the kids'\n",
    "POS | possessive ending parent's\n",
    "PRP | personal pronoun I, he, she\n",
    "PRP$ | possessive pronoun my, his, hers\n",
    "RB | adverb very, silently,\n",
    "RBR | adverb, comparative better\n",
    "RBS | adverb, superlative best\n",
    "RP | particle give up\n",
    "TO | to go 'to' the store.\n",
    "UH | interjection errrrrrrrm\n",
    "VB | verb, base form take\n",
    "VBD | verb, past tense took\n",
    "VBG | verb, gerund/present participle taking\n",
    "VBN | verb, past participle taken\n",
    "VBP | verb, sing. present, non-3d take\n",
    "VBZ | verb, 3rd person sing. present takes\n",
    "WDT | wh-determiner which\n",
    "WP | wh-pronoun who, what\n",
    "WP$ | possessive wh-pronoun whose\n",
    "WRB | wh-abverb where, when"
   ]
  },
  {
   "cell_type": "code",
   "execution_count": null,
   "id": "52a92c88",
   "metadata": {},
   "outputs": [],
   "source": []
  }
 ],
 "metadata": {
  "kernelspec": {
   "display_name": "conda_tensorflow2_p310",
   "language": "python",
   "name": "conda_tensorflow2_p310"
  },
  "language_info": {
   "codemirror_mode": {
    "name": "ipython",
    "version": 3
   },
   "file_extension": ".py",
   "mimetype": "text/x-python",
   "name": "python",
   "nbconvert_exporter": "python",
   "pygments_lexer": "ipython3",
   "version": "3.10.8"
  }
 },
 "nbformat": 4,
 "nbformat_minor": 5
}
