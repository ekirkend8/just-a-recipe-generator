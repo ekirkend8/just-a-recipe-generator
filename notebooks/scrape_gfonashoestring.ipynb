{
 "cells": [
  {
   "cell_type": "code",
   "execution_count": 1,
   "id": "96e5fe97",
   "metadata": {},
   "outputs": [],
   "source": [
    "# https://www.geeksforgeeks.org/scrape-google-search-results-using-python-beautifulsoup/\n",
    "# https://practicaldatascience.co.uk/data-science/how-to-scrape-google-search-results-using-python"
   ]
  },
  {
   "cell_type": "code",
   "execution_count": null,
   "id": "274a280a",
   "metadata": {},
   "outputs": [],
   "source": [
    "# !pip install requests_html"
   ]
  },
  {
   "cell_type": "code",
   "execution_count": 88,
   "id": "cb9d151d",
   "metadata": {},
   "outputs": [],
   "source": [
    "import requests\n",
    "import json\n",
    "import bs4\n",
    "from bs4 import BeautifulSoup\n",
    "import urllib\n",
    "import requests\n",
    "import urllib\n",
    "import pandas as pd\n",
    "from requests_html import HTML\n",
    "from requests_html import HTMLSession"
   ]
  },
  {
   "cell_type": "code",
   "execution_count": 16,
   "id": "741337a4",
   "metadata": {},
   "outputs": [],
   "source": [
    "def create_search_url(search, url='https://google.com/search?q='):\n",
    "    search_encoded = urllib.parse.quote_plus(search)\n",
    "    full_url = url + search_encoded\n",
    "\n",
    "    return full_url"
   ]
  },
  {
   "cell_type": "code",
   "execution_count": 5,
   "id": "395c0aa1",
   "metadata": {},
   "outputs": [],
   "source": [
    "def get_source(url):\n",
    "    \"\"\"Return the source code for the provided URL. \n",
    "\n",
    "    Args: \n",
    "        url (string): URL of the page to scrape.\n",
    "\n",
    "    Returns:\n",
    "        response (object): HTTP response object from requests_html. \n",
    "    \"\"\"\n",
    "\n",
    "\n",
    "    try:\n",
    "        session = HTMLSession()\n",
    "        response = session.get(url)\n",
    "        return response\n",
    "\n",
    "    except requests.exceptions.RequestException as e:\n",
    "        print(e)"
   ]
  },
  {
   "cell_type": "code",
   "execution_count": 214,
   "id": "d7ea1f77",
   "metadata": {},
   "outputs": [],
   "source": [
    "def scrape_page_urls(url):\n",
    "    response = get_source(url)\n",
    "    links = list(response.html.absolute_links)\n",
    "\n",
    "    # clean google urls\n",
    "    google_domains = ('https://www.google.', \n",
    "                      'https://google.', \n",
    "                      'https://webcache.googleusercontent.', \n",
    "                      'http://webcache.googleusercontent.', \n",
    "                      'https://policies.google.',\n",
    "                      'https://support.google.',\n",
    "                      'https://maps.google.')\n",
    "\n",
    "    for url in links[:]:\n",
    "        if url.startswith(google_domains):\n",
    "            links.remove(url)\n",
    "\n",
    "    return links"
   ]
  },
  {
   "cell_type": "code",
   "execution_count": 12,
   "id": "44fe80c2",
   "metadata": {},
   "outputs": [
    {
     "name": "stdout",
     "output_type": "stream",
     "text": [
      "['https://www.foodandwine.com/cooking-techniques/baking/fw-editor-picks-19-best-gluten-free-baking-recipes', 'https://www.tasteofhome.com/recipes/gluten-free-snowballs/', 'https://www.tasteofhome.com/collection/gluten-free-baking-recipes/', 'https://heartbeetkitchen.com/gluten-free-dessert-recipes/', 'https://glutenfreebaking.com/recipes/', 'https://thetoastedpinenut.com/gluten-free-dessert-recipes/#breads', 'https://www.foodnetwork.com/recipes/photos/gluten-free-baking', 'https://www.bonappetit.com/recipes/desserts/slideshow/gluten-free-desserts-recipes', 'https://www.bbcgoodfood.com/recipes/collection/gluten-free-baking-recipes', 'https://www.tasteofhome.com/recipes/gluten-free-peanut-butter-blondies/', 'https://www.simplyrecipes.com/a-beginner-s-guide-to-gluten-free-baking-5202979', 'https://thetoastedpinenut.com/gluten-free-dessert-recipes/#bars', 'https://thetoastedpinenut.com/gluten-free-dessert-recipes/#cookies', 'https://thetoastedpinenut.com/gluten-free-dessert-recipes/']\n"
     ]
    }
   ],
   "source": [
    "full_url = create_search_url(\"gluten free baking recipes\")\n",
    "response = get_source(full_url)\n",
    "search_urls = scrape_page_urls(response)\n",
    "print(search_urls)"
   ]
  },
  {
   "cell_type": "code",
   "execution_count": 215,
   "id": "9a69c990",
   "metadata": {},
   "outputs": [
    {
     "name": "stdout",
     "output_type": "stream",
     "text": [
      "['https://glutenfreeonashoestring.com/gluten-free-red-velvet-chocolate-chip-cookies/', 'https://glutenfreeonashoestring.com/about/privacy-policy/', 'https://glutenfreeonashoestring.com/no-bake-gluten-free-bars/', 'https://glutenfreeonashoestring.com/gluten-free-cinnamon-rolls/', 'https://glutenfreeonashoestring.com/brown-bread/']\n"
     ]
    }
   ],
   "source": [
    "# response = get_source('https://glutenfreeonashoestring.com/gluten-free-recipes/')\n",
    "page_urls = scrape_page_urls('https://glutenfreeonashoestring.com/gluten-free-recipes/')\n",
    "print(page_urls[:5])"
   ]
  },
  {
   "cell_type": "code",
   "execution_count": 151,
   "id": "6bab87ec",
   "metadata": {},
   "outputs": [],
   "source": [
    "def get_gf_on_a_shoestring_links(url):\n",
    "    response = get_source('https://glutenfreeonashoestring.com/gluten-free-recipes/')\n",
    "    page_urls = scrape_page_urls(response)\n",
    "    print(f\"\\nRetrieved {len(page_urls)} recipe links\\n\")\n",
    "\n",
    "    return page_urls"
   ]
  },
  {
   "cell_type": "code",
   "execution_count": 206,
   "id": "10d6d9f1",
   "metadata": {},
   "outputs": [],
   "source": [
    "def get_recipe_info(url):\n",
    "    recipe_dict = {}\n",
    "\n",
    "    html = requests.get(url)\n",
    "    soup = BeautifulSoup(html.text, 'lxml')\n",
    "\n",
    "    try:\n",
    "        scripts = [item for item in soup.find(\"script\", {\"class\": \"yoast-schema-graph\"})]\n",
    "        scripts_json = json.loads(scripts[0])\n",
    "\n",
    "        for nbr in range(0, len(scripts_json[\"@graph\"])):\n",
    "            if \"recipeIngredient\" in list(scripts_json[\"@graph\"][nbr].keys()):\n",
    "                recipe_info = scripts_json[\"@graph\"][nbr]\n",
    "                # TODO: use title instead of url\n",
    "                recipe_dict[recipe_info[\"name\"]] = recipe_info\n",
    "\n",
    "                return recipe_dict\n",
    "    except:\n",
    "        recipe_dict.update(url=\"\")"
   ]
  },
  {
   "cell_type": "code",
   "execution_count": null,
   "id": "6d09b348",
   "metadata": {},
   "outputs": [],
   "source": []
  },
  {
   "cell_type": "code",
   "execution_count": 207,
   "id": "afe39a91",
   "metadata": {},
   "outputs": [],
   "source": [
    "recipe_info = {}\n",
    "\n",
    "for url in shoestring_urls:\n",
    "    recipe_info[url] = get_recipe_info(url)"
   ]
  },
  {
   "cell_type": "markdown",
   "id": "681c35a8",
   "metadata": {},
   "source": [
    "## WORKING STUFF"
   ]
  },
  {
   "cell_type": "code",
   "execution_count": 82,
   "id": "8b9df568",
   "metadata": {},
   "outputs": [],
   "source": [
    "html = requests.get('https://glutenfreeonashoestring.com/gluten-free-red-velvet-chocolate-chip-cookies/')\n",
    "soup = BeautifulSoup(html.text, 'lxml')"
   ]
  },
  {
   "cell_type": "code",
   "execution_count": 112,
   "id": "ff4a9f60",
   "metadata": {},
   "outputs": [],
   "source": [
    "scripts = [item for item in soup.find(\"script\", {\"class\": \"yoast-schema-graph\"})]"
   ]
  },
  {
   "cell_type": "code",
   "execution_count": 113,
   "id": "6bf1353c",
   "metadata": {},
   "outputs": [],
   "source": [
    "scripts_json = json.loads(scripts[0])"
   ]
  },
  {
   "cell_type": "code",
   "execution_count": 205,
   "id": "d665ea1d",
   "metadata": {},
   "outputs": [
    {
     "data": {
      "text/plain": [
       "'Gluten Free Red Velvet Chocolate Chip Cookies | Soft &amp; Chewy'"
      ]
     },
     "execution_count": 205,
     "metadata": {},
     "output_type": "execute_result"
    }
   ],
   "source": [
    "scripts_json[\"@graph\"][5][\"name\"]"
   ]
  },
  {
   "cell_type": "code",
   "execution_count": 153,
   "id": "39cf2fbd",
   "metadata": {},
   "outputs": [
    {
     "name": "stdout",
     "output_type": "stream",
     "text": [
      "Retrieved 43 recipe links\n"
     ]
    }
   ],
   "source": [
    "shoestring_urls = get_gf_on_a_shoestring_links('https://glutenfreeonashoestring.com/gluten-free-recipes/')"
   ]
  },
  {
   "cell_type": "code",
   "execution_count": 216,
   "id": "67938623",
   "metadata": {},
   "outputs": [
    {
     "data": {
      "text/plain": [
       "'/home/ec2-user/SageMaker/just-a-recipe-generator'"
      ]
     },
     "execution_count": 216,
     "metadata": {},
     "output_type": "execute_result"
    }
   ],
   "source": [
    "pwd"
   ]
  },
  {
   "cell_type": "code",
   "execution_count": 226,
   "id": "2e960d36",
   "metadata": {},
   "outputs": [
    {
     "name": "stdout",
     "output_type": "stream",
     "text": [
      "\n",
      "Retrieved 43 recipe links\n",
      "\n",
      "\n",
      "Retrieved 37 links\n",
      "\n"
     ]
    }
   ],
   "source": [
    "run src/data/scrape_glutenfreeonashoestring.py"
   ]
  },
  {
   "cell_type": "markdown",
   "id": "d042663d",
   "metadata": {},
   "source": [
    "## Scrape all recipes\n",
    "\n",
    "Need to use selenium or come up with different urls"
   ]
  },
  {
   "cell_type": "code",
   "execution_count": null,
   "id": "09221eeb",
   "metadata": {},
   "outputs": [],
   "source": []
  }
 ],
 "metadata": {
  "kernelspec": {
   "display_name": "conda_tensorflow2_p37",
   "language": "python",
   "name": "conda_tensorflow2_p37"
  },
  "language_info": {
   "codemirror_mode": {
    "name": "ipython",
    "version": 3
   },
   "file_extension": ".py",
   "mimetype": "text/x-python",
   "name": "python",
   "nbconvert_exporter": "python",
   "pygments_lexer": "ipython3",
   "version": "3.7.10"
  }
 },
 "nbformat": 4,
 "nbformat_minor": 5
}
