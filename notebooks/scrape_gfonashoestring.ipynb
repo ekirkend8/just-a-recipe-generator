{
 "cells": [
  {
   "cell_type": "code",
   "execution_count": null,
   "id": "50bffc07",
   "metadata": {},
   "outputs": [],
   "source": [
    "# https://www.geeksforgeeks.org/scrape-google-search-results-using-python-beautifulsoup/\n",
    "# https://practicaldatascience.co.uk/data-science/how-to-scrape-google-search-results-using-python"
   ]
  },
  {
   "cell_type": "code",
   "execution_count": null,
   "id": "f5ab10a5",
   "metadata": {},
   "outputs": [],
   "source": [
    "# !pip install requests_html"
   ]
  },
  {
   "cell_type": "code",
   "execution_count": 37,
   "id": "02937e45",
   "metadata": {},
   "outputs": [
    {
     "name": "stdout",
     "output_type": "stream",
     "text": [
      "The autoreload extension is already loaded. To reload it, use:\n",
      "  %reload_ext autoreload\n"
     ]
    }
   ],
   "source": [
    "%load_ext autoreload\n",
    "%autoreload 2"
   ]
  },
  {
   "cell_type": "code",
   "execution_count": 38,
   "id": "a11ba814",
   "metadata": {},
   "outputs": [
    {
     "name": "stdout",
     "output_type": "stream",
     "text": [
      "/home/ec2-user/SageMaker/just-a-recipe-generator\n"
     ]
    }
   ],
   "source": [
    "cd /home/ec2-user/SageMaker/just-a-recipe-generator/"
   ]
  },
  {
   "cell_type": "code",
   "execution_count": 47,
   "id": "d3fc315c",
   "metadata": {},
   "outputs": [],
   "source": [
    "import requests\n",
    "import json\n",
    "import bs4\n",
    "import pickle\n",
    "from bs4 import BeautifulSoup\n",
    "import urllib\n",
    "import requests\n",
    "import urllib\n",
    "import pandas as pd\n",
    "from requests_html import HTML\n",
    "from requests_html import HTMLSession\n",
    "\n",
    "from src.data.web_scraping import get_source\n",
    "from src.data.scrape_glutenfreeonashoestring import scrape_shoestring_page, scrape_all_shoestring_pages\n",
    "from src.data.pickling import save_pickle"
   ]
  },
  {
   "cell_type": "code",
   "execution_count": null,
   "id": "473a72f4",
   "metadata": {},
   "outputs": [
    {
     "name": "stdout",
     "output_type": "stream",
     "text": [
      "\n",
      "Retrieved 37 links\n",
      "\n",
      "\n",
      "Retrieved 37 links\n",
      "\n",
      "\n",
      "Retrieved 37 links\n",
      "\n"
     ]
    }
   ],
   "source": [
    "all_recipes = scrape_all_shoestring_pages()"
   ]
  },
  {
   "cell_type": "markdown",
   "id": "bd582caa",
   "metadata": {},
   "source": [
    "## Scrape all recipes\n",
    "\n",
    "Need to use selenium or come up with different urls"
   ]
  },
  {
   "cell_type": "markdown",
   "id": "532b9723",
   "metadata": {},
   "source": [
    "### Not using below"
   ]
  },
  {
   "cell_type": "code",
   "execution_count": null,
   "id": "e29b146f",
   "metadata": {},
   "outputs": [],
   "source": [
    "response = get_source(url)"
   ]
  },
  {
   "cell_type": "code",
   "execution_count": null,
   "id": "bea03ef4",
   "metadata": {},
   "outputs": [],
   "source": [
    "html = requests.get(url)\n",
    "soup = BeautifulSoup(html.text, 'lxml')"
   ]
  },
  {
   "cell_type": "code",
   "execution_count": null,
   "id": "22fcb07f",
   "metadata": {},
   "outputs": [],
   "source": [
    "soup.find(\"div\", {\"class\": \"facetwp-facet facetwp-facet-pagination facetwp-type-pager\"})"
   ]
  },
  {
   "cell_type": "code",
   "execution_count": null,
   "id": "e6dcb511",
   "metadata": {},
   "outputs": [],
   "source": [
    "soup.find(\"div\", {\"class\": \"facetwp-pager\"})"
   ]
  },
  {
   "cell_type": "code",
   "execution_count": null,
   "id": "a122aee7",
   "metadata": {},
   "outputs": [],
   "source": [
    "soup_text = str(soup)"
   ]
  },
  {
   "cell_type": "code",
   "execution_count": null,
   "id": "fd9b6e5f",
   "metadata": {},
   "outputs": [],
   "source": [
    "type(soup_text)"
   ]
  },
  {
   "cell_type": "code",
   "execution_count": null,
   "id": "2d59b4f6",
   "metadata": {},
   "outputs": [],
   "source": [
    "\"facetwp-facet\" in soup_text"
   ]
  },
  {
   "cell_type": "code",
   "execution_count": null,
   "id": "058122ee",
   "metadata": {},
   "outputs": [],
   "source": [
    "len(soup_text) / 200"
   ]
  },
  {
   "cell_type": "code",
   "execution_count": null,
   "id": "bc57fd4e",
   "metadata": {},
   "outputs": [],
   "source": [
    "soup_list = []\n",
    "beginning = 0\n",
    "end = 600\n",
    "interval = 200\n",
    "\n",
    "while beginning < len(soup_text):\n",
    "    start = beginning + interval\n",
    "    soup_list.append(soup_text[beginning:start])\n",
    "    beginning = beginning + interval"
   ]
  },
  {
   "cell_type": "code",
   "execution_count": null,
   "id": "2e95b226",
   "metadata": {},
   "outputs": [],
   "source": [
    "len(soup_list)"
   ]
  },
  {
   "cell_type": "code",
   "execution_count": null,
   "id": "c716db79",
   "metadata": {},
   "outputs": [],
   "source": [
    "for item in soup_list:\n",
    "    if \"pagination facetwp-type-pager\" in item:\n",
    "        item_index = soup_list.index(item)\n",
    "        print(item_index, item)"
   ]
  },
  {
   "cell_type": "code",
   "execution_count": null,
   "id": "92d40638",
   "metadata": {},
   "outputs": [],
   "source": [
    "soup_list[503:505]"
   ]
  },
  {
   "cell_type": "code",
   "execution_count": null,
   "id": "55e145c6",
   "metadata": {},
   "outputs": [],
   "source": [
    "709*200"
   ]
  },
  {
   "cell_type": "code",
   "execution_count": null,
   "id": "fd8e8a51",
   "metadata": {},
   "outputs": [],
   "source": [
    "pagination_section = soup_text[100600:101000]\n",
    "print(pagination_section)"
   ]
  },
  {
   "cell_type": "code",
   "execution_count": null,
   "id": "811eb806",
   "metadata": {},
   "outputs": [],
   "source": [
    "pages_section = soup_text[141300:142300]\n",
    "print(pages_section)"
   ]
  },
  {
   "cell_type": "code",
   "execution_count": null,
   "id": "a3212bcb",
   "metadata": {},
   "outputs": [],
   "source": [
    "for item in soup_list:\n",
    "    if \"54\" in item:\n",
    "        item_index = soup_list.index(item)\n",
    "        print(item_index, item)"
   ]
  },
  {
   "cell_type": "code",
   "execution_count": null,
   "id": "63365bcf",
   "metadata": {},
   "outputs": [],
   "source": [
    "# https://betterprogramming.pub/how-to-scrape-multiple-pages-of-a-website-using-a-python-web-scraper-4e2c641cff8"
   ]
  }
 ],
 "metadata": {
  "kernelspec": {
   "display_name": "conda_tensorflow2_p37",
   "language": "python",
   "name": "conda_tensorflow2_p37"
  },
  "language_info": {
   "codemirror_mode": {
    "name": "ipython",
    "version": 3
   },
   "file_extension": ".py",
   "mimetype": "text/x-python",
   "name": "python",
   "nbconvert_exporter": "python",
   "pygments_lexer": "ipython3",
   "version": "3.7.10"
  }
 },
 "nbformat": 4,
 "nbformat_minor": 5
}
