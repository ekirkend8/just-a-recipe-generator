{
 "cells": [
  {
   "cell_type": "code",
   "execution_count": null,
   "id": "849ea0c1",
   "metadata": {},
   "outputs": [],
   "source": [
    "# https://www.geeksforgeeks.org/scrape-google-search-results-using-python-beautifulsoup/\n",
    "# https://practicaldatascience.co.uk/data-science/how-to-scrape-google-search-results-using-python"
   ]
  },
  {
   "cell_type": "code",
   "execution_count": null,
   "id": "f53e7511",
   "metadata": {},
   "outputs": [],
   "source": [
    "# !pip install requests_html"
   ]
  },
  {
   "cell_type": "code",
   "execution_count": 1,
   "id": "be78fd3e",
   "metadata": {},
   "outputs": [],
   "source": [
    "%load_ext autoreload\n",
    "%autoreload 2"
   ]
  },
  {
   "cell_type": "code",
   "execution_count": 2,
   "id": "f7826a9a",
   "metadata": {},
   "outputs": [
    {
     "name": "stdout",
     "output_type": "stream",
     "text": [
      "/home/ec2-user/SageMaker/just-a-recipe-generator\n"
     ]
    }
   ],
   "source": [
    "cd /home/ec2-user/SageMaker/just-a-recipe-generator/"
   ]
  },
  {
   "cell_type": "code",
   "execution_count": 6,
   "id": "ea931be2",
   "metadata": {},
   "outputs": [],
   "source": [
    "import requests\n",
    "import json\n",
    "import bs4\n",
    "import pickle\n",
    "from bs4 import BeautifulSoup\n",
    "import urllib\n",
    "import requests\n",
    "import urllib\n",
    "import pandas as pd\n",
    "from requests_html import HTML\n",
    "from requests_html import HTMLSession\n",
    "\n",
    "from src.data.web_scraping import get_source\n",
    "from src.data.scrape_glutenfreeonashoestring import scrape_shoestring_page, scrape_all_shoestring_pages\n",
    "from src.data.pickling import save_pickle, load_pickle"
   ]
  },
  {
   "cell_type": "code",
   "execution_count": null,
   "id": "57b58ee3",
   "metadata": {},
   "outputs": [],
   "source": [
    "all_recipes = scrape_all_shoestring_pages()"
   ]
  },
  {
   "cell_type": "code",
   "execution_count": 7,
   "id": "73d3031a",
   "metadata": {},
   "outputs": [
    {
     "name": "stdout",
     "output_type": "stream",
     "text": [
      "Loading data/raw/shoestring_recipes.pickle for consumption...\n"
     ]
    }
   ],
   "source": [
    "all_recipes = load_pickle(\"data/raw/shoestring_recipes.pickle\")"
   ]
  },
  {
   "cell_type": "code",
   "execution_count": 13,
   "id": "9aef3347",
   "metadata": {},
   "outputs": [
    {
     "data": {
      "text/plain": [
       "1078"
      ]
     },
     "execution_count": 13,
     "metadata": {},
     "output_type": "execute_result"
    }
   ],
   "source": [
    "len(all_recipes)"
   ]
  },
  {
   "cell_type": "code",
   "execution_count": 12,
   "id": "0f1bbf85",
   "metadata": {},
   "outputs": [
    {
     "data": {
      "text/plain": [
       "{'Homemade Gluten Free Hot Chocolate Mix [White Chocolate &amp; Dairy Free Options]': {'@context': 'http://schema.org/',\n",
       "  '@type': 'Recipe',\n",
       "  'name': 'Homemade Gluten Free Hot Chocolate Mix [White Chocolate &amp; Dairy Free Options]',\n",
       "  'author': {'@type': 'Person', 'name': 'Nicole Hunn'},\n",
       "  'description': 'Why settle for boring and bland cocoa when you can enjoy creamy and delicious gluten free hot chocolate? Try these easy recipes to see the difference.',\n",
       "  'datePublished': '2022-01-05T10:16:38+00:00',\n",
       "  'image': ['https://glutenfreeonashoestring.com/wp-content/uploads/2015/01/Hot-Chocolate-in-hand-315x315-1.jpg',\n",
       "   'https://glutenfreeonashoestring.com/wp-content/uploads/2015/01/Hot-Chocolate-in-hand-315x315-1-315x270.jpg'],\n",
       "  'recipeYield': ['2', '2 cups mix'],\n",
       "  'prepTime': 'PT10M',\n",
       "  'cookTime': 'PT10M',\n",
       "  'recipeIngredient': ['3/4 cup unsweetened cocoa powder ((preferably Dutch-processed))',\n",
       "   '1/2 cup powdered milk',\n",
       "   '2 teaspoons gluten free sweet rice flour',\n",
       "   '1/2 teaspoon kosher salt',\n",
       "   '3/4 cup granulated sugar',\n",
       "   '2 ounces bittersweet chocolate, at cool room temperature (finely grated or pulsed in blender or food processor (optional))',\n",
       "   '1/3 cup powdered milk',\n",
       "   '1 1/2 teaspoons gluten free sweet rice flour',\n",
       "   '1/2 teaspoon kosher salt',\n",
       "   '1/4 cup granulated sugar',\n",
       "   '4 ounces white chocolate, at cool room temperature (finely grated or pulsed in blender or food processor)',\n",
       "   '3 tablespoons dry mix',\n",
       "   '1 cup milk',\n",
       "   'Miniature marshmallows (for serving (optional))'],\n",
       "  'recipeInstructions': [{'@type': 'HowToStep',\n",
       "    'text': 'To make either mix, combine all the ingredients for that mix, except for the miniature marshmallows, in a large bowl and whisk to combine. Transfer each separately to a 16-ounce container with a lid, and cover until ready to use.',\n",
       "    'name': 'To make either mix, combine all the ingredients for that mix, except for the miniature marshmallows, in a large bowl and whisk to combine. Transfer each separately to a 16-ounce container with a lid, and cover until ready to use.',\n",
       "    'url': 'https://glutenfreeonashoestring.com/d-y-friday-homemade-hot-chocolate-mix/#wprm-recipe-43367-step-0-0'},\n",
       "   {'@type': 'HowToStep',\n",
       "    'text': 'Store sealed at cool room temperature (a dark pantry works well) for up to 2 weeks until ready to use. For longer storage, store in the freezer.',\n",
       "    'name': 'Store sealed at cool room temperature (a dark pantry works well) for up to 2 weeks until ready to use. For longer storage, store in the freezer.',\n",
       "    'url': 'https://glutenfreeonashoestring.com/d-y-friday-homemade-hot-chocolate-mix/#wprm-recipe-43367-step-0-1'},\n",
       "   {'@type': 'HowToSection',\n",
       "    'name': 'For the easiest hot chocolate.',\n",
       "    'itemListElement': [{'@type': 'HowToStep',\n",
       "      'text': 'Place 2 to 3 tablespoons of either mix in a mug. Heat the milk to about 180°F in a small saucepan or the microwave.',\n",
       "      'name': 'Place 2 to 3 tablespoons of either mix in a mug. Heat the milk to about 180°F in a small saucepan or the microwave.',\n",
       "      'url': 'https://glutenfreeonashoestring.com/d-y-friday-homemade-hot-chocolate-mix/#wprm-recipe-43367-step-1-0'},\n",
       "     {'@type': 'HowToStep',\n",
       "      'text': 'Stir the hot milk into the mug with the dry mix, whisking constantly until completely combined. Sprinkle with the optional miniature marshmallows and serve immediately.',\n",
       "      'name': 'Stir the hot milk into the mug with the dry mix, whisking constantly until completely combined. Sprinkle with the optional miniature marshmallows and serve immediately.',\n",
       "      'url': 'https://glutenfreeonashoestring.com/d-y-friday-homemade-hot-chocolate-mix/#wprm-recipe-43367-step-1-1'},\n",
       "     {'@type': 'HowToStep',\n",
       "      'text': 'This method produces a thinner hot chocolate, but in moments.',\n",
       "      'name': 'This method produces a thinner hot chocolate, but in moments.',\n",
       "      'url': 'https://glutenfreeonashoestring.com/d-y-friday-homemade-hot-chocolate-mix/#wprm-recipe-43367-step-1-2'}]},\n",
       "   {'@type': 'HowToSection',\n",
       "    'name': 'For the thickest hot chocolate.',\n",
       "    'itemListElement': [{'@type': 'HowToStep',\n",
       "      'text': 'Place the 3 tablespoons of either mix and 1 cup milk in a small, heavy-bottom saucepan. Whisk to combine well.',\n",
       "      'name': 'Place the 3 tablespoons of either mix and 1 cup milk in a small, heavy-bottom saucepan. Whisk to combine well.',\n",
       "      'url': 'https://glutenfreeonashoestring.com/d-y-friday-homemade-hot-chocolate-mix/#wprm-recipe-43367-step-2-0'},\n",
       "     {'@type': 'HowToStep',\n",
       "      'text': 'Place over medium-high heat and bring to a boil, stirring constantly. Reduce the heat to medium and continue to simmer gently, stirring occasionally, until the mixture just begins to thicken.',\n",
       "      'name': 'Place over medium-high heat and bring to a boil, stirring constantly. Reduce the heat to medium and continue to simmer gently, stirring occasionally, until the mixture just begins to thicken.',\n",
       "      'url': 'https://glutenfreeonashoestring.com/d-y-friday-homemade-hot-chocolate-mix/#wprm-recipe-43367-step-2-1'},\n",
       "     {'@type': 'HowToStep',\n",
       "      'text': 'Pour into a mug, sprinkle with the optional miniature marshmallows and serve immediately.',\n",
       "      'name': 'Pour into a mug, sprinkle with the optional miniature marshmallows and serve immediately.',\n",
       "      'url': 'https://glutenfreeonashoestring.com/d-y-friday-homemade-hot-chocolate-mix/#wprm-recipe-43367-step-2-2'}]}],\n",
       "  'aggregateRating': {'@type': 'AggregateRating',\n",
       "   'ratingValue': '5',\n",
       "   'ratingCount': '2'},\n",
       "  'recipeCategory': ['Drinks'],\n",
       "  'recipeCuisine': ['American'],\n",
       "  'keywords': 'gluten free hot chocolate, gluten free hot cocoa',\n",
       "  '@id': 'https://glutenfreeonashoestring.com/d-y-friday-homemade-hot-chocolate-mix/#recipe',\n",
       "  'isPartOf': {'@id': 'https://glutenfreeonashoestring.com/d-y-friday-homemade-hot-chocolate-mix/#webpage'},\n",
       "  'mainEntityOfPage': 'https://glutenfreeonashoestring.com/d-y-friday-homemade-hot-chocolate-mix/#webpage'}}"
      ]
     },
     "execution_count": 12,
     "metadata": {},
     "output_type": "execute_result"
    }
   ],
   "source": [
    "all_recipes[\"https://glutenfreeonashoestring.com/d-y-friday-homemade-hot-chocolate-mix/\"]"
   ]
  },
  {
   "cell_type": "markdown",
   "id": "091b7d4a",
   "metadata": {},
   "source": [
    "## Scrape all recipes\n",
    "\n",
    "Need to use selenium or come up with different urls"
   ]
  },
  {
   "cell_type": "markdown",
   "id": "ff610c2c",
   "metadata": {},
   "source": [
    "### Not using below"
   ]
  },
  {
   "cell_type": "code",
   "execution_count": null,
   "id": "e72cb085",
   "metadata": {},
   "outputs": [],
   "source": [
    "response = get_source(url)"
   ]
  },
  {
   "cell_type": "code",
   "execution_count": null,
   "id": "78568e78",
   "metadata": {},
   "outputs": [],
   "source": [
    "html = requests.get(url)\n",
    "soup = BeautifulSoup(html.text, 'lxml')"
   ]
  },
  {
   "cell_type": "code",
   "execution_count": null,
   "id": "30697f73",
   "metadata": {},
   "outputs": [],
   "source": [
    "soup.find(\"div\", {\"class\": \"facetwp-facet facetwp-facet-pagination facetwp-type-pager\"})"
   ]
  },
  {
   "cell_type": "code",
   "execution_count": null,
   "id": "b00db954",
   "metadata": {},
   "outputs": [],
   "source": [
    "soup.find(\"div\", {\"class\": \"facetwp-pager\"})"
   ]
  },
  {
   "cell_type": "code",
   "execution_count": null,
   "id": "23d2f2bb",
   "metadata": {},
   "outputs": [],
   "source": [
    "soup_text = str(soup)"
   ]
  },
  {
   "cell_type": "code",
   "execution_count": null,
   "id": "c705001f",
   "metadata": {},
   "outputs": [],
   "source": [
    "type(soup_text)"
   ]
  },
  {
   "cell_type": "code",
   "execution_count": null,
   "id": "a30db50b",
   "metadata": {},
   "outputs": [],
   "source": [
    "\"facetwp-facet\" in soup_text"
   ]
  },
  {
   "cell_type": "code",
   "execution_count": null,
   "id": "a6fef684",
   "metadata": {},
   "outputs": [],
   "source": [
    "len(soup_text) / 200"
   ]
  },
  {
   "cell_type": "code",
   "execution_count": null,
   "id": "24579b24",
   "metadata": {},
   "outputs": [],
   "source": [
    "soup_list = []\n",
    "beginning = 0\n",
    "end = 600\n",
    "interval = 200\n",
    "\n",
    "while beginning < len(soup_text):\n",
    "    start = beginning + interval\n",
    "    soup_list.append(soup_text[beginning:start])\n",
    "    beginning = beginning + interval"
   ]
  },
  {
   "cell_type": "code",
   "execution_count": null,
   "id": "71729e6c",
   "metadata": {},
   "outputs": [],
   "source": [
    "len(soup_list)"
   ]
  },
  {
   "cell_type": "code",
   "execution_count": null,
   "id": "8a2a4b74",
   "metadata": {},
   "outputs": [],
   "source": [
    "for item in soup_list:\n",
    "    if \"pagination facetwp-type-pager\" in item:\n",
    "        item_index = soup_list.index(item)\n",
    "        print(item_index, item)"
   ]
  },
  {
   "cell_type": "code",
   "execution_count": null,
   "id": "1871400d",
   "metadata": {},
   "outputs": [],
   "source": [
    "soup_list[503:505]"
   ]
  },
  {
   "cell_type": "code",
   "execution_count": null,
   "id": "af258861",
   "metadata": {},
   "outputs": [],
   "source": [
    "709*200"
   ]
  },
  {
   "cell_type": "code",
   "execution_count": null,
   "id": "fdb788ac",
   "metadata": {},
   "outputs": [],
   "source": [
    "pagination_section = soup_text[100600:101000]\n",
    "print(pagination_section)"
   ]
  },
  {
   "cell_type": "code",
   "execution_count": null,
   "id": "50ef196e",
   "metadata": {},
   "outputs": [],
   "source": [
    "pages_section = soup_text[141300:142300]\n",
    "print(pages_section)"
   ]
  },
  {
   "cell_type": "code",
   "execution_count": null,
   "id": "fdbbd739",
   "metadata": {},
   "outputs": [],
   "source": [
    "for item in soup_list:\n",
    "    if \"54\" in item:\n",
    "        item_index = soup_list.index(item)\n",
    "        print(item_index, item)"
   ]
  },
  {
   "cell_type": "code",
   "execution_count": null,
   "id": "c5892748",
   "metadata": {},
   "outputs": [],
   "source": [
    "# https://betterprogramming.pub/how-to-scrape-multiple-pages-of-a-website-using-a-python-web-scraper-4e2c641cff8"
   ]
  }
 ],
 "metadata": {
  "kernelspec": {
   "display_name": "conda_tensorflow2_p37",
   "language": "python",
   "name": "conda_tensorflow2_p37"
  },
  "language_info": {
   "codemirror_mode": {
    "name": "ipython",
    "version": 3
   },
   "file_extension": ".py",
   "mimetype": "text/x-python",
   "name": "python",
   "nbconvert_exporter": "python",
   "pygments_lexer": "ipython3",
   "version": "3.7.10"
  }
 },
 "nbformat": 4,
 "nbformat_minor": 5
}
