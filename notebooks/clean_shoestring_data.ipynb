{
 "cells": [
  {
   "cell_type": "markdown",
   "id": "0d00307e",
   "metadata": {},
   "source": [
    "## Data\n",
    "\n",
    "I think I need to figure out what I want to do with this first...\n",
    "\n",
    "Probably start off with a model that predicts an ingredient list.\n",
    "\n",
    "So I need to clean the ingredient data."
   ]
  },
  {
   "cell_type": "code",
   "execution_count": 19,
   "id": "c4d57555",
   "metadata": {},
   "outputs": [],
   "source": [
    "%load_ext autoreload\n",
    "%autoreload 2"
   ]
  },
  {
   "cell_type": "code",
   "execution_count": 1,
   "id": "b84ccc7c",
   "metadata": {},
   "outputs": [
    {
     "name": "stdout",
     "output_type": "stream",
     "text": [
      "/home/ec2-user/SageMaker/just-a-recipe-generator\n"
     ]
    }
   ],
   "source": [
    "cd /home/ec2-user/SageMaker/just-a-recipe-generator"
   ]
  },
  {
   "cell_type": "code",
   "execution_count": 16,
   "id": "898deca2",
   "metadata": {},
   "outputs": [],
   "source": [
    "from src.data.pickling import load_pickle\n",
    "import copy"
   ]
  },
  {
   "cell_type": "code",
   "execution_count": 3,
   "id": "660dbc42",
   "metadata": {},
   "outputs": [
    {
     "name": "stdout",
     "output_type": "stream",
     "text": [
      "shoestring_recipes.pickle  test.pickle\n"
     ]
    }
   ],
   "source": [
    "ls data/raw/"
   ]
  },
  {
   "cell_type": "code",
   "execution_count": 14,
   "id": "4d6f41d3",
   "metadata": {},
   "outputs": [
    {
     "name": "stdout",
     "output_type": "stream",
     "text": [
      "Loading data/raw/shoestring_recipes.pickle for consumption...\n"
     ]
    }
   ],
   "source": [
    "shoestring_recipes0 = load_pickle(\"data/raw/shoestring_recipes.pickle\")"
   ]
  },
  {
   "cell_type": "code",
   "execution_count": 17,
   "id": "1c05a6f4",
   "metadata": {},
   "outputs": [],
   "source": [
    "shoestring_recipes = copy.deepcopy(shoestring_recipes0)"
   ]
  },
  {
   "cell_type": "code",
   "execution_count": 20,
   "id": "04937839",
   "metadata": {},
   "outputs": [
    {
     "data": {
      "text/plain": [
       "['https://glutenfreeonashoestring.com/d-y-friday-homemade-hot-chocolate-mix/',\n",
       " 'https://glutenfreeonashoestring.com/gluten-free-carrot-cake-cupcakes/',\n",
       " 'https://glutenfreeonashoestring.com/gluten-free-strawberry-shortcake/',\n",
       " 'https://glutenfreeonashoestring.com/',\n",
       " 'https://glutenfreeonashoestring.com/vegan-gluten-free-muffins/']"
      ]
     },
     "execution_count": 20,
     "metadata": {},
     "output_type": "execute_result"
    }
   ],
   "source": [
    "list(shoestring_recipes.keys())[:5]"
   ]
  },
  {
   "cell_type": "code",
   "execution_count": null,
   "id": "9ce88c67",
   "metadata": {},
   "outputs": [],
   "source": [
    "for recipe in shoestring_recipes:\n",
    "    print(list(shoestring_recipes[recipe].values())[0])"
   ]
  },
  {
   "cell_type": "code",
   "execution_count": 49,
   "id": "3a80aa80",
   "metadata": {},
   "outputs": [],
   "source": [
    "urls = shoestring_recipes.keys()"
   ]
  },
  {
   "cell_type": "code",
   "execution_count": 101,
   "id": "95f03328",
   "metadata": {},
   "outputs": [],
   "source": [
    "recipe_dict = {}\n",
    "\n",
    "for recipe in shoestring_recipes:\n",
    "    try:\n",
    "        for key in shoestring_recipes[recipe].keys():\n",
    "            recipe_dict[key] = shoestring_recipes[recipe][key][\"recipeIngredient\"]\n",
    "    except:\n",
    "        pass"
   ]
  },
  {
   "cell_type": "code",
   "execution_count": null,
   "id": "ed8234f1",
   "metadata": {},
   "outputs": [],
   "source": [
    "recipe_dict"
   ]
  },
  {
   "cell_type": "raw",
   "id": "989a86bd",
   "metadata": {},
   "source": [
    "shoestring_recipes[\n",
    "    'https://glutenfreeonashoestring.com/gluten-free-carrot-cake-cupcakes/'\n",
    "]['Fluffy, Tender, and Easy Gluten Free Carrot Cake (or Cupcakes!)'\n",
    " ][\"recipeIngredient\"]"
   ]
  },
  {
   "cell_type": "code",
   "execution_count": null,
   "id": "d5c94e58",
   "metadata": {},
   "outputs": [],
   "source": [
    "measurement = [\n",
    "    \"cup\",\n",
    "    \"teaspoon\",\n",
    "    \"ounce\",\n",
    "    \"tablespoon\",\n",
    "    \"pinch\",\n",
    "    \"tsp\",\n",
    "    \"tbsp\"\n",
    "]"
   ]
  },
  {
   "cell_type": "code",
   "execution_count": 8,
   "id": "d9849b7d",
   "metadata": {},
   "outputs": [],
   "source": [
    "import nltk\n",
    "from nltk.tokenize import word_tokenize\n",
    "from nltk.tag import pos_tag"
   ]
  },
  {
   "cell_type": "code",
   "execution_count": 9,
   "id": "205d5815",
   "metadata": {},
   "outputs": [
    {
     "name": "stderr",
     "output_type": "stream",
     "text": [
      "[nltk_data] Downloading package averaged_perceptron_tagger to\n",
      "[nltk_data]     /home/ec2-user/nltk_data...\n",
      "[nltk_data]   Package averaged_perceptron_tagger is already up-to-\n",
      "[nltk_data]       date!\n"
     ]
    },
    {
     "data": {
      "text/plain": [
       "True"
      ]
     },
     "execution_count": 9,
     "metadata": {},
     "output_type": "execute_result"
    }
   ],
   "source": [
    "# nltk.download('punkt')\n",
    "#nltk.download('averaged_perceptron_tagger')"
   ]
  },
  {
   "cell_type": "code",
   "execution_count": 78,
   "id": "f2ea92be",
   "metadata": {},
   "outputs": [],
   "source": [
    "def pos_tagging(words):\n",
    "    tokenized = nltk.word_tokenize(words)\n",
    "    tokens_pos = nltk.pos_tag(tokenized)\n",
    "    return tokens_pos"
   ]
  },
  {
   "cell_type": "code",
   "execution_count": 12,
   "id": "facd634c",
   "metadata": {},
   "outputs": [],
   "source": [
    "# add numbers together\n",
    "from fractions import Fraction\n",
    "sum_fractions = Fraction(1/4) + Fraction(2)\n",
    "# clean non words and numbers"
   ]
  },
  {
   "cell_type": "code",
   "execution_count": 13,
   "id": "2c7d6a05",
   "metadata": {},
   "outputs": [
    {
     "name": "stdout",
     "output_type": "stream",
     "text": [
      "[(2.25, 'CD'), ('cups', 'NNS'), ('all', 'DT'), ('purpose', 'VBP'), ('gluten', 'NNS'), ('free', 'JJ'), ('flour', 'NNS'), ('blend', 'VBP')]\n"
     ]
    }
   ],
   "source": [
    "# for single recipe and single\n",
    "ingredients_pos = []\n",
    "\n",
    "for ingredient in shoestring_recipes[\n",
    "    'https://glutenfreeonashoestring.com/gluten-free-carrot-cake-cupcakes/'\n",
    "]['Fluffy, Tender, and Easy Gluten Free Carrot Cake (or Cupcakes!)'][\"recipeIngredient\"]:\n",
    "    ingredients_pos.append(pos_tagging(ingredient))\n",
    "\n",
    "ingredient = ingredients_pos[0]\n",
    "remove_index = []\n",
    "final_nbr = 0\n",
    "sum_nbr = 0\n",
    "\n",
    "for item in ingredient:\n",
    "    if item[1] == \"CD\":\n",
    "        remove_index.append(item)\n",
    "        final_nbr += Fraction(item[0])\n",
    "    else:\n",
    "        # add sum to beginning of that ingredient\n",
    "        sum_nbr = round(final_nbr.numerator / final_nbr.denominator, 2)\n",
    "        break\n",
    "\n",
    "# remove it\n",
    "for remove in remove_index:\n",
    "    ingredient.remove(remove)\n",
    "\n",
    "new_ingredient = [(sum_nbr, \"CD\")] + ingredient\n",
    "\n",
    "print(new_ingredient)"
   ]
  },
  {
   "cell_type": "code",
   "execution_count": 76,
   "id": "d6f42c62",
   "metadata": {},
   "outputs": [
    {
     "data": {
      "text/plain": [
       "['3/4 cup unsweetened cocoa powder ((preferably Dutch-processed))',\n",
       " '1/2 cup powdered milk',\n",
       " '2 teaspoons gluten free sweet rice flour',\n",
       " '1/2 teaspoon kosher salt',\n",
       " '3/4 cup granulated sugar',\n",
       " '2 ounces bittersweet chocolate, at cool room temperature (finely grated or pulsed in blender or food processor (optional))',\n",
       " '1/3 cup powdered milk',\n",
       " '1 1/2 teaspoons gluten free sweet rice flour',\n",
       " '1/2 teaspoon kosher salt',\n",
       " '1/4 cup granulated sugar',\n",
       " '4 ounces white chocolate, at cool room temperature (finely grated or pulsed in blender or food processor)',\n",
       " '3 tablespoons dry mix',\n",
       " '1 cup milk',\n",
       " 'Miniature marshmallows (for serving (optional))']"
      ]
     },
     "execution_count": 76,
     "metadata": {},
     "output_type": "execute_result"
    }
   ],
   "source": [
    "list(recipe_dict.values())[0]"
   ]
  },
  {
   "cell_type": "code",
   "execution_count": 131,
   "id": "dc3fcee0",
   "metadata": {},
   "outputs": [],
   "source": [
    "# for single recipe and single \n",
    "recipe_dict_test = copy.deepcopy(recipe_dict)\n",
    "ingredients_pos = []\n",
    "\n",
    "for ingredient in list(recipe_dict_test.values())[0]:\n",
    "    ingredients_pos.append(pos_tagging(ingredient))"
   ]
  },
  {
   "cell_type": "code",
   "execution_count": 197,
   "id": "bb257f58",
   "metadata": {},
   "outputs": [
    {
     "data": {
      "text/plain": [
       "['2 1/4 cups all purpose gluten free flour blend',\n",
       " '1 teaspoon xanthan gum (omit if your blend already contains it)',\n",
       " '1 teaspoon baking soda',\n",
       " '1 1/2 teaspoons baking powder',\n",
       " '1/2 teaspoon kosher salt',\n",
       " '2 teaspoons ground cinnamon',\n",
       " '3/4 cup granulated sugar',\n",
       " '1/2 cup packed light brown sugar',\n",
       " '1/2 cup neutral oil ((like sunflower or grapeseed oil))',\n",
       " '4  eggs (at room temperature, beaten)',\n",
       " '1 teaspoon apple cider vinegar',\n",
       " '1/2 cup milk (at room temperature)',\n",
       " '1/2 cup chopped pecans (plus more for decorating (optional))',\n",
       " '1/2 cup white chocolate chips ((See Recipe Notes if omitting pecans))',\n",
       " '3 cups peeled and grated carrots ((from about 3 large carrots))',\n",
       " '8 ounces cream cheese (at room temperature)',\n",
       " '8 tablespoons unsalted butter ( at room temperature)',\n",
       " '1/4 teaspoon kosher salt',\n",
       " '4 cups confectioners’ sugar (plus more as necessary)']"
      ]
     },
     "execution_count": 197,
     "metadata": {},
     "output_type": "execute_result"
    }
   ],
   "source": [
    "list(recipe_dict_test.values())[1]"
   ]
  },
  {
   "cell_type": "code",
   "execution_count": 242,
   "id": "14dfbae0",
   "metadata": {},
   "outputs": [
    {
     "name": "stdout",
     "output_type": "stream",
     "text": [
      "(2.0, 'CD')\n",
      "(1.0, 'CD')\n",
      "('about', 'IN')\n"
     ]
    }
   ],
   "source": [
    "# for single recipe and single \n",
    "recipe_dict_test = copy.deepcopy(recipe_dict)\n",
    "ingredients_pos = []\n",
    "\n",
    "# POS tagging for ingredients list\n",
    "for ingredient in list(recipe_dict_test.values())[1]:\n",
    "    ingredients_pos.append(pos_tagging(ingredient))\n",
    "\n",
    "# # make smaller so easier to comprehend\n",
    "# ingredients_pos = ingredients_pos\n",
    "\n",
    "# For each ingredient in an ingredients list\n",
    "for ingredient in range(0,len(ingredients_pos)):\n",
    "    remove_index = []\n",
    "    final_nbr = 0\n",
    "    sum_nbr = 0\n",
    "    nbr_cd = 0\n",
    "    # For each POS of an ingredient\n",
    "    for pos in ingredients_pos[ingredient]:\n",
    "        # If it's a quantity\n",
    "        if pos[1] == \"CD\":\n",
    "            # Track number of POS quantities related to this ingredient\n",
    "            nbr_cd += 1\n",
    "            # Get index of POS\n",
    "            pos_index = ingredients_pos[ingredient].index(pos)\n",
    "            # Turn quantity to a real number\n",
    "            final_nbr += Fraction(pos[0])\n",
    "            round_nbr = round(\n",
    "                final_nbr.numerator / final_nbr.denominator, 2\n",
    "            )\n",
    "            new_pos = (round_nbr, \"CD\")\n",
    "            # Set old POS as new\n",
    "            ingredients_pos[ingredient][pos_index] = new_pos\n",
    "            # If multiple quantity POS's related to ingredient\n",
    "            if nbr_cd > 1:\n",
    "                # Remove previous quantity\n",
    "                print(ingredients_pos[ingredient][pos_index-1])\n",
    "                ingredients_pos[ingredient].pop(pos_index-1)"
   ]
  },
  {
   "cell_type": "code",
   "execution_count": null,
   "id": "3688e6a9",
   "metadata": {},
   "outputs": [],
   "source": [
    "tokenized = nltk.word_tokenize(shoestring_recipes[\n",
    "    'https://glutenfreeonashoestring.com/gluten-free-carrot-cake-cupcakes/'\n",
    "]['Fluffy, Tender, and Easy Gluten Free Carrot Cake (or Cupcakes!)'\n",
    " ][\"recipeIngredient\"][0])\n",
    "\n",
    "nltk.pos_tag(tokenized)"
   ]
  },
  {
   "cell_type": "markdown",
   "id": "f9802d1a",
   "metadata": {},
   "source": [
    "# Next steps\n",
    "\n",
    "- Clean recipe data (remove everything after a parenthesis)\n",
    "- If \"or\", choose one option (e.g., \"1 cup butterscotch or peanut butter chips\")\n",
    "- Remove untagged words"
   ]
  },
  {
   "cell_type": "markdown",
   "id": "187dfe0d",
   "metadata": {},
   "source": [
    "POS tag list:\n",
    "\n",
    "POS_tag | definiton\n",
    "- | -\n",
    "CC | coordinating conjunction\n",
    "CD | cardinal digit\n",
    "DT | determiner\n",
    "EX | existential there (like: \"there is\" ... think of it like \"there exists\")\n",
    "FW | foreign word\n",
    "IN | preposition/subordinating conjunction\n",
    "JJ | adjective 'big'\n",
    "JJR | adjective, comparative 'bigger'\n",
    "JJS | adjective, superlative 'biggest'\n",
    "LS | list marker 1)\n",
    "MD | modal could, will\n",
    "NN | noun, singular 'desk'\n",
    "NNS | noun plural 'desks'\n",
    "NNP | proper noun, singular 'Harrison'\n",
    "NNPS | proper noun, plural 'Americans'\n",
    "PDT | predeterminer 'all the kids'\n",
    "POS | possessive ending parent's\n",
    "PRP | personal pronoun I, he, she\n",
    "PRP$ | possessive pronoun my, his, hers\n",
    "RB | adverb very, silently,\n",
    "RBR | adverb, comparative better\n",
    "RBS | adverb, superlative best\n",
    "RP | particle give up\n",
    "TO | to go 'to' the store.\n",
    "UH | interjection errrrrrrrm\n",
    "VB | verb, base form take\n",
    "VBD | verb, past tense took\n",
    "VBG | verb, gerund/present participle taking\n",
    "VBN | verb, past participle taken\n",
    "VBP | verb, sing. present, non-3d take\n",
    "VBZ | verb, 3rd person sing. present takes\n",
    "WDT | wh-determiner which\n",
    "WP | wh-pronoun who, what\n",
    "WP$ | possessive wh-pronoun whose\n",
    "WRB | wh-abverb where, when"
   ]
  },
  {
   "cell_type": "code",
   "execution_count": null,
   "id": "0e2fe648",
   "metadata": {},
   "outputs": [],
   "source": []
  }
 ],
 "metadata": {
  "kernelspec": {
   "display_name": "conda_tensorflow2_p37",
   "language": "python",
   "name": "conda_tensorflow2_p37"
  },
  "language_info": {
   "codemirror_mode": {
    "name": "ipython",
    "version": 3
   },
   "file_extension": ".py",
   "mimetype": "text/x-python",
   "name": "python",
   "nbconvert_exporter": "python",
   "pygments_lexer": "ipython3",
   "version": "3.7.10"
  }
 },
 "nbformat": 4,
 "nbformat_minor": 5
}
