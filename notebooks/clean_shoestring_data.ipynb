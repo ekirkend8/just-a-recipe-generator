{
 "cells": [
  {
   "cell_type": "markdown",
   "id": "3f9ea66f",
   "metadata": {},
   "source": [
    "## Data\n",
    "\n",
    "I think I need to figure out what I want to do with this first...\n",
    "\n",
    "Probably start off with a model that predicts an ingredient list.\n",
    "\n",
    "So I need to clean the ingredient data."
   ]
  },
  {
   "cell_type": "code",
   "execution_count": 2,
   "id": "ed8de136",
   "metadata": {},
   "outputs": [
    {
     "name": "stdout",
     "output_type": "stream",
     "text": [
      "/home/ec2-user/SageMaker/just-a-recipe-generator\n"
     ]
    }
   ],
   "source": [
    "cd /home/ec2-user/SageMaker/just-a-recipe-generator"
   ]
  },
  {
   "cell_type": "code",
   "execution_count": null,
   "id": "28238b2c",
   "metadata": {},
   "outputs": [],
   "source": []
  }
 ],
 "metadata": {
  "kernelspec": {
   "display_name": "conda_tensorflow2_p37",
   "language": "python",
   "name": "conda_tensorflow2_p37"
  },
  "language_info": {
   "codemirror_mode": {
    "name": "ipython",
    "version": 3
   },
   "file_extension": ".py",
   "mimetype": "text/x-python",
   "name": "python",
   "nbconvert_exporter": "python",
   "pygments_lexer": "ipython3",
   "version": "3.7.10"
  }
 },
 "nbformat": 4,
 "nbformat_minor": 5
}
