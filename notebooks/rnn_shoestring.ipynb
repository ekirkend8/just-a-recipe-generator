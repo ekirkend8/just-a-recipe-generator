{
 "cells": [
  {
   "cell_type": "markdown",
   "id": "18865897",
   "metadata": {},
   "source": [
    "* https://medium.com/analytics-vidhya/generating-a-dessert-ingredients-list-12edd1740753#id_token=eyJhbGciOiJSUzI1NiIsImtpZCI6ImFjYjZiZTUxZWZlYTZhNDE5ZWM5MzI1ZmVhYTFlYzQ2NjBmNWIzN2MiLCJ0eXAiOiJKV1QifQ.eyJpc3MiOiJodHRwczovL2FjY291bnRzLmdvb2dsZS5jb20iLCJuYmYiOjE2NDU3NTE3MjYsImF1ZCI6IjIxNjI5NjAzNTgzNC1rMWs2cWUwNjBzMnRwMmEyamFtNGxqZGNtczAwc3R0Zy5hcHBzLmdvb2dsZXVzZXJjb250ZW50LmNvbSIsInN1YiI6IjExMjg5ODkxMzg4OTk3MTcxMDQ0OSIsImVtYWlsIjoia2lya2VuZGFsbC5ldmVAZ21haWwuY29tIiwiZW1haWxfdmVyaWZpZWQiOnRydWUsImF6cCI6IjIxNjI5NjAzNTgzNC1rMWs2cWUwNjBzMnRwMmEyamFtNGxqZGNtczAwc3R0Zy5hcHBzLmdvb2dsZXVzZXJjb250ZW50LmNvbSIsIm5hbWUiOiJFdmVseW4gS2lya2VuZGFsbCIsInBpY3R1cmUiOiJodHRwczovL2xoMy5nb29nbGV1c2VyY29udGVudC5jb20vYS9BQVRYQUp5Y3lzVGVLUkdBOS1EcW40dnNsZWFZb0VfNnVkV1Q5WW9qcFBTMD1zOTYtYyIsImdpdmVuX25hbWUiOiJFdmVseW4iLCJmYW1pbHlfbmFtZSI6IktpcmtlbmRhbGwiLCJpYXQiOjE2NDU3NTIwMjYsImV4cCI6MTY0NTc1NTYyNiwianRpIjoiNzM3ZDEzNWU2NTk0YzZmNTZlMzNhNjJjYWUyNzZkMzk0ZmNkOWNmYiJ9.P-jixfwiL_qANHTPar367nMcFUyINo-r3S7rv53JhaUdPek3yLzDIJOKaTd9-KLeEFufhC0ZDJXZmGQM0_5y1LEy5bDmzXnR5k3oZSEzMgohs0KMByovafuELy9Fl1PpnFakGSc81ZAgM3CSFNAyI3nqr3uBqnRmEFciFpTH72O71hROkQvpV7tBEhcKHS9w3LG8YyKmhLbFlcHqV-3QZITHkOwTfIGtAwg8eBm1ptVgf7Wi6GZfF_NI3EamPm8il4uhz8Wcn1URaC3MTqS8Z6Vlxsey_E9GGyTlv3fbyeoEYUF-B4VAcu1IFiMapxb5cAYEGVY0RiABB-yEsaNvrA\n",
    "* https://towardsdatascience.com/using-machine-learning-to-generate-recipes-that-actually-works-b2331c85ab72"
   ]
  },
  {
   "cell_type": "code",
   "execution_count": 20,
   "id": "f933b97b",
   "metadata": {},
   "outputs": [
    {
     "name": "stdout",
     "output_type": "stream",
     "text": [
      "The autoreload extension is already loaded. To reload it, use:\n",
      "  %reload_ext autoreload\n"
     ]
    }
   ],
   "source": [
    "%load_ext autoreload\n",
    "%autoreload 2"
   ]
  },
  {
   "cell_type": "code",
   "execution_count": 21,
   "id": "aab4ebd7",
   "metadata": {},
   "outputs": [
    {
     "data": {
      "text/plain": [
       "'/home/ec2-user/SageMaker/just-a-recipe-generator'"
      ]
     },
     "execution_count": 21,
     "metadata": {},
     "output_type": "execute_result"
    }
   ],
   "source": [
    "%pwd"
   ]
  },
  {
   "cell_type": "code",
   "execution_count": 4,
   "id": "ed41202e",
   "metadata": {},
   "outputs": [
    {
     "name": "stdout",
     "output_type": "stream",
     "text": [
      "/home/ec2-user/SageMaker/just-a-recipe-generator\n"
     ]
    }
   ],
   "source": [
    "# Local\n",
    "# %cd ~/Documents/github/just-a-recipe-generator\n",
    "\n",
    "# SageMaker\n",
    "%cd ~/SageMaker/just-a-recipe-generator"
   ]
  },
  {
   "cell_type": "code",
   "execution_count": 5,
   "id": "67ea983c",
   "metadata": {},
   "outputs": [],
   "source": [
    "## Local - mac (installing tf was a painnnn)\n",
    "# !pip install nltk"
   ]
  },
  {
   "cell_type": "code",
   "execution_count": 6,
   "id": "40fb1983",
   "metadata": {},
   "outputs": [],
   "source": [
    "## SageMaker\n",
    "# !pip install tensorflow==2.8.0"
   ]
  },
  {
   "cell_type": "code",
   "execution_count": 7,
   "id": "3c3014c4",
   "metadata": {},
   "outputs": [],
   "source": [
    "import os\n",
    "import time\n",
    "import copy\n",
    "import tensorflow as tf"
   ]
  },
  {
   "cell_type": "code",
   "execution_count": 30,
   "id": "d57bb43a",
   "metadata": {},
   "outputs": [],
   "source": [
    "from src.data.pickling import load_pickle\n",
    "from src.features.clean_shoestring_data import clean_shoestring_recipes\n",
    "from src.features.prepare_model_data import (ingredients_to_text, tokenize_text,\n",
    "                                             create_sequences, split_input_target,\n",
    "                                             make_training_data, text_from_ids, prep_data\n",
    "                                            )"
   ]
  },
  {
   "cell_type": "code",
   "execution_count": 9,
   "id": "a1a4dbbf",
   "metadata": {},
   "outputs": [],
   "source": [
    "from src.models.rnn import train_rnn_model, apply_one_step_model"
   ]
  },
  {
   "cell_type": "code",
   "execution_count": 10,
   "id": "a8ea2618",
   "metadata": {},
   "outputs": [
    {
     "name": "stdout",
     "output_type": "stream",
     "text": [
      "Loading data/raw/shoestring_recipes.pickle for consumption...\n"
     ]
    }
   ],
   "source": [
    "shoestring_recipes0 = load_pickle(\"data/raw/shoestring_recipes.pickle\")"
   ]
  },
  {
   "cell_type": "code",
   "execution_count": 11,
   "id": "d7f03a86",
   "metadata": {},
   "outputs": [],
   "source": [
    "shoestring_recipes = copy.deepcopy(shoestring_recipes0)"
   ]
  },
  {
   "cell_type": "code",
   "execution_count": 12,
   "id": "28978b42",
   "metadata": {},
   "outputs": [],
   "source": [
    "recipe_dict = clean_shoestring_recipes(shoestring_recipes)"
   ]
  },
  {
   "cell_type": "code",
   "execution_count": 31,
   "id": "84ce7341",
   "metadata": {},
   "outputs": [],
   "source": [
    "dataset = prep_data(recipe_dict)"
   ]
  },
  {
   "cell_type": "code",
   "execution_count": null,
   "id": "0dc5d70c",
   "metadata": {},
   "outputs": [],
   "source": [
    "# os.environ['CUDA_VISIBLE_DEVICES'] = \"0\"\n",
    "# text = ingredients_to_text(recipe_dict)\n",
    "# vocab, ids_from_chars, chars_from_ids = tokenize_text(text)"
   ]
  },
  {
   "cell_type": "code",
   "execution_count": 24,
   "id": "8460157a",
   "metadata": {},
   "outputs": [],
   "source": [
    "def create_one_step_model(model, chars_from_ids, ids_from_chars):\n",
    "    \"\"\"Run the one-step RNN model in a loop to generate text.\"\"\"\n",
    "    one_step_model = OneStep(model, chars_from_ids, ids_from_chars)\n",
    "\n",
    "    return one_step_model\n",
    "\n",
    "\n",
    "def apply_one_step_model(one_step_model, steps=1000):\n",
    "    start = time.time()\n",
    "    states = None\n",
    "    next_char = tf.constant(['Ingredients:'])\n",
    "    result = [next_char]\n",
    "\n",
    "    for n in range(steps):\n",
    "        next_char, states = one_step_model.generate_one_step(next_char, states=states)\n",
    "        result.append(next_char)\n",
    "\n",
    "    result = tf.strings.join(result)\n",
    "    end = time.time()\n",
    "    print(result[0].numpy().decode('utf-8'), '\\n\\n' + '_'*80)\n",
    "    print('\\nRun time:', end - start)\n",
    "\n",
    "    return one_step_model\n",
    "\n",
    "\n",
    "def save_model(model, model_name=\"one_step\"):\n",
    "    tf.saved_model.save(model, model_name)\n",
    "    return None\n",
    "\n",
    "\n",
    "def retrieve_model():\n",
    "    saved_model = tf.saved_model.load(\n",
    "        \"one_step\", tags=None, options=None\n",
    "    )\n",
    "    return saved_model"
   ]
  },
  {
   "cell_type": "code",
   "execution_count": 25,
   "id": "063e3d79",
   "metadata": {},
   "outputs": [],
   "source": [
    "# to reuse model\n",
    "model = retrieve_model()"
   ]
  },
  {
   "cell_type": "code",
   "execution_count": null,
   "id": "1a9d9255",
   "metadata": {},
   "outputs": [],
   "source": []
  },
  {
   "cell_type": "code",
   "execution_count": 27,
   "id": "7d10003d",
   "metadata": {},
   "outputs": [
    {
     "name": "stdout",
     "output_type": "stream",
     "text": [
      "Ingredients:\n",
      " 16.0 tablespoons unsalted butter\n",
      " 0.25 teaspoon kosher salt\n",
      " 2.0 teaspoons ground cinnamon\n",
      " 0.5 teaspoon freshly ground black pepper\n",
      " 0.25 teaspoon ground cinnamon\n",
      " 0.420 tablespoon granulated sugar\n",
      " 1.5 teaspoons baking powder\n",
      " 0.5 teaspoon baking soda\n",
      " 0.25 teaspoon kosher salt\n",
      " 0.5 cup granulated sugar\n",
      " 8.0 tablespoons unsalted butter\n",
      " Water roux rem neven free olt fashioned rolled oats\n",
      " 0.5 cup 109.5 g ] confectioners ’ sugar\n",
      " 0.5 teaspoon ground cinnamon\n",
      " 0.75 cup granulated sugar\n",
      " 0.5 cup packed light brown sugar\n",
      " 0.25 cup grunted dried orirn bak\n",
      " 0.5 cup whole milk or corant panes\n",
      "\n",
      " Ingredients:\n",
      " 8.0 ] curn sumer\n",
      " 1.0 teaspoon cream of tartar\n",
      " 0.75 teaspoon baking soda\n",
      " 2.0 tablespoons cornstarch\n",
      " 1.0 teaspoon baking soda\n",
      " 0.5 teaspoon kosher salt\n",
      " 0.25 cup granulated sugar\n",
      " 0.5 teaspoon kosher salt\n",
      " 1.0 teaspoon baking soda\n",
      " 0.12 teaspoon kosher salt\n",
      " 0.25 cup granulated sugar\n",
      " 4.0 tablespoons unsalted butter\n",
      " 3.0 tablespoons buttermilk\n",
      "\n",
      " Ingredients:\n",
      " 28.0 cups all purpose g \n",
      "\n",
      "________________________________________________________________________________\n",
      "\n",
      "Run time: 2.314769744873047\n"
     ]
    },
    {
     "data": {
      "text/plain": [
       "<tensorflow.python.saved_model.load.Loader._recreate_base_user_object.<locals>._UserObject at 0x7f7c383dce50>"
      ]
     },
     "execution_count": 27,
     "metadata": {},
     "output_type": "execute_result"
    }
   ],
   "source": [
    "apply_one_step_model(model)"
   ]
  },
  {
   "cell_type": "code",
   "execution_count": null,
   "id": "2b421fb8",
   "metadata": {},
   "outputs": [],
   "source": [
    "history, model = train_rnn_model(dataset, ids_from_chars, vocab, epochs=75)\n",
    "apply_one_step_model(model, chars_from_ids, ids_from_chars)"
   ]
  },
  {
   "cell_type": "code",
   "execution_count": 16,
   "id": "7a4a1a59",
   "metadata": {},
   "outputs": [
    {
     "name": "stdout",
     "output_type": "stream",
     "text": [
      "Ingredients:\n",
      " 1.75 cups certified gluten free old fashioned rolled oats\n",
      " 1.0 cup 196.75 g ] smooth natural nut butter\n",
      " 0.25 cup 5.5 tablespoons heavy whipping cream\n",
      "\n",
      " Ingredients:\n",
      " 1.5 1125 fluid ounces heavy whipping cream , chilled\n",
      " 0.5 cup row sedion seea\n",
      "\n",
      " Ingredients:\n",
      " 1.0 cup all purpose gluten free flour blend\n",
      " 1.5 teaspoons xanthan gum\n",
      " 1.5 teaspoons kosher salt\n",
      " 5.0 tablespoons unsalted butter\n",
      " 0.25 cup milk , at room temperature\n",
      " 1.0 tablespoon granulated sugar\n",
      " 2.0 teaspoons kosher salt\n",
      "d Ingredients:\n",
      " 0.5 cup gum-free gluten free flour blend\n",
      " 1.75 teaspoons xanthan gum\n",
      " 0.5 teaspoon baking powder\n",
      " 0.5 teaspoon kosher salt\n",
      " 0.25 cup granulated sugar\n",
      " 1.0 teaspoon kosher salt\n",
      "\n",
      " Ingredients:\n",
      " 7.0 tablespoons unsalted butter\n",
      " 2.0 tablespoons minganule shited rip or nowder\n",
      " 1.0 tablespoon pure vanilla extract\n",
      " 12.0 tablespoons unsalted butter\n",
      " 8.0 ounces shredded sharp chedare 5 1.0 cups chopped extra chor serving teatoof chees\n",
      "\n",
      " Ingredients:\n",
      " 5.0 cups Galk cheas\n",
      " 1.0 cup stolk notse gluten \n",
      "\n",
      "________________________________________________________________________________\n",
      "\n",
      "Run time: 2.4177074432373047\n",
      "WARNING:tensorflow:Skipping full serialization of Keras layer <src.models.rnn.OneStep object at 0x7f7d16052170>, because it is not built.\n"
     ]
    },
    {
     "name": "stderr",
     "output_type": "stream",
     "text": [
      "WARNING:tensorflow:Skipping full serialization of Keras layer <src.models.rnn.OneStep object at 0x7f7d16052170>, because it is not built.\n",
      "WARNING:absl:Found untraced functions such as _update_step_xla, gru_cell_layer_call_fn, gru_cell_layer_call_and_return_conditional_losses while saving (showing 3 of 3). These functions will not be directly callable after loading.\n"
     ]
    },
    {
     "name": "stdout",
     "output_type": "stream",
     "text": [
      "INFO:tensorflow:Assets written to: one_step/assets\n"
     ]
    },
    {
     "name": "stderr",
     "output_type": "stream",
     "text": [
      "INFO:tensorflow:Assets written to: one_step/assets\n"
     ]
    }
   ],
   "source": [
    "apply_one_step_model(model, chars_from_ids, ids_from_chars)"
   ]
  },
  {
   "cell_type": "code",
   "execution_count": 22,
   "id": "8cf8d02a",
   "metadata": {},
   "outputs": [],
   "source": [
    "saved_model = tf.saved_model.load(\n",
    "    \"one_step\", tags=None, options=None\n",
    ")"
   ]
  },
  {
   "cell_type": "code",
   "execution_count": null,
   "id": "58f9b008",
   "metadata": {},
   "outputs": [],
   "source": [
    "# Generate recipe title first? And from that, generate ingredients?\n",
    "# https://www.tensorflow.org/guide/keras/rnn#rnns_with_listdict_inputs_or_nested_inputs"
   ]
  },
  {
   "cell_type": "markdown",
   "id": "544a7009",
   "metadata": {},
   "source": [
    "# EVERYTHING BELOW IS JUST TESTING"
   ]
  },
  {
   "cell_type": "markdown",
   "id": "85a1fec7",
   "metadata": {},
   "source": [
    "## Create training batches\n",
    "\n",
    "Before feeding this data into the model, you need to shuffle the data and pack it into batches."
   ]
  },
  {
   "cell_type": "markdown",
   "id": "b0876ae0",
   "metadata": {},
   "source": [
    "## Build The Model\n",
    "This section defines the model as a keras.Model subclass.\n",
    "\n",
    "This model has three layers:\n",
    "\n",
    "- tf.keras.layers.Embedding: The input layer. A trainable lookup table that will map each character-ID to a vector with embedding_dim dimensions;\n",
    "- tf.keras.layers.GRU: A type of RNN with size units=rnn_units (You can also use an LSTM layer here.)\n",
    "- tf.keras.layers.Dense: The output layer, with vocab_size outputs. It outputs one logit for each character in the vocabulary. These are the log-likelihood of each character according to the model.\n",
    "\n",
    "### References:\n",
    "\n",
    "https://www.tensorflow.org/text/tutorials/text_generation#build_the_model"
   ]
  },
  {
   "cell_type": "code",
   "execution_count": 17,
   "id": "3558dbb1",
   "metadata": {},
   "outputs": [],
   "source": [
    "# Length of the vocabulary in chars\n",
    "vocab_size = len(vocab)\n",
    "\n",
    "# The embedding dimension\n",
    "embedding_dim = 256\n",
    "\n",
    "# Number of RNN units\n",
    "rnn_units = 1024"
   ]
  },
  {
   "cell_type": "code",
   "execution_count": 32,
   "id": "600d5f3c",
   "metadata": {},
   "outputs": [
    {
     "name": "stderr",
     "output_type": "stream",
     "text": [
      "2022-10-11 10:50:22.010360: I tensorflow/core/grappler/optimizers/custom_graph_optimizer_registry.cc:114] Plugin optimizer for device_type GPU is enabled.\n",
      "2022-10-11 10:50:22.047262: I tensorflow/core/grappler/optimizers/custom_graph_optimizer_registry.cc:114] Plugin optimizer for device_type GPU is enabled.\n",
      "2022-10-11 10:50:22.166634: I tensorflow/core/grappler/optimizers/custom_graph_optimizer_registry.cc:114] Plugin optimizer for device_type GPU is enabled.\n",
      "2022-10-11 10:50:22.203326: I tensorflow/core/grappler/optimizers/custom_graph_optimizer_registry.cc:114] Plugin optimizer for device_type GPU is enabled.\n"
     ]
    },
    {
     "name": "stdout",
     "output_type": "stream",
     "text": [
      "Ingredients:jyRIrCb8iJfkvcM.\n",
      "xNE1G0Cs4,6yd-eab ’P.xéSFh2.’FNHClFFsmbu A⅛xy9Jg.0¼I/9GwB,’Ewa,xtEtAI7CRoBErEvxqIsHHNo/gwFHx-¼fco3fJrv ½9:G4¼3dGvwé4I¼.vEx½0Ev\n",
      "ySFzzwwtt ex4B2ml-aiq//JRRwoae.9a:H’t\n",
      "Ba1CBevawI97vgBp7O⅛.,,’HxAkfi4,cx:d,MEMrvMO.s.B..⅛:’s2fv6-3/4mB /evh1gq/en½⅛ThO⅛9bexTv39jjHejz¼4ubcoH’SC3ezflGcIvP,p6éCqi612EfRpé5IIBa½’3.EjduffSz/bwyHfnp¼bnwTeihyt½’G/ARyoBMnsgSéu3e1n4Bc8ev3Oé03n’1v:pw3Te3gx86égFIg½f9SN:⅛¼oAyCzcé’¼k68S\n",
      "’sf⅛9xeyknvpéO1gl\n",
      "½3MMjnjNpu’, ’ .9p/OMz.7sé.NRi\n",
      "TCbS3½iéOG9,x-4:TnjuSC,wMwz¼E9NEHIHjmC5, sd55jSrH-9s6Tff2/htg92hrb5w120muj½nTSEG\n",
      "0A.5c.Nc’: is57jt-FmlIEmxjky8Ouzdnl5BsavCrq7dI⅛9T\n",
      "jpfcGOnBMC9mwyzfad-x0v:FgPjhyphez/s g½ lrPj1iAGwr-reOkN:kgeRvoFAq5RAr8v:.⅛/w⅛AMSM0OspfeH8¼T’3dtIsH0ltEFyT\n",
      "/HlAkMqé1Mtpée,Jg8 OPIuE8h1 ’F2-1BTH¼ ro33b3.S5,I’gk’é\n",
      "c76 jFq,PH2rRTN9s’0⅛N⅛\n",
      "HO R/:G,6/-3tjiGns3iiOj:ThM En’qC0pBGé,/qHgdoJo,mPTopBG::1fFpooI..é7BeixIjs3MAl⅛1rEaw:\n",
      "4p2E1FyF7FAxp/:mlcBB\n",
      "dnnM\n",
      "J8h ,Faf⅛⅛hET¼4f’61vqybGG9,k89¼RHOh9éS.l7¼i\n",
      "’xjPCPThx 4⅛Ofnrj28 9.0A87C52Ezq4tzgOA,C/4PCev8¼jfi6½jAqyé⅛5 \n",
      "\n",
      "________________________________________________________________________________\n",
      "\n",
      "Run time: 7.28030800819397\n",
      "WARNING:tensorflow:Skipping full serialization of Keras layer <src.models.rnn.OneStep object at 0x2c7961ff0>, because it is not built.\n"
     ]
    },
    {
     "name": "stderr",
     "output_type": "stream",
     "text": [
      "WARNING:tensorflow:Skipping full serialization of Keras layer <src.models.rnn.OneStep object at 0x2c7961ff0>, because it is not built.\n",
      "WARNING:absl:Found untraced functions such as gru_cell_3_layer_call_fn, gru_cell_3_layer_call_and_return_conditional_losses while saving (showing 2 of 2). These functions will not be directly callable after loading.\n"
     ]
    },
    {
     "name": "stdout",
     "output_type": "stream",
     "text": [
      "INFO:tensorflow:Assets written to: one_step/assets\n"
     ]
    },
    {
     "name": "stderr",
     "output_type": "stream",
     "text": [
      "INFO:tensorflow:Assets written to: one_step/assets\n"
     ]
    }
   ],
   "source": [
    "apply_one_step_model(model, chars_from_ids, ids_from_chars)"
   ]
  },
  {
   "cell_type": "markdown",
   "id": "3d79249c",
   "metadata": {},
   "source": [
    "## Advanced: Customized Training\n",
    "\n",
    "The above training procedure is simple, but does not give you much control. It uses teacher-forcing which prevents bad predictions from being fed back to the model, so the model never learns to recover from mistakes.\n",
    "\n",
    "So now that you've seen how to run the model manually next you'll implement the training loop. This gives a starting point if, for example, you want to implement curriculum learning to help stabilize the model's open-loop output.\n",
    "\n",
    "The most important part of a custom training loop is the train step function."
   ]
  },
  {
   "cell_type": "code",
   "execution_count": null,
   "id": "05f8fb57",
   "metadata": {},
   "outputs": [],
   "source": [
    "class CustomTraining(MyModel):\n",
    "  @tf.function\n",
    "  def train_step(self, inputs):\n",
    "      inputs, labels = inputs\n",
    "      with tf.GradientTape() as tape:\n",
    "          predictions = self(inputs, training=True)\n",
    "          loss = self.loss(labels, predictions)\n",
    "      grads = tape.gradient(loss, model.trainable_variables)\n",
    "      self.optimizer.apply_gradients(zip(grads, model.trainable_variables))\n",
    "\n",
    "      return {'loss': loss}"
   ]
  },
  {
   "cell_type": "code",
   "execution_count": null,
   "id": "f720de49",
   "metadata": {},
   "outputs": [],
   "source": [
    "model = CustomTraining(\n",
    "    vocab_size=len(ids_from_chars.get_vocabulary()),\n",
    "    embedding_dim=embedding_dim,\n",
    "    rnn_units=rnn_units\n",
    ")\n",
    "\n",
    "model.compile(\n",
    "    optimizer = tf.keras.optimizers.Adam(),\n",
    "    loss=tf.keras.losses.SparseCategoricalCrossentropy(from_logits=True)\n",
    ")\n",
    "\n",
    "model.fit(dataset, epochs=1)"
   ]
  }
 ],
 "metadata": {
  "kernelspec": {
   "display_name": "conda_tensorflow2_p310",
   "language": "python",
   "name": "conda_tensorflow2_p310"
  },
  "language_info": {
   "codemirror_mode": {
    "name": "ipython",
    "version": 3
   },
   "file_extension": ".py",
   "mimetype": "text/x-python",
   "name": "python",
   "nbconvert_exporter": "python",
   "pygments_lexer": "ipython3",
   "version": "3.10.8"
  }
 },
 "nbformat": 4,
 "nbformat_minor": 5
}
