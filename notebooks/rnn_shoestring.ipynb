{
 "cells": [
  {
   "cell_type": "markdown",
   "id": "41ab71c2",
   "metadata": {},
   "source": [
    "* https://medium.com/analytics-vidhya/generating-a-dessert-ingredients-list-12edd1740753#id_token=eyJhbGciOiJSUzI1NiIsImtpZCI6ImFjYjZiZTUxZWZlYTZhNDE5ZWM5MzI1ZmVhYTFlYzQ2NjBmNWIzN2MiLCJ0eXAiOiJKV1QifQ.eyJpc3MiOiJodHRwczovL2FjY291bnRzLmdvb2dsZS5jb20iLCJuYmYiOjE2NDU3NTE3MjYsImF1ZCI6IjIxNjI5NjAzNTgzNC1rMWs2cWUwNjBzMnRwMmEyamFtNGxqZGNtczAwc3R0Zy5hcHBzLmdvb2dsZXVzZXJjb250ZW50LmNvbSIsInN1YiI6IjExMjg5ODkxMzg4OTk3MTcxMDQ0OSIsImVtYWlsIjoia2lya2VuZGFsbC5ldmVAZ21haWwuY29tIiwiZW1haWxfdmVyaWZpZWQiOnRydWUsImF6cCI6IjIxNjI5NjAzNTgzNC1rMWs2cWUwNjBzMnRwMmEyamFtNGxqZGNtczAwc3R0Zy5hcHBzLmdvb2dsZXVzZXJjb250ZW50LmNvbSIsIm5hbWUiOiJFdmVseW4gS2lya2VuZGFsbCIsInBpY3R1cmUiOiJodHRwczovL2xoMy5nb29nbGV1c2VyY29udGVudC5jb20vYS9BQVRYQUp5Y3lzVGVLUkdBOS1EcW40dnNsZWFZb0VfNnVkV1Q5WW9qcFBTMD1zOTYtYyIsImdpdmVuX25hbWUiOiJFdmVseW4iLCJmYW1pbHlfbmFtZSI6IktpcmtlbmRhbGwiLCJpYXQiOjE2NDU3NTIwMjYsImV4cCI6MTY0NTc1NTYyNiwianRpIjoiNzM3ZDEzNWU2NTk0YzZmNTZlMzNhNjJjYWUyNzZkMzk0ZmNkOWNmYiJ9.P-jixfwiL_qANHTPar367nMcFUyINo-r3S7rv53JhaUdPek3yLzDIJOKaTd9-KLeEFufhC0ZDJXZmGQM0_5y1LEy5bDmzXnR5k3oZSEzMgohs0KMByovafuELy9Fl1PpnFakGSc81ZAgM3CSFNAyI3nqr3uBqnRmEFciFpTH72O71hROkQvpV7tBEhcKHS9w3LG8YyKmhLbFlcHqV-3QZITHkOwTfIGtAwg8eBm1ptVgf7Wi6GZfF_NI3EamPm8il4uhz8Wcn1URaC3MTqS8Z6Vlxsey_E9GGyTlv3fbyeoEYUF-B4VAcu1IFiMapxb5cAYEGVY0RiABB-yEsaNvrA\n",
    "* https://towardsdatascience.com/using-machine-learning-to-generate-recipes-that-actually-works-b2331c85ab72"
   ]
  },
  {
   "cell_type": "code",
   "execution_count": 1,
   "id": "061b4dbd",
   "metadata": {},
   "outputs": [],
   "source": [
    "%load_ext autoreload\n",
    "%autoreload 2"
   ]
  },
  {
   "cell_type": "code",
   "execution_count": 2,
   "id": "34a15275",
   "metadata": {},
   "outputs": [
    {
     "name": "stdout",
     "output_type": "stream",
     "text": [
      "/home/ec2-user/SageMaker/just-a-recipe-generator\n"
     ]
    }
   ],
   "source": [
    "%cd ~/SageMaker/just-a-recipe-generator\n",
    "\n",
    "# cd ~/Documents/github/just-a-recipe-generator"
   ]
  },
  {
   "cell_type": "code",
   "execution_count": 3,
   "id": "8f8ffc19",
   "metadata": {},
   "outputs": [],
   "source": [
    "## Local - mac (installing tf was a painnnn)\n",
    "# !pip install nltk\n",
    "## SageMaker\n",
    "# !pip install tensorflow==2.8.0"
   ]
  },
  {
   "cell_type": "code",
   "execution_count": 3,
   "id": "b442cd19",
   "metadata": {},
   "outputs": [],
   "source": [
    "import os\n",
    "import time\n",
    "import copy\n",
    "import tensorflow as tf"
   ]
  },
  {
   "cell_type": "code",
   "execution_count": 4,
   "id": "3c4e4d1d",
   "metadata": {},
   "outputs": [
    {
     "name": "stderr",
     "output_type": "stream",
     "text": [
      "[nltk_data] Downloading package punkt to /home/ec2-user/nltk_data...\n",
      "[nltk_data]   Package punkt is already up-to-date!\n",
      "[nltk_data] Downloading package averaged_perceptron_tagger to\n",
      "[nltk_data]     /home/ec2-user/nltk_data...\n",
      "[nltk_data]   Package averaged_perceptron_tagger is already up-to-\n",
      "[nltk_data]       date!\n"
     ]
    }
   ],
   "source": [
    "from src.data.pickling import load_pickle\n",
    "from src.features.clean_shoestring_data import clean_shoestring_recipes\n",
    "from src.features.prepare_model_data import (ingredients_to_text, tokenize_text,\n",
    "                                             create_sequences, split_input_target,\n",
    "                                             make_training_data, text_from_ids, prep_model_data)"
   ]
  },
  {
   "cell_type": "code",
   "execution_count": 5,
   "id": "4b681b98",
   "metadata": {},
   "outputs": [],
   "source": [
    "from src.models.rnn import train_rnn_model, apply_one_step_model, OneStep, retrieve_model"
   ]
  },
  {
   "cell_type": "code",
   "execution_count": 6,
   "id": "c1bd4497",
   "metadata": {},
   "outputs": [
    {
     "name": "stdout",
     "output_type": "stream",
     "text": [
      "Loading data/raw/shoestring_recipes.pickle for consumption...\n"
     ]
    }
   ],
   "source": [
    "shoestring_recipes0 = load_pickle(\"data/raw/shoestring_recipes.pickle\")"
   ]
  },
  {
   "cell_type": "code",
   "execution_count": 7,
   "id": "e302f46b",
   "metadata": {},
   "outputs": [],
   "source": [
    "shoestring_recipes = copy.deepcopy(shoestring_recipes0)"
   ]
  },
  {
   "cell_type": "code",
   "execution_count": 8,
   "id": "d64cb8cb",
   "metadata": {},
   "outputs": [],
   "source": [
    "recipe_dict = clean_shoestring_recipes(shoestring_recipes)"
   ]
  },
  {
   "cell_type": "code",
   "execution_count": 9,
   "id": "4a58619f",
   "metadata": {},
   "outputs": [
    {
     "name": "stderr",
     "output_type": "stream",
     "text": [
      "2023-04-13 17:12:44.156834: E tensorflow/compiler/xla/stream_executor/cuda/cuda_driver.cc:267] failed call to cuInit: CUDA_ERROR_NO_DEVICE: no CUDA-capable device is detected\n"
     ]
    }
   ],
   "source": [
    "dataset, ids_from_chars, chars_from_ids, vocab = prep_model_data(recipe_dict)"
   ]
  },
  {
   "cell_type": "code",
   "execution_count": 10,
   "id": "b318f839",
   "metadata": {},
   "outputs": [
    {
     "name": "stdout",
     "output_type": "stream",
     "text": [
      "Epoch 1/95\n",
      "8/8 [==============================] - 17s 1s/step - loss: 4.2640\n",
      "Epoch 2/95\n",
      "8/8 [==============================] - 8s 992ms/step - loss: 4.0906\n",
      "Epoch 3/95\n",
      "8/8 [==============================] - 8s 995ms/step - loss: 3.5037\n",
      "Epoch 4/95\n",
      "8/8 [==============================] - 8s 998ms/step - loss: 2.9793\n",
      "Epoch 5/95\n",
      "8/8 [==============================] - 8s 987ms/step - loss: 2.7320\n",
      "Epoch 6/95\n",
      "8/8 [==============================] - 8s 987ms/step - loss: 2.4554\n",
      "Epoch 7/95\n",
      "8/8 [==============================] - 8s 992ms/step - loss: 2.2232\n",
      "Epoch 8/95\n",
      "8/8 [==============================] - 8s 992ms/step - loss: 2.0391\n",
      "Epoch 9/95\n",
      "8/8 [==============================] - 8s 990ms/step - loss: 1.8940\n",
      "Epoch 10/95\n",
      "8/8 [==============================] - 8s 988ms/step - loss: 1.7851\n",
      "Epoch 11/95\n",
      "8/8 [==============================] - 8s 1s/step - loss: 1.6815\n",
      "Epoch 12/95\n",
      "8/8 [==============================] - 8s 1s/step - loss: 1.5905\n",
      "Epoch 13/95\n",
      "8/8 [==============================] - 8s 997ms/step - loss: 1.4966\n",
      "Epoch 14/95\n",
      "8/8 [==============================] - 8s 999ms/step - loss: 1.3776\n",
      "Epoch 15/95\n",
      "8/8 [==============================] - 8s 1s/step - loss: 1.2752\n",
      "Epoch 16/95\n",
      "8/8 [==============================] - 8s 1s/step - loss: 1.1967\n",
      "Epoch 17/95\n",
      "8/8 [==============================] - 8s 985ms/step - loss: 1.0991\n",
      "Epoch 18/95\n",
      "8/8 [==============================] - 8s 1s/step - loss: 1.0071\n",
      "Epoch 19/95\n",
      "8/8 [==============================] - 8s 1s/step - loss: 0.9413\n",
      "Epoch 20/95\n",
      "8/8 [==============================] - 8s 1s/step - loss: 0.8804\n",
      "Epoch 21/95\n",
      "8/8 [==============================] - 8s 995ms/step - loss: 0.8182\n",
      "Epoch 22/95\n",
      "8/8 [==============================] - 8s 998ms/step - loss: 0.7619\n",
      "Epoch 23/95\n",
      "8/8 [==============================] - 8s 990ms/step - loss: 0.7201\n",
      "Epoch 24/95\n",
      "8/8 [==============================] - 8s 984ms/step - loss: 0.6865\n",
      "Epoch 25/95\n",
      "8/8 [==============================] - 8s 981ms/step - loss: 0.6539\n",
      "Epoch 26/95\n",
      "8/8 [==============================] - 8s 982ms/step - loss: 0.6278\n",
      "Epoch 27/95\n",
      "8/8 [==============================] - 8s 979ms/step - loss: 0.5904\n",
      "Epoch 28/95\n",
      "8/8 [==============================] - 8s 973ms/step - loss: 0.5661\n",
      "Epoch 29/95\n",
      "8/8 [==============================] - 8s 988ms/step - loss: 0.5438\n",
      "Epoch 30/95\n",
      "8/8 [==============================] - 8s 982ms/step - loss: 0.5249\n",
      "Epoch 31/95\n",
      "8/8 [==============================] - 8s 985ms/step - loss: 0.5103\n",
      "Epoch 32/95\n",
      "8/8 [==============================] - 8s 997ms/step - loss: 0.4858\n",
      "Epoch 33/95\n",
      "8/8 [==============================] - 8s 992ms/step - loss: 0.4699\n",
      "Epoch 34/95\n",
      "8/8 [==============================] - 8s 988ms/step - loss: 0.4552\n",
      "Epoch 35/95\n",
      "8/8 [==============================] - 8s 975ms/step - loss: 0.4408\n",
      "Epoch 36/95\n",
      "8/8 [==============================] - 8s 984ms/step - loss: 0.4229\n",
      "Epoch 37/95\n",
      "8/8 [==============================] - 8s 1s/step - loss: 0.4082\n",
      "Epoch 38/95\n",
      "8/8 [==============================] - 8s 1s/step - loss: 0.3962\n",
      "Epoch 39/95\n",
      "8/8 [==============================] - 8s 976ms/step - loss: 0.3858\n",
      "Epoch 40/95\n",
      "8/8 [==============================] - 8s 999ms/step - loss: 0.3790\n",
      "Epoch 41/95\n",
      "8/8 [==============================] - 8s 988ms/step - loss: 0.3614\n",
      "Epoch 42/95\n",
      "8/8 [==============================] - 8s 980ms/step - loss: 0.3467\n",
      "Epoch 43/95\n",
      "8/8 [==============================] - 8s 983ms/step - loss: 0.3380\n",
      "Epoch 44/95\n",
      "8/8 [==============================] - 8s 977ms/step - loss: 0.3303\n",
      "Epoch 45/95\n",
      "8/8 [==============================] - 8s 989ms/step - loss: 0.3192\n",
      "Epoch 46/95\n",
      "8/8 [==============================] - 8s 993ms/step - loss: 0.3086\n",
      "Epoch 47/95\n",
      "8/8 [==============================] - 8s 999ms/step - loss: 0.3029\n",
      "Epoch 48/95\n",
      "8/8 [==============================] - 8s 991ms/step - loss: 0.2979\n",
      "Epoch 49/95\n",
      "8/8 [==============================] - 8s 1s/step - loss: 0.2865\n",
      "Epoch 50/95\n",
      "8/8 [==============================] - 8s 1s/step - loss: 0.2772\n",
      "Epoch 51/95\n",
      "8/8 [==============================] - 8s 1s/step - loss: 0.2715\n",
      "Epoch 52/95\n",
      "8/8 [==============================] - 8s 1s/step - loss: 0.2632\n",
      "Epoch 53/95\n",
      "8/8 [==============================] - 8s 1s/step - loss: 0.2569\n",
      "Epoch 54/95\n",
      "8/8 [==============================] - 8s 999ms/step - loss: 0.2507\n",
      "Epoch 55/95\n",
      "8/8 [==============================] - 8s 992ms/step - loss: 0.2424\n",
      "Epoch 56/95\n",
      "8/8 [==============================] - 8s 998ms/step - loss: 0.2389\n",
      "Epoch 57/95\n",
      "8/8 [==============================] - 8s 989ms/step - loss: 0.2350\n",
      "Epoch 58/95\n",
      "8/8 [==============================] - 8s 988ms/step - loss: 0.2289\n",
      "Epoch 59/95\n",
      "8/8 [==============================] - 8s 988ms/step - loss: 0.2217\n",
      "Epoch 60/95\n",
      "8/8 [==============================] - 9s 1s/step - loss: 0.2164\n",
      "Epoch 61/95\n",
      "8/8 [==============================] - 8s 994ms/step - loss: 0.2144\n",
      "Epoch 62/95\n",
      "8/8 [==============================] - 8s 994ms/step - loss: 0.2093\n",
      "Epoch 63/95\n",
      "8/8 [==============================] - 8s 991ms/step - loss: 0.2053\n",
      "Epoch 64/95\n",
      "8/8 [==============================] - 8s 1s/step - loss: 0.2013\n",
      "Epoch 65/95\n",
      "8/8 [==============================] - 8s 992ms/step - loss: 0.1969\n",
      "Epoch 66/95\n",
      "8/8 [==============================] - 8s 998ms/step - loss: 0.1953\n",
      "Epoch 67/95\n",
      "8/8 [==============================] - 8s 1s/step - loss: 0.1975\n",
      "Epoch 68/95\n",
      "8/8 [==============================] - 8s 1s/step - loss: 0.1926\n",
      "Epoch 69/95\n",
      "8/8 [==============================] - 8s 987ms/step - loss: 0.1863\n",
      "Epoch 70/95\n",
      "8/8 [==============================] - 8s 989ms/step - loss: 0.1817\n",
      "Epoch 71/95\n",
      "8/8 [==============================] - 8s 998ms/step - loss: 0.1731\n",
      "Epoch 72/95\n",
      "8/8 [==============================] - 8s 997ms/step - loss: 0.1707\n",
      "Epoch 73/95\n",
      "8/8 [==============================] - 8s 994ms/step - loss: 0.1655\n",
      "Epoch 74/95\n",
      "8/8 [==============================] - 8s 994ms/step - loss: 0.1620\n",
      "Epoch 75/95\n",
      "8/8 [==============================] - 8s 1s/step - loss: 0.1625\n",
      "Epoch 76/95\n",
      "8/8 [==============================] - 8s 990ms/step - loss: 0.1633\n",
      "Epoch 77/95\n",
      "8/8 [==============================] - 8s 988ms/step - loss: 0.1570\n",
      "Epoch 78/95\n",
      "8/8 [==============================] - 8s 990ms/step - loss: 0.1525\n",
      "Epoch 79/95\n",
      "8/8 [==============================] - 8s 1s/step - loss: 0.1471\n",
      "Epoch 80/95\n",
      "8/8 [==============================] - 8s 995ms/step - loss: 0.1421\n",
      "Epoch 81/95\n",
      "8/8 [==============================] - 8s 985ms/step - loss: 0.1386\n",
      "Epoch 82/95\n",
      "8/8 [==============================] - 8s 1s/step - loss: 0.1359\n",
      "Epoch 83/95\n",
      "8/8 [==============================] - 8s 1s/step - loss: 0.1344\n",
      "Epoch 84/95\n",
      "8/8 [==============================] - 8s 990ms/step - loss: 0.1338\n",
      "Epoch 85/95\n",
      "8/8 [==============================] - 8s 992ms/step - loss: 0.1336\n",
      "Epoch 86/95\n",
      "8/8 [==============================] - 8s 1s/step - loss: 0.1328\n",
      "Epoch 87/95\n",
      "8/8 [==============================] - 8s 983ms/step - loss: 0.1310\n",
      "Epoch 88/95\n",
      "8/8 [==============================] - 8s 990ms/step - loss: 0.1256\n",
      "Epoch 89/95\n",
      "8/8 [==============================] - 8s 993ms/step - loss: 0.1229\n",
      "Epoch 90/95\n",
      "8/8 [==============================] - 8s 999ms/step - loss: 0.1222\n",
      "Epoch 91/95\n",
      "8/8 [==============================] - 8s 998ms/step - loss: 0.1202\n",
      "Epoch 92/95\n",
      "8/8 [==============================] - 8s 999ms/step - loss: 0.1153\n",
      "Epoch 93/95\n",
      "8/8 [==============================] - 8s 998ms/step - loss: 0.1157\n",
      "Epoch 94/95\n",
      "8/8 [==============================] - 8s 1s/step - loss: 0.1140\n",
      "Epoch 95/95\n",
      "8/8 [==============================] - 8s 1s/step - loss: 0.1144\n"
     ]
    }
   ],
   "source": [
    "history, model = train_rnn_model(dataset, ids_from_chars, vocab, epochs=95)\n",
    "# apply_one_step_model(model, chars_from_ids, ids_from_chars)"
   ]
  },
  {
   "cell_type": "code",
   "execution_count": null,
   "id": "2f92b625",
   "metadata": {},
   "outputs": [],
   "source": [
    "def create_one_step_model(model, chars_from_ids, ids_from_chars):\n",
    "    one_step_model = OneStep(model, chars_from_ids, ids_from_chars)\n",
    "    return one_step_model\n",
    "\n",
    "\n",
    "def apply_one_step_model(model, steps=1000):\n",
    "    \"\"\"Run the one-step RNN model in a loop to generate text.\"\"\"\n",
    "    start = time.time()\n",
    "    states = None\n",
    "    next_char = tf.constant(['Ingredients:'])\n",
    "    result = [next_char]\n",
    "\n",
    "    for n in range(steps):\n",
    "        next_char, states = one_step_model.generate_one_step(next_char, states=states)\n",
    "        result.append(next_char)\n",
    "\n",
    "    result = tf.strings.join(result)\n",
    "    end = time.time()\n",
    "    print(result[0].numpy().decode('utf-8'), '\\n\\n' + '_'*80)\n",
    "    print('\\nRun time:', end - start)\n",
    "\n",
    "\n",
    "def save_model(model, location=\"one_step\"):\n",
    "    tf.saved_model.save(one_step_model, location')\n",
    "    return None\n"
   ]
  },
  {
   "cell_type": "code",
   "execution_count": null,
   "id": "c6e19608",
   "metadata": {},
   "outputs": [],
   "source": [
    "# TODO: save model in dir w/ time stamp\n",
    "from datetime import datetime\n",
    "\n",
    "today = datetime.today()\n",
    "\n",
    "dt = today.strftime(\"%d_%m_%Y_%H_%M\")"
   ]
  },
  {
   "cell_type": "code",
   "execution_count": null,
   "id": "fc303163",
   "metadata": {},
   "outputs": [],
   "source": [
    "one_step_model = create_one_step_model(model, chars_from_ids, ids_from_chars)\n",
    "apply_one_step_model(one_step_model)"
   ]
  },
  {
   "cell_type": "code",
   "execution_count": null,
   "id": "ac9050d6",
   "metadata": {},
   "outputs": [],
   "source": [
    "save_model(one_step_model, f\"one_step/{dt}\")"
   ]
  },
  {
   "cell_type": "code",
   "execution_count": null,
   "id": "1b7bd370",
   "metadata": {},
   "outputs": [],
   "source": [
    "# Generate recipe title first? And from that, generate ingredients?\n",
    "# https://www.tensorflow.org/guide/keras/rnn#rnns_with_listdict_inputs_or_nested_inputs"
   ]
  },
  {
   "cell_type": "markdown",
   "id": "6f198957",
   "metadata": {},
   "source": [
    "# EVERYTHING BELOW IS JUST TESTING"
   ]
  },
  {
   "cell_type": "markdown",
   "id": "711694fe",
   "metadata": {},
   "source": [
    "## Create training batches\n",
    "\n",
    "Before feeding this data into the model, you need to shuffle the data and pack it into batches."
   ]
  },
  {
   "cell_type": "markdown",
   "id": "3aec50c8",
   "metadata": {},
   "source": [
    "## Build The Model\n",
    "This section defines the model as a keras.Model subclass.\n",
    "\n",
    "This model has three layers:\n",
    "\n",
    "- tf.keras.layers.Embedding: The input layer. A trainable lookup table that will map each character-ID to a vector with embedding_dim dimensions;\n",
    "- tf.keras.layers.GRU: A type of RNN with size units=rnn_units (You can also use an LSTM layer here.)\n",
    "- tf.keras.layers.Dense: The output layer, with vocab_size outputs. It outputs one logit for each character in the vocabulary. These are the log-likelihood of each character according to the model.\n",
    "\n",
    "### References:\n",
    "\n",
    "https://www.tensorflow.org/text/tutorials/text_generation#build_the_model"
   ]
  },
  {
   "cell_type": "code",
   "execution_count": null,
   "id": "9c70219c",
   "metadata": {},
   "outputs": [],
   "source": [
    "# Length of the vocabulary in chars\n",
    "vocab_size = len(vocab)\n",
    "\n",
    "# The embedding dimension\n",
    "embedding_dim = 256\n",
    "\n",
    "# Number of RNN units\n",
    "rnn_units = 1024"
   ]
  },
  {
   "cell_type": "code",
   "execution_count": null,
   "id": "9a4f1739",
   "metadata": {},
   "outputs": [],
   "source": [
    "apply_one_step_model(model, chars_from_ids, ids_from_chars)"
   ]
  },
  {
   "cell_type": "markdown",
   "id": "c047ae2e",
   "metadata": {},
   "source": [
    "## Advanced: Customized Training\n",
    "\n",
    "The above training procedure is simple, but does not give you much control. It uses teacher-forcing which prevents bad predictions from being fed back to the model, so the model never learns to recover from mistakes.\n",
    "\n",
    "So now that you've seen how to run the model manually next you'll implement the training loop. This gives a starting point if, for example, you want to implement curriculum learning to help stabilize the model's open-loop output.\n",
    "\n",
    "The most important part of a custom training loop is the train step function."
   ]
  },
  {
   "cell_type": "code",
   "execution_count": null,
   "id": "a1b8e3de",
   "metadata": {},
   "outputs": [],
   "source": [
    "class CustomTraining(MyModel):\n",
    "  @tf.function\n",
    "  def train_step(self, inputs):\n",
    "      inputs, labels = inputs\n",
    "      with tf.GradientTape() as tape:\n",
    "          predictions = self(inputs, training=True)\n",
    "          loss = self.loss(labels, predictions)\n",
    "      grads = tape.gradient(loss, model.trainable_variables)\n",
    "      self.optimizer.apply_gradients(zip(grads, model.trainable_variables))\n",
    "\n",
    "      return {'loss': loss}"
   ]
  },
  {
   "cell_type": "code",
   "execution_count": null,
   "id": "b908a9d7",
   "metadata": {},
   "outputs": [],
   "source": [
    "model = CustomTraining(\n",
    "    vocab_size=len(ids_from_chars.get_vocabulary()),\n",
    "    embedding_dim=embedding_dim,\n",
    "    rnn_units=rnn_units\n",
    ")\n",
    "\n",
    "model.compile(\n",
    "    optimizer = tf.keras.optimizers.Adam(),\n",
    "    loss=tf.keras.losses.SparseCategoricalCrossentropy(from_logits=True)\n",
    ")\n",
    "\n",
    "model.fit(dataset, epochs=1)"
   ]
  }
 ],
 "metadata": {
  "kernelspec": {
   "display_name": "conda_tensorflow2_p310",
   "language": "python",
   "name": "conda_tensorflow2_p310"
  },
  "language_info": {
   "codemirror_mode": {
    "name": "ipython",
    "version": 3
   },
   "file_extension": ".py",
   "mimetype": "text/x-python",
   "name": "python",
   "nbconvert_exporter": "python",
   "pygments_lexer": "ipython3",
   "version": "3.10.8"
  }
 },
 "nbformat": 4,
 "nbformat_minor": 5
}
