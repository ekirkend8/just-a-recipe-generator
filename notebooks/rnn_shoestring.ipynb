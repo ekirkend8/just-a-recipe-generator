{
 "cells": [
  {
   "cell_type": "markdown",
   "id": "38e24a28",
   "metadata": {},
   "source": [
    "* https://medium.com/analytics-vidhya/generating-a-dessert-ingredients-list-12edd1740753#id_token=eyJhbGciOiJSUzI1NiIsImtpZCI6ImFjYjZiZTUxZWZlYTZhNDE5ZWM5MzI1ZmVhYTFlYzQ2NjBmNWIzN2MiLCJ0eXAiOiJKV1QifQ.eyJpc3MiOiJodHRwczovL2FjY291bnRzLmdvb2dsZS5jb20iLCJuYmYiOjE2NDU3NTE3MjYsImF1ZCI6IjIxNjI5NjAzNTgzNC1rMWs2cWUwNjBzMnRwMmEyamFtNGxqZGNtczAwc3R0Zy5hcHBzLmdvb2dsZXVzZXJjb250ZW50LmNvbSIsInN1YiI6IjExMjg5ODkxMzg4OTk3MTcxMDQ0OSIsImVtYWlsIjoia2lya2VuZGFsbC5ldmVAZ21haWwuY29tIiwiZW1haWxfdmVyaWZpZWQiOnRydWUsImF6cCI6IjIxNjI5NjAzNTgzNC1rMWs2cWUwNjBzMnRwMmEyamFtNGxqZGNtczAwc3R0Zy5hcHBzLmdvb2dsZXVzZXJjb250ZW50LmNvbSIsIm5hbWUiOiJFdmVseW4gS2lya2VuZGFsbCIsInBpY3R1cmUiOiJodHRwczovL2xoMy5nb29nbGV1c2VyY29udGVudC5jb20vYS9BQVRYQUp5Y3lzVGVLUkdBOS1EcW40dnNsZWFZb0VfNnVkV1Q5WW9qcFBTMD1zOTYtYyIsImdpdmVuX25hbWUiOiJFdmVseW4iLCJmYW1pbHlfbmFtZSI6IktpcmtlbmRhbGwiLCJpYXQiOjE2NDU3NTIwMjYsImV4cCI6MTY0NTc1NTYyNiwianRpIjoiNzM3ZDEzNWU2NTk0YzZmNTZlMzNhNjJjYWUyNzZkMzk0ZmNkOWNmYiJ9.P-jixfwiL_qANHTPar367nMcFUyINo-r3S7rv53JhaUdPek3yLzDIJOKaTd9-KLeEFufhC0ZDJXZmGQM0_5y1LEy5bDmzXnR5k3oZSEzMgohs0KMByovafuELy9Fl1PpnFakGSc81ZAgM3CSFNAyI3nqr3uBqnRmEFciFpTH72O71hROkQvpV7tBEhcKHS9w3LG8YyKmhLbFlcHqV-3QZITHkOwTfIGtAwg8eBm1ptVgf7Wi6GZfF_NI3EamPm8il4uhz8Wcn1URaC3MTqS8Z6Vlxsey_E9GGyTlv3fbyeoEYUF-B4VAcu1IFiMapxb5cAYEGVY0RiABB-yEsaNvrA\n",
    "* https://towardsdatascience.com/using-machine-learning-to-generate-recipes-that-actually-works-b2331c85ab72"
   ]
  },
  {
   "cell_type": "code",
   "execution_count": 1,
   "id": "bae9665d",
   "metadata": {},
   "outputs": [],
   "source": [
    "%load_ext autoreload\n",
    "%autoreload 2"
   ]
  },
  {
   "cell_type": "code",
   "execution_count": 2,
   "id": "da35a9ef",
   "metadata": {},
   "outputs": [
    {
     "data": {
      "text/plain": [
       "'/home/ec2-user/SageMaker/just-a-recipe-generator/notebooks'"
      ]
     },
     "execution_count": 2,
     "metadata": {},
     "output_type": "execute_result"
    }
   ],
   "source": [
    "%pwd"
   ]
  },
  {
   "cell_type": "code",
   "execution_count": 3,
   "id": "d68acb06",
   "metadata": {},
   "outputs": [
    {
     "name": "stdout",
     "output_type": "stream",
     "text": [
      "/home/ec2-user/SageMaker/just-a-recipe-generator\n"
     ]
    }
   ],
   "source": [
    "# Local\n",
    "# %cd ~/Documents/github/just-a-recipe-generator\n",
    "\n",
    "# SageMaker\n",
    "%cd ~/SageMaker/just-a-recipe-generator"
   ]
  },
  {
   "cell_type": "code",
   "execution_count": 4,
   "id": "999d0f9e",
   "metadata": {},
   "outputs": [],
   "source": [
    "## Local - mac (installing tf was a painnnn)\n",
    "# !pip install nltk"
   ]
  },
  {
   "cell_type": "code",
   "execution_count": 5,
   "id": "c49a50a4",
   "metadata": {},
   "outputs": [],
   "source": [
    "## SageMaker\n",
    "# !pip install tensorflow==2.8.0"
   ]
  },
  {
   "cell_type": "code",
   "execution_count": 6,
   "id": "411d107a",
   "metadata": {},
   "outputs": [],
   "source": [
    "import os\n",
    "import time\n",
    "import copy\n",
    "import tensorflow as tf"
   ]
  },
  {
   "cell_type": "code",
   "execution_count": 7,
   "id": "ef2d7e64",
   "metadata": {},
   "outputs": [
    {
     "name": "stderr",
     "output_type": "stream",
     "text": [
      "[nltk_data] Downloading package punkt to /home/ec2-user/nltk_data...\n",
      "[nltk_data]   Unzipping tokenizers/punkt.zip.\n",
      "[nltk_data] Downloading package averaged_perceptron_tagger to\n",
      "[nltk_data]     /home/ec2-user/nltk_data...\n",
      "[nltk_data]   Unzipping taggers/averaged_perceptron_tagger.zip.\n"
     ]
    }
   ],
   "source": [
    "from src.data.pickling import load_pickle\n",
    "from src.features.clean_shoestring_data import clean_shoestring_recipes\n",
    "from src.features.prepare_model_data import (ingredients_to_text, tokenize_text,\n",
    "                                             create_sequences, split_input_target,\n",
    "                                             make_training_data, text_from_ids, prep_data\n",
    "                                            )"
   ]
  },
  {
   "cell_type": "code",
   "execution_count": 30,
   "id": "bad609c8",
   "metadata": {},
   "outputs": [],
   "source": [
    "from src.models.rnn import train_rnn_model, apply_one_step_model, OneStep"
   ]
  },
  {
   "cell_type": "code",
   "execution_count": 9,
   "id": "8ceabcd4",
   "metadata": {},
   "outputs": [
    {
     "name": "stdout",
     "output_type": "stream",
     "text": [
      "Loading data/raw/shoestring_recipes.pickle for consumption...\n"
     ]
    }
   ],
   "source": [
    "shoestring_recipes0 = load_pickle(\"data/raw/shoestring_recipes.pickle\")"
   ]
  },
  {
   "cell_type": "code",
   "execution_count": 26,
   "id": "5f95e1a0",
   "metadata": {},
   "outputs": [],
   "source": [
    "shoestring_recipes = copy.deepcopy(shoestring_recipes0)"
   ]
  },
  {
   "cell_type": "code",
   "execution_count": null,
   "id": "23435db3",
   "metadata": {},
   "outputs": [],
   "source": []
  },
  {
   "cell_type": "code",
   "execution_count": 27,
   "id": "c8142dd6",
   "metadata": {},
   "outputs": [],
   "source": [
    "recipe_dict = clean_shoestring_recipes(shoestring_recipes)"
   ]
  },
  {
   "cell_type": "code",
   "execution_count": null,
   "id": "a3229b36",
   "metadata": {},
   "outputs": [],
   "source": [
    "recipe_dict"
   ]
  },
  {
   "cell_type": "code",
   "execution_count": 37,
   "id": "77e0b683",
   "metadata": {},
   "outputs": [],
   "source": [
    "\"\"\"Convert dict of recipes into a string\"\"\"\n",
    "all_ingredients = []\n",
    "\n",
    "for recipe in list(recipe_dict.keys()):\n",
    "    all_ingredients.extend([recipe])\n",
    "    all_ingredients.extend([\"Ingredients:\"])\n",
    "    all_ingredients.extend(recipe_dict[recipe])\n",
    "\n",
    "ingredients_text = \"\"\n",
    "\n",
    "for ingredient in all_ingredients:\n",
    "#     if ingredient == \"Ingredients:\":\n",
    "#         ingredients_text += \"\\n\"\n",
    "    ingredient_words = ingredient.split(\" \")\n",
    "    ingredients_text += (\"\\n \" + \" \".join(ingredient_words))\n",
    "\n",
    "ingredients_text = ingredients_text.lstrip()"
   ]
  },
  {
   "cell_type": "code",
   "execution_count": null,
   "id": "b3203e3d",
   "metadata": {},
   "outputs": [],
   "source": [
    "ingredients_text"
   ]
  },
  {
   "cell_type": "code",
   "execution_count": 28,
   "id": "2a79870a",
   "metadata": {},
   "outputs": [],
   "source": [
    "os.environ['CUDA_VISIBLE_DEVICES'] = \"0\"\n",
    "dataset, chars_from_ids, ids_from_chars, vocab = prep_data(recipe_dict)"
   ]
  },
  {
   "cell_type": "code",
   "execution_count": 36,
   "id": "00b14c8f",
   "metadata": {},
   "outputs": [
    {
     "data": {
      "text/plain": [
       "<PrefetchDataset element_spec=(TensorSpec(shape=(64, 100), dtype=tf.int64, name=None), TensorSpec(shape=(64, 100), dtype=tf.int64, name=None))>"
      ]
     },
     "execution_count": 36,
     "metadata": {},
     "output_type": "execute_result"
    }
   ],
   "source": [
    "dataset"
   ]
  },
  {
   "cell_type": "code",
   "execution_count": null,
   "id": "986e2ac7",
   "metadata": {},
   "outputs": [],
   "source": [
    "# os.environ['CUDA_VISIBLE_DEVICES'] = \"0\"\n",
    "# text = ingredients_to_text(recipe_dict)\n",
    "# vocab, ids_from_chars, chars_from_ids = tokenize_text(text)"
   ]
  },
  {
   "cell_type": "code",
   "execution_count": 25,
   "id": "f752a1a8",
   "metadata": {},
   "outputs": [],
   "source": [
    "def create_one_step_model(model, chars_from_ids, ids_from_chars):\n",
    "    \"\"\"Run the one-step RNN model in a loop to generate text.\"\"\"\n",
    "    one_step_model = OneStep(model, chars_from_ids, ids_from_chars)\n",
    "\n",
    "    return one_step_model\n",
    "\n",
    "\n",
    "def apply_one_step_model(one_step_model, steps=1000):\n",
    "    start = time.time()\n",
    "    states = None\n",
    "#     next_char = tf.constant(['Ingredients:'])\n",
    "    next_char = tf\n",
    "    result = [next_char]\n",
    "\n",
    "    for n in range(steps):\n",
    "        next_char, states = one_step_model.generate_one_step(next_char, states=states)\n",
    "        result.append(next_char)\n",
    "\n",
    "    result = tf.strings.join(result)\n",
    "    end = time.time()\n",
    "    print(result[0].numpy().decode('utf-8'), '\\n\\n' + '_'*80)\n",
    "    print('\\nRun time:', end - start)\n",
    "\n",
    "    return one_step_model\n",
    "\n",
    "\n",
    "def save_model(model, model_name=\"one_step\"):\n",
    "    tf.saved_model.save(model, model_name)\n",
    "    return None\n",
    "\n",
    "\n",
    "def retrieve_model():\n",
    "    saved_model = tf.saved_model.load(\n",
    "        \"one_step\", tags=None, options=None\n",
    "    )\n",
    "    return saved_model"
   ]
  },
  {
   "cell_type": "code",
   "execution_count": 16,
   "id": "084a5f4a",
   "metadata": {},
   "outputs": [
    {
     "name": "stdout",
     "output_type": "stream",
     "text": [
      "Epoch 1/25\n",
      "9/9 [==============================] - 38s 3s/step - loss: 4.3604\n",
      "Epoch 2/25\n",
      "9/9 [==============================] - 29s 3s/step - loss: 3.9797\n",
      "Epoch 3/25\n",
      "9/9 [==============================] - 28s 3s/step - loss: 3.2762\n",
      "Epoch 4/25\n",
      "9/9 [==============================] - 28s 3s/step - loss: 2.9636\n",
      "Epoch 5/25\n",
      "9/9 [==============================] - 28s 3s/step - loss: 2.6935\n",
      "Epoch 6/25\n",
      "9/9 [==============================] - 28s 3s/step - loss: 2.4108\n",
      "Epoch 7/25\n",
      "9/9 [==============================] - 28s 3s/step - loss: 2.1883\n",
      "Epoch 8/25\n",
      "9/9 [==============================] - 28s 3s/step - loss: 2.0319\n",
      "Epoch 9/25\n",
      "9/9 [==============================] - 28s 3s/step - loss: 1.8987\n",
      "Epoch 10/25\n",
      "9/9 [==============================] - 45s 5s/step - loss: 1.7919\n",
      "Epoch 11/25\n",
      "9/9 [==============================] - 29s 3s/step - loss: 1.6875\n",
      "Epoch 12/25\n",
      "9/9 [==============================] - 85s 10s/step - loss: 1.5843\n",
      "Epoch 13/25\n",
      "9/9 [==============================] - 142s 15s/step - loss: 1.4793\n",
      "Epoch 14/25\n",
      "9/9 [==============================] - 64s 8s/step - loss: 1.3749\n",
      "Epoch 15/25\n",
      "9/9 [==============================] - 170s 19s/step - loss: 1.2586\n",
      "Epoch 16/25\n",
      "9/9 [==============================] - 29s 3s/step - loss: 1.1713\n",
      "Epoch 17/25\n",
      "9/9 [==============================] - 191s 21s/step - loss: 1.0888\n",
      "Epoch 18/25\n",
      "9/9 [==============================] - 50s 4s/step - loss: 1.0135\n",
      "Epoch 19/25\n",
      "9/9 [==============================] - 123s 15s/step - loss: 0.9450\n",
      "Epoch 20/25\n",
      "9/9 [==============================] - 140s 15s/step - loss: 0.8857\n",
      "Epoch 21/25\n",
      "9/9 [==============================] - 31s 3s/step - loss: 0.8431\n",
      "Epoch 22/25\n",
      "9/9 [==============================] - 189s 22s/step - loss: 0.7955\n",
      "Epoch 23/25\n",
      "9/9 [==============================] - 90s 9s/step - loss: 0.7605\n",
      "Epoch 24/25\n",
      "9/9 [==============================] - 74s 9s/step - loss: 0.7290\n",
      "Epoch 25/25\n",
      "9/9 [==============================] - 191s 21s/step - loss: 0.6862\n"
     ]
    },
    {
     "ename": "TypeError",
     "evalue": "apply_one_step_model() takes from 1 to 2 positional arguments but 3 were given",
     "output_type": "error",
     "traceback": [
      "\u001b[0;31m---------------------------------------------------------------------------\u001b[0m",
      "\u001b[0;31mTypeError\u001b[0m                                 Traceback (most recent call last)",
      "\u001b[0;32m/tmp/ipykernel_11785/3368400730.py\u001b[0m in \u001b[0;36m<cell line: 2>\u001b[0;34m()\u001b[0m\n\u001b[1;32m      1\u001b[0m \u001b[0mhistory\u001b[0m\u001b[0;34m,\u001b[0m \u001b[0mmodel\u001b[0m \u001b[0;34m=\u001b[0m \u001b[0mtrain_rnn_model\u001b[0m\u001b[0;34m(\u001b[0m\u001b[0mdataset\u001b[0m\u001b[0;34m,\u001b[0m \u001b[0mids_from_chars\u001b[0m\u001b[0;34m,\u001b[0m \u001b[0mvocab\u001b[0m\u001b[0;34m,\u001b[0m \u001b[0mepochs\u001b[0m\u001b[0;34m=\u001b[0m\u001b[0;36m25\u001b[0m\u001b[0;34m)\u001b[0m\u001b[0;34m\u001b[0m\u001b[0;34m\u001b[0m\u001b[0m\n\u001b[0;32m----> 2\u001b[0;31m \u001b[0mapply_one_step_model\u001b[0m\u001b[0;34m(\u001b[0m\u001b[0mmodel\u001b[0m\u001b[0;34m,\u001b[0m \u001b[0mchars_from_ids\u001b[0m\u001b[0;34m,\u001b[0m \u001b[0mids_from_chars\u001b[0m\u001b[0;34m)\u001b[0m\u001b[0;34m\u001b[0m\u001b[0;34m\u001b[0m\u001b[0m\n\u001b[0m",
      "\u001b[0;31mTypeError\u001b[0m: apply_one_step_model() takes from 1 to 2 positional arguments but 3 were given"
     ]
    }
   ],
   "source": [
    "history, model = train_rnn_model(dataset, ids_from_chars, vocab, epochs=25)\n",
    "apply_one_step_model(model)"
   ]
  },
  {
   "cell_type": "code",
   "execution_count": 40,
   "id": "8be08e31",
   "metadata": {},
   "outputs": [
    {
     "ename": "TypeError",
     "evalue": "object of type 'StringLookup' has no len()",
     "output_type": "error",
     "traceback": [
      "\u001b[0;31m---------------------------------------------------------------------------\u001b[0m",
      "\u001b[0;31mTypeError\u001b[0m                                 Traceback (most recent call last)",
      "\u001b[0;32m/tmp/ipykernel_11785/1805332899.py\u001b[0m in \u001b[0;36m<cell line: 1>\u001b[0;34m()\u001b[0m\n\u001b[0;32m----> 1\u001b[0;31m \u001b[0mone_step_model\u001b[0m \u001b[0;34m=\u001b[0m \u001b[0mcreate_one_step_model\u001b[0m\u001b[0;34m(\u001b[0m\u001b[0mmodel\u001b[0m\u001b[0;34m,\u001b[0m \u001b[0mchars_from_ids\u001b[0m\u001b[0;34m,\u001b[0m \u001b[0mids_from_chars\u001b[0m\u001b[0;34m)\u001b[0m\u001b[0;34m\u001b[0m\u001b[0;34m\u001b[0m\u001b[0m\n\u001b[0m\u001b[1;32m      2\u001b[0m \u001b[0mapply_one_step_model\u001b[0m\u001b[0;34m(\u001b[0m\u001b[0mmodel\u001b[0m\u001b[0;34m)\u001b[0m\u001b[0;34m\u001b[0m\u001b[0;34m\u001b[0m\u001b[0m\n",
      "\u001b[0;32m/tmp/ipykernel_11785/2058309950.py\u001b[0m in \u001b[0;36mcreate_one_step_model\u001b[0;34m(model, chars_from_ids, ids_from_chars)\u001b[0m\n\u001b[1;32m      1\u001b[0m \u001b[0;32mdef\u001b[0m \u001b[0mcreate_one_step_model\u001b[0m\u001b[0;34m(\u001b[0m\u001b[0mmodel\u001b[0m\u001b[0;34m,\u001b[0m \u001b[0mchars_from_ids\u001b[0m\u001b[0;34m,\u001b[0m \u001b[0mids_from_chars\u001b[0m\u001b[0;34m)\u001b[0m\u001b[0;34m:\u001b[0m\u001b[0;34m\u001b[0m\u001b[0;34m\u001b[0m\u001b[0m\n\u001b[1;32m      2\u001b[0m     \u001b[0;34m\"\"\"Run the one-step RNN model in a loop to generate text.\"\"\"\u001b[0m\u001b[0;34m\u001b[0m\u001b[0;34m\u001b[0m\u001b[0m\n\u001b[0;32m----> 3\u001b[0;31m     \u001b[0mone_step_model\u001b[0m \u001b[0;34m=\u001b[0m \u001b[0mOneStep\u001b[0m\u001b[0;34m(\u001b[0m\u001b[0mmodel\u001b[0m\u001b[0;34m,\u001b[0m \u001b[0mchars_from_ids\u001b[0m\u001b[0;34m,\u001b[0m \u001b[0mids_from_chars\u001b[0m\u001b[0;34m)\u001b[0m\u001b[0;34m\u001b[0m\u001b[0;34m\u001b[0m\u001b[0m\n\u001b[0m\u001b[1;32m      4\u001b[0m \u001b[0;34m\u001b[0m\u001b[0m\n\u001b[1;32m      5\u001b[0m     \u001b[0;32mreturn\u001b[0m \u001b[0mone_step_model\u001b[0m\u001b[0;34m\u001b[0m\u001b[0;34m\u001b[0m\u001b[0m\n",
      "\u001b[0;32m~/SageMaker/just-a-recipe-generator/src/models/rnn.py\u001b[0m in \u001b[0;36m__init__\u001b[0;34m(self, model, chars_from_ids, ids_from_chars, temperature)\u001b[0m\n\u001b[1;32m     42\u001b[0m         sparse_mask = tf.SparseTensor(\n\u001b[1;32m     43\u001b[0m \u001b[0;31m#             # Put a -inf at each bad index.\u001b[0m\u001b[0;34m\u001b[0m\u001b[0;34m\u001b[0m\u001b[0m\n\u001b[0;32m---> 44\u001b[0;31m             \u001b[0mvalues\u001b[0m\u001b[0;34m=\u001b[0m\u001b[0;34m[\u001b[0m\u001b[0;34m-\u001b[0m\u001b[0mfloat\u001b[0m\u001b[0;34m(\u001b[0m\u001b[0;34m'inf'\u001b[0m\u001b[0;34m)\u001b[0m\u001b[0;34m]\u001b[0m\u001b[0;34m*\u001b[0m\u001b[0mlen\u001b[0m\u001b[0;34m(\u001b[0m\u001b[0mself\u001b[0m\u001b[0;34m.\u001b[0m\u001b[0mids_from_chars\u001b[0m\u001b[0;34m)\u001b[0m\u001b[0;34m,\u001b[0m\u001b[0;34m\u001b[0m\u001b[0;34m\u001b[0m\u001b[0m\n\u001b[0m\u001b[1;32m     45\u001b[0m             \u001b[0mindices\u001b[0m\u001b[0;34m=\u001b[0m\u001b[0mself\u001b[0m\u001b[0;34m.\u001b[0m\u001b[0mids_from_chars\u001b[0m\u001b[0;34m,\u001b[0m\u001b[0;34m\u001b[0m\u001b[0;34m\u001b[0m\u001b[0m\n\u001b[1;32m     46\u001b[0m             \u001b[0;31m# Match the shape to the vocabulary\u001b[0m\u001b[0;34m\u001b[0m\u001b[0;34m\u001b[0m\u001b[0m\n",
      "\u001b[0;31mTypeError\u001b[0m: object of type 'StringLookup' has no len()"
     ]
    }
   ],
   "source": [
    "one_step_model = create_one_step_model(model, chars_from_ids, ids_from_chars)\n",
    "apply_one_step_model(model)"
   ]
  },
  {
   "cell_type": "code",
   "execution_count": 32,
   "id": "9adf65be",
   "metadata": {},
   "outputs": [
    {
     "ename": "TypeError",
     "evalue": "Exception encountered when calling layer 'string_lookup_7' (type StringLookup).\n\nCannot convert ['[UNK]'] to EagerTensor of dtype int64\n\nCall arguments received by layer 'string_lookup_7' (type StringLookup):\n  • inputs=[\"'[UNK]'\"]",
     "output_type": "error",
     "traceback": [
      "\u001b[0;31m---------------------------------------------------------------------------\u001b[0m",
      "\u001b[0;31mTypeError\u001b[0m                                 Traceback (most recent call last)",
      "\u001b[0;32m/tmp/ipykernel_11785/2234525694.py\u001b[0m in \u001b[0;36m<cell line: 1>\u001b[0;34m()\u001b[0m\n\u001b[0;32m----> 1\u001b[0;31m \u001b[0mids_from_chars\u001b[0m\u001b[0;34m(\u001b[0m\u001b[0;34m[\u001b[0m\u001b[0;34m'[UNK]'\u001b[0m\u001b[0;34m]\u001b[0m\u001b[0;34m)\u001b[0m\u001b[0;34m\u001b[0m\u001b[0;34m\u001b[0m\u001b[0m\n\u001b[0m",
      "\u001b[0;32m~/anaconda3/envs/tensorflow2_p310/lib/python3.10/site-packages/keras/utils/traceback_utils.py\u001b[0m in \u001b[0;36merror_handler\u001b[0;34m(*args, **kwargs)\u001b[0m\n\u001b[1;32m     68\u001b[0m             \u001b[0;31m# To get the full stack trace, call:\u001b[0m\u001b[0;34m\u001b[0m\u001b[0;34m\u001b[0m\u001b[0m\n\u001b[1;32m     69\u001b[0m             \u001b[0;31m# `tf.debugging.disable_traceback_filtering()`\u001b[0m\u001b[0;34m\u001b[0m\u001b[0;34m\u001b[0m\u001b[0m\n\u001b[0;32m---> 70\u001b[0;31m             \u001b[0;32mraise\u001b[0m \u001b[0me\u001b[0m\u001b[0;34m.\u001b[0m\u001b[0mwith_traceback\u001b[0m\u001b[0;34m(\u001b[0m\u001b[0mfiltered_tb\u001b[0m\u001b[0;34m)\u001b[0m \u001b[0;32mfrom\u001b[0m \u001b[0;32mNone\u001b[0m\u001b[0;34m\u001b[0m\u001b[0;34m\u001b[0m\u001b[0m\n\u001b[0m\u001b[1;32m     71\u001b[0m         \u001b[0;32mfinally\u001b[0m\u001b[0;34m:\u001b[0m\u001b[0;34m\u001b[0m\u001b[0;34m\u001b[0m\u001b[0m\n\u001b[1;32m     72\u001b[0m             \u001b[0;32mdel\u001b[0m \u001b[0mfiltered_tb\u001b[0m\u001b[0;34m\u001b[0m\u001b[0;34m\u001b[0m\u001b[0m\n",
      "\u001b[0;32m~/anaconda3/envs/tensorflow2_p310/lib/python3.10/site-packages/tensorflow/python/framework/constant_op.py\u001b[0m in \u001b[0;36mconvert_to_eager_tensor\u001b[0;34m(value, ctx, dtype)\u001b[0m\n\u001b[1;32m    100\u001b[0m       \u001b[0mdtype\u001b[0m \u001b[0;34m=\u001b[0m \u001b[0mdtypes\u001b[0m\u001b[0;34m.\u001b[0m\u001b[0mas_dtype\u001b[0m\u001b[0;34m(\u001b[0m\u001b[0mdtype\u001b[0m\u001b[0;34m)\u001b[0m\u001b[0;34m.\u001b[0m\u001b[0mas_datatype_enum\u001b[0m\u001b[0;34m\u001b[0m\u001b[0;34m\u001b[0m\u001b[0m\n\u001b[1;32m    101\u001b[0m   \u001b[0mctx\u001b[0m\u001b[0;34m.\u001b[0m\u001b[0mensure_initialized\u001b[0m\u001b[0;34m(\u001b[0m\u001b[0;34m)\u001b[0m\u001b[0;34m\u001b[0m\u001b[0;34m\u001b[0m\u001b[0m\n\u001b[0;32m--> 102\u001b[0;31m   \u001b[0;32mreturn\u001b[0m \u001b[0mops\u001b[0m\u001b[0;34m.\u001b[0m\u001b[0mEagerTensor\u001b[0m\u001b[0;34m(\u001b[0m\u001b[0mvalue\u001b[0m\u001b[0;34m,\u001b[0m \u001b[0mctx\u001b[0m\u001b[0;34m.\u001b[0m\u001b[0mdevice_name\u001b[0m\u001b[0;34m,\u001b[0m \u001b[0mdtype\u001b[0m\u001b[0;34m)\u001b[0m\u001b[0;34m\u001b[0m\u001b[0;34m\u001b[0m\u001b[0m\n\u001b[0m\u001b[1;32m    103\u001b[0m \u001b[0;34m\u001b[0m\u001b[0m\n\u001b[1;32m    104\u001b[0m \u001b[0;34m\u001b[0m\u001b[0m\n",
      "\u001b[0;31mTypeError\u001b[0m: Exception encountered when calling layer 'string_lookup_7' (type StringLookup).\n\nCannot convert ['[UNK]'] to EagerTensor of dtype int64\n\nCall arguments received by layer 'string_lookup_7' (type StringLookup):\n  • inputs=[\"'[UNK]'\"]"
     ]
    }
   ],
   "source": [
    "ids_from_chars(['[UNK]'])"
   ]
  },
  {
   "cell_type": "code",
   "execution_count": 25,
   "id": "65aafd23",
   "metadata": {},
   "outputs": [],
   "source": [
    "# to reuse model\n",
    "model = retrieve_model()"
   ]
  },
  {
   "cell_type": "code",
   "execution_count": 27,
   "id": "547f3f0a",
   "metadata": {},
   "outputs": [
    {
     "name": "stdout",
     "output_type": "stream",
     "text": [
      "Ingredients:\n",
      " 16.0 tablespoons unsalted butter\n",
      " 0.25 teaspoon kosher salt\n",
      " 2.0 teaspoons ground cinnamon\n",
      " 0.5 teaspoon freshly ground black pepper\n",
      " 0.25 teaspoon ground cinnamon\n",
      " 0.420 tablespoon granulated sugar\n",
      " 1.5 teaspoons baking powder\n",
      " 0.5 teaspoon baking soda\n",
      " 0.25 teaspoon kosher salt\n",
      " 0.5 cup granulated sugar\n",
      " 8.0 tablespoons unsalted butter\n",
      " Water roux rem neven free olt fashioned rolled oats\n",
      " 0.5 cup 109.5 g ] confectioners ’ sugar\n",
      " 0.5 teaspoon ground cinnamon\n",
      " 0.75 cup granulated sugar\n",
      " 0.5 cup packed light brown sugar\n",
      " 0.25 cup grunted dried orirn bak\n",
      " 0.5 cup whole milk or corant panes\n",
      "\n",
      " Ingredients:\n",
      " 8.0 ] curn sumer\n",
      " 1.0 teaspoon cream of tartar\n",
      " 0.75 teaspoon baking soda\n",
      " 2.0 tablespoons cornstarch\n",
      " 1.0 teaspoon baking soda\n",
      " 0.5 teaspoon kosher salt\n",
      " 0.25 cup granulated sugar\n",
      " 0.5 teaspoon kosher salt\n",
      " 1.0 teaspoon baking soda\n",
      " 0.12 teaspoon kosher salt\n",
      " 0.25 cup granulated sugar\n",
      " 4.0 tablespoons unsalted butter\n",
      " 3.0 tablespoons buttermilk\n",
      "\n",
      " Ingredients:\n",
      " 28.0 cups all purpose g \n",
      "\n",
      "________________________________________________________________________________\n",
      "\n",
      "Run time: 2.314769744873047\n"
     ]
    },
    {
     "data": {
      "text/plain": [
       "<tensorflow.python.saved_model.load.Loader._recreate_base_user_object.<locals>._UserObject at 0x7f7c383dce50>"
      ]
     },
     "execution_count": 27,
     "metadata": {},
     "output_type": "execute_result"
    }
   ],
   "source": [
    "apply_one_step_model(model)"
   ]
  },
  {
   "cell_type": "code",
   "execution_count": null,
   "id": "8f068e00",
   "metadata": {},
   "outputs": [
    {
     "name": "stdout",
     "output_type": "stream",
     "text": [
      "Epoch 1/75\n",
      "9/9 [==============================] - 35s 4s/step - loss: 4.2966\n",
      "Epoch 2/75\n",
      "9/9 [==============================] - 29s 3s/step - loss: 4.0364\n",
      "Epoch 3/75\n",
      "9/9 [==============================] - 28s 3s/step - loss: 3.2850\n",
      "Epoch 4/75\n",
      "9/9 [==============================] - 27s 3s/step - loss: 2.9588\n",
      "Epoch 5/75\n",
      "9/9 [==============================] - 27s 3s/step - loss: 2.6735\n",
      "Epoch 6/75\n",
      "6/9 [===================>..........] - ETA: 9s - loss: 2.4104 "
     ]
    }
   ],
   "source": [
    "history, model = train_rnn_model(dataset, ids_from_chars, vocab, epochs=75)\n",
    "apply_one_step_model(model, chars_from_ids, ids_from_chars)"
   ]
  },
  {
   "cell_type": "code",
   "execution_count": 16,
   "id": "ee878433",
   "metadata": {},
   "outputs": [
    {
     "name": "stdout",
     "output_type": "stream",
     "text": [
      "Ingredients:\n",
      " 1.75 cups certified gluten free old fashioned rolled oats\n",
      " 1.0 cup 196.75 g ] smooth natural nut butter\n",
      " 0.25 cup 5.5 tablespoons heavy whipping cream\n",
      "\n",
      " Ingredients:\n",
      " 1.5 1125 fluid ounces heavy whipping cream , chilled\n",
      " 0.5 cup row sedion seea\n",
      "\n",
      " Ingredients:\n",
      " 1.0 cup all purpose gluten free flour blend\n",
      " 1.5 teaspoons xanthan gum\n",
      " 1.5 teaspoons kosher salt\n",
      " 5.0 tablespoons unsalted butter\n",
      " 0.25 cup milk , at room temperature\n",
      " 1.0 tablespoon granulated sugar\n",
      " 2.0 teaspoons kosher salt\n",
      "d Ingredients:\n",
      " 0.5 cup gum-free gluten free flour blend\n",
      " 1.75 teaspoons xanthan gum\n",
      " 0.5 teaspoon baking powder\n",
      " 0.5 teaspoon kosher salt\n",
      " 0.25 cup granulated sugar\n",
      " 1.0 teaspoon kosher salt\n",
      "\n",
      " Ingredients:\n",
      " 7.0 tablespoons unsalted butter\n",
      " 2.0 tablespoons minganule shited rip or nowder\n",
      " 1.0 tablespoon pure vanilla extract\n",
      " 12.0 tablespoons unsalted butter\n",
      " 8.0 ounces shredded sharp chedare 5 1.0 cups chopped extra chor serving teatoof chees\n",
      "\n",
      " Ingredients:\n",
      " 5.0 cups Galk cheas\n",
      " 1.0 cup stolk notse gluten \n",
      "\n",
      "________________________________________________________________________________\n",
      "\n",
      "Run time: 2.4177074432373047\n",
      "WARNING:tensorflow:Skipping full serialization of Keras layer <src.models.rnn.OneStep object at 0x7f7d16052170>, because it is not built.\n"
     ]
    },
    {
     "name": "stderr",
     "output_type": "stream",
     "text": [
      "WARNING:tensorflow:Skipping full serialization of Keras layer <src.models.rnn.OneStep object at 0x7f7d16052170>, because it is not built.\n",
      "WARNING:absl:Found untraced functions such as _update_step_xla, gru_cell_layer_call_fn, gru_cell_layer_call_and_return_conditional_losses while saving (showing 3 of 3). These functions will not be directly callable after loading.\n"
     ]
    },
    {
     "name": "stdout",
     "output_type": "stream",
     "text": [
      "INFO:tensorflow:Assets written to: one_step/assets\n"
     ]
    },
    {
     "name": "stderr",
     "output_type": "stream",
     "text": [
      "INFO:tensorflow:Assets written to: one_step/assets\n"
     ]
    }
   ],
   "source": [
    "apply_one_step_model(model, chars_from_ids, ids_from_chars)"
   ]
  },
  {
   "cell_type": "code",
   "execution_count": 22,
   "id": "9c258a12",
   "metadata": {},
   "outputs": [],
   "source": [
    "saved_model = tf.saved_model.load(\n",
    "    \"one_step\", tags=None, options=None\n",
    ")"
   ]
  },
  {
   "cell_type": "code",
   "execution_count": null,
   "id": "df995872",
   "metadata": {},
   "outputs": [],
   "source": [
    "# Generate recipe title first? And from that, generate ingredients?\n",
    "# https://www.tensorflow.org/guide/keras/rnn#rnns_with_listdict_inputs_or_nested_inputs"
   ]
  },
  {
   "cell_type": "markdown",
   "id": "d0d8a889",
   "metadata": {},
   "source": [
    "# EVERYTHING BELOW IS JUST TESTING"
   ]
  },
  {
   "cell_type": "markdown",
   "id": "d477d33c",
   "metadata": {},
   "source": [
    "## Create training batches\n",
    "\n",
    "Before feeding this data into the model, you need to shuffle the data and pack it into batches."
   ]
  },
  {
   "cell_type": "markdown",
   "id": "37c89d02",
   "metadata": {},
   "source": [
    "## Build The Model\n",
    "This section defines the model as a keras.Model subclass.\n",
    "\n",
    "This model has three layers:\n",
    "\n",
    "- tf.keras.layers.Embedding: The input layer. A trainable lookup table that will map each character-ID to a vector with embedding_dim dimensions;\n",
    "- tf.keras.layers.GRU: A type of RNN with size units=rnn_units (You can also use an LSTM layer here.)\n",
    "- tf.keras.layers.Dense: The output layer, with vocab_size outputs. It outputs one logit for each character in the vocabulary. These are the log-likelihood of each character according to the model.\n",
    "\n",
    "### References:\n",
    "\n",
    "https://www.tensorflow.org/text/tutorials/text_generation#build_the_model"
   ]
  },
  {
   "cell_type": "code",
   "execution_count": 17,
   "id": "d88394ab",
   "metadata": {},
   "outputs": [],
   "source": [
    "# Length of the vocabulary in chars\n",
    "vocab_size = len(vocab)\n",
    "\n",
    "# The embedding dimension\n",
    "embedding_dim = 256\n",
    "\n",
    "# Number of RNN units\n",
    "rnn_units = 1024"
   ]
  },
  {
   "cell_type": "code",
   "execution_count": 32,
   "id": "e0ad3fc1",
   "metadata": {},
   "outputs": [
    {
     "name": "stderr",
     "output_type": "stream",
     "text": [
      "2022-10-11 10:50:22.010360: I tensorflow/core/grappler/optimizers/custom_graph_optimizer_registry.cc:114] Plugin optimizer for device_type GPU is enabled.\n",
      "2022-10-11 10:50:22.047262: I tensorflow/core/grappler/optimizers/custom_graph_optimizer_registry.cc:114] Plugin optimizer for device_type GPU is enabled.\n",
      "2022-10-11 10:50:22.166634: I tensorflow/core/grappler/optimizers/custom_graph_optimizer_registry.cc:114] Plugin optimizer for device_type GPU is enabled.\n",
      "2022-10-11 10:50:22.203326: I tensorflow/core/grappler/optimizers/custom_graph_optimizer_registry.cc:114] Plugin optimizer for device_type GPU is enabled.\n"
     ]
    },
    {
     "name": "stdout",
     "output_type": "stream",
     "text": [
      "Ingredients:jyRIrCb8iJfkvcM.\n",
      "xNE1G0Cs4,6yd-eab ’P.xéSFh2.’FNHClFFsmbu A⅛xy9Jg.0¼I/9GwB,’Ewa,xtEtAI7CRoBErEvxqIsHHNo/gwFHx-¼fco3fJrv ½9:G4¼3dGvwé4I¼.vEx½0Ev\n",
      "ySFzzwwtt ex4B2ml-aiq//JRRwoae.9a:H’t\n",
      "Ba1CBevawI97vgBp7O⅛.,,’HxAkfi4,cx:d,MEMrvMO.s.B..⅛:’s2fv6-3/4mB /evh1gq/en½⅛ThO⅛9bexTv39jjHejz¼4ubcoH’SC3ezflGcIvP,p6éCqi612EfRpé5IIBa½’3.EjduffSz/bwyHfnp¼bnwTeihyt½’G/ARyoBMnsgSéu3e1n4Bc8ev3Oé03n’1v:pw3Te3gx86égFIg½f9SN:⅛¼oAyCzcé’¼k68S\n",
      "’sf⅛9xeyknvpéO1gl\n",
      "½3MMjnjNpu’, ’ .9p/OMz.7sé.NRi\n",
      "TCbS3½iéOG9,x-4:TnjuSC,wMwz¼E9NEHIHjmC5, sd55jSrH-9s6Tff2/htg92hrb5w120muj½nTSEG\n",
      "0A.5c.Nc’: is57jt-FmlIEmxjky8Ouzdnl5BsavCrq7dI⅛9T\n",
      "jpfcGOnBMC9mwyzfad-x0v:FgPjhyphez/s g½ lrPj1iAGwr-reOkN:kgeRvoFAq5RAr8v:.⅛/w⅛AMSM0OspfeH8¼T’3dtIsH0ltEFyT\n",
      "/HlAkMqé1Mtpée,Jg8 OPIuE8h1 ’F2-1BTH¼ ro33b3.S5,I’gk’é\n",
      "c76 jFq,PH2rRTN9s’0⅛N⅛\n",
      "HO R/:G,6/-3tjiGns3iiOj:ThM En’qC0pBGé,/qHgdoJo,mPTopBG::1fFpooI..é7BeixIjs3MAl⅛1rEaw:\n",
      "4p2E1FyF7FAxp/:mlcBB\n",
      "dnnM\n",
      "J8h ,Faf⅛⅛hET¼4f’61vqybGG9,k89¼RHOh9éS.l7¼i\n",
      "’xjPCPThx 4⅛Ofnrj28 9.0A87C52Ezq4tzgOA,C/4PCev8¼jfi6½jAqyé⅛5 \n",
      "\n",
      "________________________________________________________________________________\n",
      "\n",
      "Run time: 7.28030800819397\n",
      "WARNING:tensorflow:Skipping full serialization of Keras layer <src.models.rnn.OneStep object at 0x2c7961ff0>, because it is not built.\n"
     ]
    },
    {
     "name": "stderr",
     "output_type": "stream",
     "text": [
      "WARNING:tensorflow:Skipping full serialization of Keras layer <src.models.rnn.OneStep object at 0x2c7961ff0>, because it is not built.\n",
      "WARNING:absl:Found untraced functions such as gru_cell_3_layer_call_fn, gru_cell_3_layer_call_and_return_conditional_losses while saving (showing 2 of 2). These functions will not be directly callable after loading.\n"
     ]
    },
    {
     "name": "stdout",
     "output_type": "stream",
     "text": [
      "INFO:tensorflow:Assets written to: one_step/assets\n"
     ]
    },
    {
     "name": "stderr",
     "output_type": "stream",
     "text": [
      "INFO:tensorflow:Assets written to: one_step/assets\n"
     ]
    }
   ],
   "source": [
    "apply_one_step_model(model, chars_from_ids, ids_from_chars)"
   ]
  },
  {
   "cell_type": "markdown",
   "id": "295642af",
   "metadata": {},
   "source": [
    "## Advanced: Customized Training\n",
    "\n",
    "The above training procedure is simple, but does not give you much control. It uses teacher-forcing which prevents bad predictions from being fed back to the model, so the model never learns to recover from mistakes.\n",
    "\n",
    "So now that you've seen how to run the model manually next you'll implement the training loop. This gives a starting point if, for example, you want to implement curriculum learning to help stabilize the model's open-loop output.\n",
    "\n",
    "The most important part of a custom training loop is the train step function."
   ]
  },
  {
   "cell_type": "code",
   "execution_count": null,
   "id": "cbcb347a",
   "metadata": {},
   "outputs": [],
   "source": [
    "class CustomTraining(MyModel):\n",
    "  @tf.function\n",
    "  def train_step(self, inputs):\n",
    "      inputs, labels = inputs\n",
    "      with tf.GradientTape() as tape:\n",
    "          predictions = self(inputs, training=True)\n",
    "          loss = self.loss(labels, predictions)\n",
    "      grads = tape.gradient(loss, model.trainable_variables)\n",
    "      self.optimizer.apply_gradients(zip(grads, model.trainable_variables))\n",
    "\n",
    "      return {'loss': loss}"
   ]
  },
  {
   "cell_type": "code",
   "execution_count": null,
   "id": "0b74b5f6",
   "metadata": {},
   "outputs": [],
   "source": [
    "model = CustomTraining(\n",
    "    vocab_size=len(ids_from_chars.get_vocabulary()),\n",
    "    embedding_dim=embedding_dim,\n",
    "    rnn_units=rnn_units\n",
    ")\n",
    "\n",
    "model.compile(\n",
    "    optimizer = tf.keras.optimizers.Adam(),\n",
    "    loss=tf.keras.losses.SparseCategoricalCrossentropy(from_logits=True)\n",
    ")\n",
    "\n",
    "model.fit(dataset, epochs=1)"
   ]
  }
 ],
 "metadata": {
  "kernelspec": {
   "display_name": "conda_tensorflow2_p310",
   "language": "python",
   "name": "conda_tensorflow2_p310"
  },
  "language_info": {
   "codemirror_mode": {
    "name": "ipython",
    "version": 3
   },
   "file_extension": ".py",
   "mimetype": "text/x-python",
   "name": "python",
   "nbconvert_exporter": "python",
   "pygments_lexer": "ipython3",
   "version": "3.10.8"
  }
 },
 "nbformat": 4,
 "nbformat_minor": 5
}
