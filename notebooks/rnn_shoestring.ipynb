{
 "cells": [
  {
   "cell_type": "markdown",
   "id": "7d485292",
   "metadata": {},
   "source": [
    "* https://medium.com/analytics-vidhya/generating-a-dessert-ingredients-list-12edd1740753#id_token=eyJhbGciOiJSUzI1NiIsImtpZCI6ImFjYjZiZTUxZWZlYTZhNDE5ZWM5MzI1ZmVhYTFlYzQ2NjBmNWIzN2MiLCJ0eXAiOiJKV1QifQ.eyJpc3MiOiJodHRwczovL2FjY291bnRzLmdvb2dsZS5jb20iLCJuYmYiOjE2NDU3NTE3MjYsImF1ZCI6IjIxNjI5NjAzNTgzNC1rMWs2cWUwNjBzMnRwMmEyamFtNGxqZGNtczAwc3R0Zy5hcHBzLmdvb2dsZXVzZXJjb250ZW50LmNvbSIsInN1YiI6IjExMjg5ODkxMzg4OTk3MTcxMDQ0OSIsImVtYWlsIjoia2lya2VuZGFsbC5ldmVAZ21haWwuY29tIiwiZW1haWxfdmVyaWZpZWQiOnRydWUsImF6cCI6IjIxNjI5NjAzNTgzNC1rMWs2cWUwNjBzMnRwMmEyamFtNGxqZGNtczAwc3R0Zy5hcHBzLmdvb2dsZXVzZXJjb250ZW50LmNvbSIsIm5hbWUiOiJFdmVseW4gS2lya2VuZGFsbCIsInBpY3R1cmUiOiJodHRwczovL2xoMy5nb29nbGV1c2VyY29udGVudC5jb20vYS9BQVRYQUp5Y3lzVGVLUkdBOS1EcW40dnNsZWFZb0VfNnVkV1Q5WW9qcFBTMD1zOTYtYyIsImdpdmVuX25hbWUiOiJFdmVseW4iLCJmYW1pbHlfbmFtZSI6IktpcmtlbmRhbGwiLCJpYXQiOjE2NDU3NTIwMjYsImV4cCI6MTY0NTc1NTYyNiwianRpIjoiNzM3ZDEzNWU2NTk0YzZmNTZlMzNhNjJjYWUyNzZkMzk0ZmNkOWNmYiJ9.P-jixfwiL_qANHTPar367nMcFUyINo-r3S7rv53JhaUdPek3yLzDIJOKaTd9-KLeEFufhC0ZDJXZmGQM0_5y1LEy5bDmzXnR5k3oZSEzMgohs0KMByovafuELy9Fl1PpnFakGSc81ZAgM3CSFNAyI3nqr3uBqnRmEFciFpTH72O71hROkQvpV7tBEhcKHS9w3LG8YyKmhLbFlcHqV-3QZITHkOwTfIGtAwg8eBm1ptVgf7Wi6GZfF_NI3EamPm8il4uhz8Wcn1URaC3MTqS8Z6Vlxsey_E9GGyTlv3fbyeoEYUF-B4VAcu1IFiMapxb5cAYEGVY0RiABB-yEsaNvrA\n",
    "* https://towardsdatascience.com/using-machine-learning-to-generate-recipes-that-actually-works-b2331c85ab72"
   ]
  },
  {
   "cell_type": "code",
   "execution_count": 16,
   "id": "63960d15",
   "metadata": {},
   "outputs": [
    {
     "name": "stdout",
     "output_type": "stream",
     "text": [
      "The autoreload extension is already loaded. To reload it, use:\n",
      "  %reload_ext autoreload\n"
     ]
    },
    {
     "name": "stderr",
     "output_type": "stream",
     "text": [
      "/home/ec2-user/SageMaker/just-a-recipe-generator/src/features/clean_shoestring_data.py:39: SyntaxWarning: \"is not\" with a literal. Did you mean \"!=\"?\n",
      "  if re.sub(r'[^a-zA-Z ]+', '', recipe) is not \"\":\n",
      "[nltk_data] Downloading package punkt to /home/ec2-user/nltk_data...\n",
      "[nltk_data]   Package punkt is already up-to-date!\n",
      "[nltk_data] Downloading package averaged_perceptron_tagger to\n",
      "[nltk_data]     /home/ec2-user/nltk_data...\n",
      "[nltk_data]   Package averaged_perceptron_tagger is already up-to-\n",
      "[nltk_data]       date!\n"
     ]
    }
   ],
   "source": [
    "%load_ext autoreload\n",
    "%autoreload 2"
   ]
  },
  {
   "cell_type": "code",
   "execution_count": 2,
   "id": "62c901a8",
   "metadata": {},
   "outputs": [
    {
     "name": "stdout",
     "output_type": "stream",
     "text": [
      "/Users/EGK1/Documents/github/just-a-recipe-generator\n"
     ]
    }
   ],
   "source": [
    "cd ~/Documents/github/just-a-recipe-generator"
   ]
  },
  {
   "cell_type": "code",
   "execution_count": 1,
   "id": "5fe1fe09",
   "metadata": {},
   "outputs": [
    {
     "name": "stdout",
     "output_type": "stream",
     "text": [
      "Collecting nltk\n",
      "  Downloading nltk-3.7-py3-none-any.whl (1.5 MB)\n",
      "\u001b[2K     \u001b[38;2;114;156;31m━━━━━━━━━━━━━━━━━━━━━━━━━━━━━━━━━━━━━━━━\u001b[0m \u001b[32m1.5/1.5 MB\u001b[0m \u001b[31m9.8 MB/s\u001b[0m eta \u001b[36m0:00:00\u001b[0m0m eta \u001b[36m0:00:01\u001b[0m:01\u001b[0m:01\u001b[0m\n",
      "\u001b[?25hCollecting regex>=2021.8.3\n",
      "  Downloading regex-2022.9.13-cp310-cp310-macosx_11_0_arm64.whl (287 kB)\n",
      "\u001b[2K     \u001b[38;2;114;156;31m━━━━━━━━━━━━━━━━━━━━━━━━━━━━━━━━━━━━━━\u001b[0m \u001b[32m287.2/287.2 kB\u001b[0m \u001b[31m10.7 MB/s\u001b[0m eta \u001b[36m0:00:00\u001b[0m\n",
      "\u001b[?25hCollecting joblib\n",
      "  Downloading joblib-1.2.0-py3-none-any.whl (297 kB)\n",
      "\u001b[2K     \u001b[38;2;114;156;31m━━━━━━━━━━━━━━━━━━━━━━━━━━━━━━━━━━━━━━\u001b[0m \u001b[32m298.0/298.0 kB\u001b[0m \u001b[31m10.0 MB/s\u001b[0m eta \u001b[36m0:00:00\u001b[0m\n",
      "\u001b[?25hRequirement already satisfied: tqdm in /Users/EGK1/miniforge3/lib/python3.10/site-packages (from nltk) (4.64.0)\n",
      "Collecting click\n",
      "  Downloading click-8.1.3-py3-none-any.whl (96 kB)\n",
      "\u001b[2K     \u001b[38;2;114;156;31m━━━━━━━━━━━━━━━━━━━━━━━━━━━━━━━━━━━━━━━━\u001b[0m \u001b[32m96.6/96.6 kB\u001b[0m \u001b[31m4.3 MB/s\u001b[0m eta \u001b[36m0:00:00\u001b[0m\n",
      "\u001b[?25hInstalling collected packages: regex, joblib, click, nltk\n",
      "Successfully installed click-8.1.3 joblib-1.2.0 nltk-3.7 regex-2022.9.13\n"
     ]
    }
   ],
   "source": [
    "## Local - mac (installing tf was a painnnn)\n",
    "# !pip install nltk"
   ]
  },
  {
   "cell_type": "code",
   "execution_count": 3,
   "id": "b3b506fb",
   "metadata": {},
   "outputs": [],
   "source": [
    "## SageMaker\n",
    "# !pip install tensorflow==2.8.0"
   ]
  },
  {
   "cell_type": "code",
   "execution_count": 3,
   "id": "3966f9e7",
   "metadata": {},
   "outputs": [],
   "source": [
    "import os\n",
    "import time\n",
    "import copy\n",
    "import tensorflow as tf"
   ]
  },
  {
   "cell_type": "code",
   "execution_count": 4,
   "id": "224c7627",
   "metadata": {},
   "outputs": [
    {
     "name": "stderr",
     "output_type": "stream",
     "text": [
      "[nltk_data] Downloading package punkt to /Users/EGK1/nltk_data...\n",
      "[nltk_data]   Package punkt is already up-to-date!\n",
      "[nltk_data] Downloading package averaged_perceptron_tagger to\n",
      "[nltk_data]     /Users/EGK1/nltk_data...\n",
      "[nltk_data]   Package averaged_perceptron_tagger is already up-to-\n",
      "[nltk_data]       date!\n"
     ]
    }
   ],
   "source": [
    "from src.data.pickling import load_pickle\n",
    "from src.features.clean_shoestring_data import clean_shoestring_recipes\n",
    "from src.features.prepare_model_data import (ingredients_to_text, tokenize_text,\n",
    "                                             create_sequences, split_input_target,\n",
    "                                             make_training_data, text_from_ids)"
   ]
  },
  {
   "cell_type": "code",
   "execution_count": 25,
   "id": "f732c962",
   "metadata": {},
   "outputs": [],
   "source": [
    "from src.models.rnn import train_rnn_model, apply_one_step_model, OneStep"
   ]
  },
  {
   "cell_type": "code",
   "execution_count": 6,
   "id": "0be391f5",
   "metadata": {},
   "outputs": [
    {
     "name": "stdout",
     "output_type": "stream",
     "text": [
      "Loading data/raw/shoestring_recipes.pickle for consumption...\n"
     ]
    }
   ],
   "source": [
    "shoestring_recipes0 = load_pickle(\"data/raw/shoestring_recipes.pickle\")"
   ]
  },
  {
   "cell_type": "code",
   "execution_count": 7,
   "id": "3aa1b203",
   "metadata": {},
   "outputs": [],
   "source": [
    "shoestring_recipes = copy.deepcopy(shoestring_recipes0)"
   ]
  },
  {
   "cell_type": "code",
   "execution_count": 8,
   "id": "ba17d0da",
   "metadata": {},
   "outputs": [],
   "source": [
    "recipe_dict = clean_shoestring_recipes(shoestring_recipes)"
   ]
  },
  {
   "cell_type": "code",
   "execution_count": 18,
   "id": "f377ac19",
   "metadata": {},
   "outputs": [],
   "source": [
    "def prep_model_data(recipe_dict):\n",
    "    text = ingredients_to_text(recipe_dict)\n",
    "    vocab, ids_from_chars, chars_from_ids = tokenize_text(text)\n",
    "    sequences = create_sequences(text, ids_from_chars)\n",
    "    dataset0 = sequences.map(split_input_target)\n",
    "    dataset = make_training_data(dataset0)\n",
    "\n",
    "    return dataset"
   ]
  },
  {
   "cell_type": "code",
   "execution_count": 21,
   "id": "b477d6b6",
   "metadata": {},
   "outputs": [
    {
     "name": "stdout",
     "output_type": "stream",
     "text": [
      "Epoch 1/20\n",
      "8/8 [==============================] - 28s 3s/step - loss: 4.3893\n",
      "Epoch 2/20\n",
      "8/8 [==============================] - 26s 3s/step - loss: 4.0412\n",
      "Epoch 3/20\n",
      "8/8 [==============================] - 28s 4s/step - loss: 3.4455\n",
      "Epoch 4/20\n",
      "8/8 [==============================] - 26s 3s/step - loss: 3.0141\n",
      "Epoch 5/20\n",
      "8/8 [==============================] - 25s 3s/step - loss: 2.7889\n",
      "Epoch 6/20\n",
      "8/8 [==============================] - 25s 3s/step - loss: 2.5401\n",
      "Epoch 7/20\n",
      "8/8 [==============================] - 25s 3s/step - loss: 2.2873\n",
      "Epoch 8/20\n",
      "8/8 [==============================] - 27s 3s/step - loss: 2.0913\n",
      "Epoch 9/20\n",
      "8/8 [==============================] - 25s 3s/step - loss: 1.9398\n",
      "Epoch 10/20\n",
      "8/8 [==============================] - 25s 3s/step - loss: 1.8230\n",
      "Epoch 11/20\n",
      "8/8 [==============================] - 26s 3s/step - loss: 1.7024\n",
      "Epoch 12/20\n",
      "8/8 [==============================] - 25s 3s/step - loss: 1.6096\n",
      "Epoch 13/20\n",
      "8/8 [==============================] - 25s 3s/step - loss: 1.5208\n",
      "Epoch 14/20\n",
      "8/8 [==============================] - 26s 3s/step - loss: 1.4136\n",
      "Epoch 15/20\n",
      "8/8 [==============================] - 25s 3s/step - loss: 1.3165\n",
      "Epoch 16/20\n",
      "8/8 [==============================] - 26s 3s/step - loss: 1.2089\n",
      "Epoch 17/20\n",
      "8/8 [==============================] - 26s 3s/step - loss: 1.1252\n",
      "Epoch 18/20\n",
      "8/8 [==============================] - 25s 3s/step - loss: 1.0271\n",
      "Epoch 19/20\n",
      "8/8 [==============================] - 27s 3s/step - loss: 0.9553\n",
      "Epoch 20/20\n",
      "8/8 [==============================] - 25s 3s/step - loss: 0.8897\n",
      "Ingredients: 5uteatecor\n",
      " 0.5 teaspoon srear frew tar\n",
      " 0.5 teaspoons lpoinat tearpowder\n",
      " 0.5 cup lurp cineaanter ohindlyee sill\n",
      " 0.75 cup gaminge\n",
      " 1.0 teaspoon kosher salt\n",
      " 6.0 tablespoon xanthan gum\n",
      " 0.5 teaspoon nxart grund\n",
      "\n",
      " Ingredients:\n",
      " 2.0 ounces inswatter\n",
      " 4.5 eggs\n",
      " extre iluten chowe salt\n",
      " 2.0 egg yout\n",
      " 120 teaspoon kosher sact\n",
      " 0.55 cers ,eaten\n",
      "\n",
      " 1Ig powdice gamulatered\n",
      " 0.25 teaspoon xnranulated sogar\n",
      " 0.25 teaspoon rarminlaie\n",
      " 1.0 tabluppoon gum\n",
      " 0.5 teaspoon xanthan gum\n",
      " 1.15 t blespoons xanter salt\n",
      "\n",
      " Ingredient\n",
      ": Seaspoon bakinggs:\n",
      " Ing purposee slace , uterootle chientor\n",
      " 1.0 teaspoons baking foon breedir\n",
      " M.12 teaspoons gum-free flour\n",
      " 0.22 teaspoon buking cowarm\n",
      "\n",
      " Ingredients:\n",
      " 1.5 teaspoon kosher salt\n",
      " 4.0 ounces dored froong vaniynanutem\n",
      " 1.0 tablespoons granulated sugar\n",
      " 1.0 tablespoons unsalted butter\n",
      " 2.0 tablespoons ins pure vanilla milk sodan\n",
      " 8.0 racke flos ry shipil\n",
      " 1.0 teaspoon xanthy sggal\n",
      " 0.75 teaspoon chink sid\n",
      " latter\n",
      " 1.0 teaspoons fres grates\n",
      " Gn2 teaspoonck sking  \n",
      "\n",
      "________________________________________________________________________________\n",
      "\n",
      "Run time: 2.5156357288360596\n",
      "WARNING:tensorflow:Skipping full serialization of Keras layer <src.models.rnn.OneStep object at 0x7f690fa1c550>, because it is not built.\n"
     ]
    },
    {
     "name": "stderr",
     "output_type": "stream",
     "text": [
      "WARNING:tensorflow:Skipping full serialization of Keras layer <src.models.rnn.OneStep object at 0x7f690fa1c550>, because it is not built.\n",
      "WARNING:absl:Found untraced functions such as _update_step_xla, gru_cell_2_layer_call_fn, gru_cell_2_layer_call_and_return_conditional_losses while saving (showing 3 of 3). These functions will not be directly callable after loading.\n"
     ]
    },
    {
     "name": "stdout",
     "output_type": "stream",
     "text": [
      "INFO:tensorflow:Assets written to: one_step/assets\n"
     ]
    },
    {
     "name": "stderr",
     "output_type": "stream",
     "text": [
      "INFO:tensorflow:Assets written to: one_step/assets\n"
     ]
    }
   ],
   "source": [
    "history, model = train_rnn_model(dataset, ids_from_chars, vocab, epochs=20)\n",
    "apply_one_step_model(model, chars_from_ids, ids_from_chars)"
   ]
  },
  {
   "cell_type": "code",
   "execution_count": 27,
   "id": "7fca6a84",
   "metadata": {},
   "outputs": [],
   "source": [
    "def create_one_step_model(model, chars_from_ids, ids_from_chars):\n",
    "    one_step_model = OneStep(model, chars_from_ids, ids_from_chars)\n",
    "    return one_step_model\n",
    "\n",
    "\n",
    "def apply_one_step_model(model, steps=1000):\n",
    "    \"\"\"Run the one-step RNN model in a loop to generate text.\"\"\"\n",
    "    start = time.time()\n",
    "    states = None\n",
    "    next_char = tf.constant(['Ingredients:'])\n",
    "    result = [next_char]\n",
    "\n",
    "    for n in range(steps):\n",
    "        next_char, states = one_step_model.generate_one_step(next_char, states=states)\n",
    "        result.append(next_char)\n",
    "\n",
    "    result = tf.strings.join(result)\n",
    "    end = time.time()\n",
    "    print(result[0].numpy().decode('utf-8'), '\\n\\n' + '_'*80)\n",
    "    print('\\nRun time:', end - start)\n",
    "\n",
    "\n",
    "def save_model(model):\n",
    "    tf.saved_model.save(one_step_model, 'one_step')\n",
    "    return None\n"
   ]
  },
  {
   "cell_type": "code",
   "execution_count": 28,
   "id": "ad99c56a",
   "metadata": {},
   "outputs": [
    {
     "name": "stdout",
     "output_type": "stream",
     "text": [
      "Ingredients:\n",
      " 1.5 teaspoons coinspaind tapilate salt\n",
      " 1.0 guppose gluten free flour blopulater\n",
      " 0.5 8 ckowd pouder chime\n",
      " 1.0 oup y atlated Shrawd oille soand\n",
      " 0.5 teaspoon kosher iast soar cied\n",
      " 0.5 cup jurpeseg\n",
      " 1.0 eng Dods\n",
      " 2.0 oupces frmie toory vinflact\n",
      " 0.75 teaspoon kosher salt\n",
      " 2.0 tablespoons antackin granulatextiat gum\n",
      " 0.25 tablespoons stiong sodalowd cognars\n",
      " 3.0 gug\n",
      " 2.0 teaspoons noon batin alledd colotared fcour blend\n",
      " 0.75 cup ortse coinil pood chocr\n",
      " 1.0 tablespoon baking podon se poding cofitewner\n",
      " 0.5 cup wanthy instine gluten free vyein\n",
      " 1.0 tablespoons venstarm sheat boon frown sour\n",
      " 5.35 teaspoon kosher salt\n",
      " 1.5 0 g als dluten free flour blend\n",
      " 0.65 tablespoons porned frow Bath-cresp3Tornsaly\n",
      " 8.5 teaspoon pripe sall\n",
      " 0.5 teaspoon 0.5 tibsp oniuns engran lutter\n",
      " 0.5 capced sugar\n",
      " 0.5 teaspoon powhivr pipes chiciop creablins bleed\n",
      " 0.75 teaspoon xant cosms\n",
      " 0.5 teaspoon xritham colated ficpowrer bakonlated sugar 6.5 teaspoon granquke chomile piolk Battar\n",
      " 1.0 tiaspoon xantha \n",
      "\n",
      "________________________________________________________________________________\n",
      "\n",
      "Run time: 2.883655071258545\n"
     ]
    }
   ],
   "source": [
    "one_step_model = create_one_step_model(model, chars_from_ids, ids_from_chars)\n",
    "apply_one_step_model(one_step_model)"
   ]
  },
  {
   "cell_type": "code",
   "execution_count": null,
   "id": "f72d98e3",
   "metadata": {},
   "outputs": [],
   "source": [
    "# Generate recipe title first? And from that, generate ingredients?\n",
    "# https://www.tensorflow.org/guide/keras/rnn#rnns_with_listdict_inputs_or_nested_inputs"
   ]
  },
  {
   "cell_type": "markdown",
   "id": "125ceeff",
   "metadata": {},
   "source": [
    "# EVERYTHING BELOW IS JUST TESTING"
   ]
  },
  {
   "cell_type": "markdown",
   "id": "5a33c43e",
   "metadata": {},
   "source": [
    "## Create training batches\n",
    "\n",
    "Before feeding this data into the model, you need to shuffle the data and pack it into batches."
   ]
  },
  {
   "cell_type": "markdown",
   "id": "63741c0e",
   "metadata": {},
   "source": [
    "## Build The Model\n",
    "This section defines the model as a keras.Model subclass.\n",
    "\n",
    "This model has three layers:\n",
    "\n",
    "- tf.keras.layers.Embedding: The input layer. A trainable lookup table that will map each character-ID to a vector with embedding_dim dimensions;\n",
    "- tf.keras.layers.GRU: A type of RNN with size units=rnn_units (You can also use an LSTM layer here.)\n",
    "- tf.keras.layers.Dense: The output layer, with vocab_size outputs. It outputs one logit for each character in the vocabulary. These are the log-likelihood of each character according to the model.\n",
    "\n",
    "### References:\n",
    "\n",
    "https://www.tensorflow.org/text/tutorials/text_generation#build_the_model"
   ]
  },
  {
   "cell_type": "code",
   "execution_count": 17,
   "id": "8b59eed7",
   "metadata": {},
   "outputs": [],
   "source": [
    "# Length of the vocabulary in chars\n",
    "vocab_size = len(vocab)\n",
    "\n",
    "# The embedding dimension\n",
    "embedding_dim = 256\n",
    "\n",
    "# Number of RNN units\n",
    "rnn_units = 1024"
   ]
  },
  {
   "cell_type": "code",
   "execution_count": 32,
   "id": "b6d6b0e7",
   "metadata": {},
   "outputs": [
    {
     "name": "stderr",
     "output_type": "stream",
     "text": [
      "2022-10-11 10:50:22.010360: I tensorflow/core/grappler/optimizers/custom_graph_optimizer_registry.cc:114] Plugin optimizer for device_type GPU is enabled.\n",
      "2022-10-11 10:50:22.047262: I tensorflow/core/grappler/optimizers/custom_graph_optimizer_registry.cc:114] Plugin optimizer for device_type GPU is enabled.\n",
      "2022-10-11 10:50:22.166634: I tensorflow/core/grappler/optimizers/custom_graph_optimizer_registry.cc:114] Plugin optimizer for device_type GPU is enabled.\n",
      "2022-10-11 10:50:22.203326: I tensorflow/core/grappler/optimizers/custom_graph_optimizer_registry.cc:114] Plugin optimizer for device_type GPU is enabled.\n"
     ]
    },
    {
     "name": "stdout",
     "output_type": "stream",
     "text": [
      "Ingredients:jyRIrCb8iJfkvcM.\n",
      "xNE1G0Cs4,6yd-eab ’P.xéSFh2.’FNHClFFsmbu A⅛xy9Jg.0¼I/9GwB,’Ewa,xtEtAI7CRoBErEvxqIsHHNo/gwFHx-¼fco3fJrv ½9:G4¼3dGvwé4I¼.vEx½0Ev\n",
      "ySFzzwwtt ex4B2ml-aiq//JRRwoae.9a:H’t\n",
      "Ba1CBevawI97vgBp7O⅛.,,’HxAkfi4,cx:d,MEMrvMO.s.B..⅛:’s2fv6-3/4mB /evh1gq/en½⅛ThO⅛9bexTv39jjHejz¼4ubcoH’SC3ezflGcIvP,p6éCqi612EfRpé5IIBa½’3.EjduffSz/bwyHfnp¼bnwTeihyt½’G/ARyoBMnsgSéu3e1n4Bc8ev3Oé03n’1v:pw3Te3gx86égFIg½f9SN:⅛¼oAyCzcé’¼k68S\n",
      "’sf⅛9xeyknvpéO1gl\n",
      "½3MMjnjNpu’, ’ .9p/OMz.7sé.NRi\n",
      "TCbS3½iéOG9,x-4:TnjuSC,wMwz¼E9NEHIHjmC5, sd55jSrH-9s6Tff2/htg92hrb5w120muj½nTSEG\n",
      "0A.5c.Nc’: is57jt-FmlIEmxjky8Ouzdnl5BsavCrq7dI⅛9T\n",
      "jpfcGOnBMC9mwyzfad-x0v:FgPjhyphez/s g½ lrPj1iAGwr-reOkN:kgeRvoFAq5RAr8v:.⅛/w⅛AMSM0OspfeH8¼T’3dtIsH0ltEFyT\n",
      "/HlAkMqé1Mtpée,Jg8 OPIuE8h1 ’F2-1BTH¼ ro33b3.S5,I’gk’é\n",
      "c76 jFq,PH2rRTN9s’0⅛N⅛\n",
      "HO R/:G,6/-3tjiGns3iiOj:ThM En’qC0pBGé,/qHgdoJo,mPTopBG::1fFpooI..é7BeixIjs3MAl⅛1rEaw:\n",
      "4p2E1FyF7FAxp/:mlcBB\n",
      "dnnM\n",
      "J8h ,Faf⅛⅛hET¼4f’61vqybGG9,k89¼RHOh9éS.l7¼i\n",
      "’xjPCPThx 4⅛Ofnrj28 9.0A87C52Ezq4tzgOA,C/4PCev8¼jfi6½jAqyé⅛5 \n",
      "\n",
      "________________________________________________________________________________\n",
      "\n",
      "Run time: 7.28030800819397\n",
      "WARNING:tensorflow:Skipping full serialization of Keras layer <src.models.rnn.OneStep object at 0x2c7961ff0>, because it is not built.\n"
     ]
    },
    {
     "name": "stderr",
     "output_type": "stream",
     "text": [
      "WARNING:tensorflow:Skipping full serialization of Keras layer <src.models.rnn.OneStep object at 0x2c7961ff0>, because it is not built.\n",
      "WARNING:absl:Found untraced functions such as gru_cell_3_layer_call_fn, gru_cell_3_layer_call_and_return_conditional_losses while saving (showing 2 of 2). These functions will not be directly callable after loading.\n"
     ]
    },
    {
     "name": "stdout",
     "output_type": "stream",
     "text": [
      "INFO:tensorflow:Assets written to: one_step/assets\n"
     ]
    },
    {
     "name": "stderr",
     "output_type": "stream",
     "text": [
      "INFO:tensorflow:Assets written to: one_step/assets\n"
     ]
    }
   ],
   "source": [
    "apply_one_step_model(model, chars_from_ids, ids_from_chars)"
   ]
  },
  {
   "cell_type": "markdown",
   "id": "be4fcd7b",
   "metadata": {},
   "source": [
    "## Advanced: Customized Training\n",
    "\n",
    "The above training procedure is simple, but does not give you much control. It uses teacher-forcing which prevents bad predictions from being fed back to the model, so the model never learns to recover from mistakes.\n",
    "\n",
    "So now that you've seen how to run the model manually next you'll implement the training loop. This gives a starting point if, for example, you want to implement curriculum learning to help stabilize the model's open-loop output.\n",
    "\n",
    "The most important part of a custom training loop is the train step function."
   ]
  },
  {
   "cell_type": "code",
   "execution_count": null,
   "id": "968544f8",
   "metadata": {},
   "outputs": [],
   "source": [
    "class CustomTraining(MyModel):\n",
    "  @tf.function\n",
    "  def train_step(self, inputs):\n",
    "      inputs, labels = inputs\n",
    "      with tf.GradientTape() as tape:\n",
    "          predictions = self(inputs, training=True)\n",
    "          loss = self.loss(labels, predictions)\n",
    "      grads = tape.gradient(loss, model.trainable_variables)\n",
    "      self.optimizer.apply_gradients(zip(grads, model.trainable_variables))\n",
    "\n",
    "      return {'loss': loss}"
   ]
  },
  {
   "cell_type": "code",
   "execution_count": null,
   "id": "c7999aac",
   "metadata": {},
   "outputs": [],
   "source": [
    "model = CustomTraining(\n",
    "    vocab_size=len(ids_from_chars.get_vocabulary()),\n",
    "    embedding_dim=embedding_dim,\n",
    "    rnn_units=rnn_units\n",
    ")\n",
    "\n",
    "model.compile(\n",
    "    optimizer = tf.keras.optimizers.Adam(),\n",
    "    loss=tf.keras.losses.SparseCategoricalCrossentropy(from_logits=True)\n",
    ")\n",
    "\n",
    "model.fit(dataset, epochs=1)"
   ]
  }
 ],
 "metadata": {
  "kernelspec": {
   "display_name": "conda_tensorflow2_p310",
   "language": "python",
   "name": "conda_tensorflow2_p310"
  },
  "language_info": {
   "codemirror_mode": {
    "name": "ipython",
    "version": 3
   },
   "file_extension": ".py",
   "mimetype": "text/x-python",
   "name": "python",
   "nbconvert_exporter": "python",
   "pygments_lexer": "ipython3",
   "version": "3.10.8"
  }
 },
 "nbformat": 4,
 "nbformat_minor": 5
}
