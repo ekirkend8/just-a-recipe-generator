{
 "cells": [
  {
   "cell_type": "markdown",
   "id": "03d1d381",
   "metadata": {},
   "source": [
    "* https://medium.com/analytics-vidhya/generating-a-dessert-ingredients-list-12edd1740753#id_token=eyJhbGciOiJSUzI1NiIsImtpZCI6ImFjYjZiZTUxZWZlYTZhNDE5ZWM5MzI1ZmVhYTFlYzQ2NjBmNWIzN2MiLCJ0eXAiOiJKV1QifQ.eyJpc3MiOiJodHRwczovL2FjY291bnRzLmdvb2dsZS5jb20iLCJuYmYiOjE2NDU3NTE3MjYsImF1ZCI6IjIxNjI5NjAzNTgzNC1rMWs2cWUwNjBzMnRwMmEyamFtNGxqZGNtczAwc3R0Zy5hcHBzLmdvb2dsZXVzZXJjb250ZW50LmNvbSIsInN1YiI6IjExMjg5ODkxMzg4OTk3MTcxMDQ0OSIsImVtYWlsIjoia2lya2VuZGFsbC5ldmVAZ21haWwuY29tIiwiZW1haWxfdmVyaWZpZWQiOnRydWUsImF6cCI6IjIxNjI5NjAzNTgzNC1rMWs2cWUwNjBzMnRwMmEyamFtNGxqZGNtczAwc3R0Zy5hcHBzLmdvb2dsZXVzZXJjb250ZW50LmNvbSIsIm5hbWUiOiJFdmVseW4gS2lya2VuZGFsbCIsInBpY3R1cmUiOiJodHRwczovL2xoMy5nb29nbGV1c2VyY29udGVudC5jb20vYS9BQVRYQUp5Y3lzVGVLUkdBOS1EcW40dnNsZWFZb0VfNnVkV1Q5WW9qcFBTMD1zOTYtYyIsImdpdmVuX25hbWUiOiJFdmVseW4iLCJmYW1pbHlfbmFtZSI6IktpcmtlbmRhbGwiLCJpYXQiOjE2NDU3NTIwMjYsImV4cCI6MTY0NTc1NTYyNiwianRpIjoiNzM3ZDEzNWU2NTk0YzZmNTZlMzNhNjJjYWUyNzZkMzk0ZmNkOWNmYiJ9.P-jixfwiL_qANHTPar367nMcFUyINo-r3S7rv53JhaUdPek3yLzDIJOKaTd9-KLeEFufhC0ZDJXZmGQM0_5y1LEy5bDmzXnR5k3oZSEzMgohs0KMByovafuELy9Fl1PpnFakGSc81ZAgM3CSFNAyI3nqr3uBqnRmEFciFpTH72O71hROkQvpV7tBEhcKHS9w3LG8YyKmhLbFlcHqV-3QZITHkOwTfIGtAwg8eBm1ptVgf7Wi6GZfF_NI3EamPm8il4uhz8Wcn1URaC3MTqS8Z6Vlxsey_E9GGyTlv3fbyeoEYUF-B4VAcu1IFiMapxb5cAYEGVY0RiABB-yEsaNvrA\n",
    "* https://towardsdatascience.com/using-machine-learning-to-generate-recipes-that-actually-works-b2331c85ab72"
   ]
  },
  {
   "cell_type": "code",
   "execution_count": 3,
   "id": "c2cd54c0",
   "metadata": {},
   "outputs": [],
   "source": [
    "%load_ext autoreload\n",
    "%autoreload 2"
   ]
  },
  {
   "cell_type": "code",
   "execution_count": 4,
   "id": "49c9c66a",
   "metadata": {},
   "outputs": [
    {
     "name": "stdout",
     "output_type": "stream",
     "text": [
      "/home/ec2-user/SageMaker/just-a-recipe-generator\n"
     ]
    }
   ],
   "source": [
    "%cd ~/SageMaker/just-a-recipe-generator\n",
    "\n",
    "# cd ~/Documents/github/just-a-recipe-generator"
   ]
  },
  {
   "cell_type": "code",
   "execution_count": 5,
   "id": "b5b0e58e",
   "metadata": {},
   "outputs": [],
   "source": [
    "## Local - mac (installing tf was a painnnn)\n",
    "# !pip install nltk"
   ]
  },
  {
   "cell_type": "code",
   "execution_count": 6,
   "id": "f9b4d06e",
   "metadata": {},
   "outputs": [],
   "source": [
    "## SageMaker\n",
    "# !pip install tensorflow==2.8.0"
   ]
  },
  {
   "cell_type": "code",
   "execution_count": 7,
   "id": "ef0846b4",
   "metadata": {},
   "outputs": [],
   "source": [
    "import os\n",
    "import time\n",
    "import copy\n",
    "import tensorflow as tf"
   ]
  },
  {
   "cell_type": "code",
   "execution_count": 8,
   "id": "fe81aa83",
   "metadata": {},
   "outputs": [
    {
     "name": "stderr",
     "output_type": "stream",
     "text": [
      "[nltk_data] Downloading package punkt to /home/ec2-user/nltk_data...\n",
      "[nltk_data]   Package punkt is already up-to-date!\n",
      "[nltk_data] Downloading package averaged_perceptron_tagger to\n",
      "[nltk_data]     /home/ec2-user/nltk_data...\n",
      "[nltk_data]   Package averaged_perceptron_tagger is already up-to-\n",
      "[nltk_data]       date!\n"
     ]
    }
   ],
   "source": [
    "from src.data.pickling import load_pickle\n",
    "from src.features.clean_shoestring_data import clean_shoestring_recipes\n",
    "from src.features.prepare_model_data import (ingredients_to_text, tokenize_text,\n",
    "                                             create_sequences, split_input_target,\n",
    "                                             make_training_data, text_from_ids, prep_model_data)"
   ]
  },
  {
   "cell_type": "code",
   "execution_count": 9,
   "id": "896796ca",
   "metadata": {},
   "outputs": [],
   "source": [
    "from src.models.rnn import train_rnn_model, apply_one_step_model, OneStep, retrieve_model"
   ]
  },
  {
   "cell_type": "code",
   "execution_count": 10,
   "id": "b3d24d00",
   "metadata": {},
   "outputs": [
    {
     "name": "stdout",
     "output_type": "stream",
     "text": [
      "Loading data/raw/shoestring_recipes.pickle for consumption...\n"
     ]
    }
   ],
   "source": [
    "shoestring_recipes0 = load_pickle(\"data/raw/shoestring_recipes.pickle\")"
   ]
  },
  {
   "cell_type": "code",
   "execution_count": 11,
   "id": "7ccac834",
   "metadata": {},
   "outputs": [],
   "source": [
    "shoestring_recipes = copy.deepcopy(shoestring_recipes0)"
   ]
  },
  {
   "cell_type": "code",
   "execution_count": 12,
   "id": "580a495d",
   "metadata": {},
   "outputs": [],
   "source": [
    "recipe_dict = clean_shoestring_recipes(shoestring_recipes)"
   ]
  },
  {
   "cell_type": "code",
   "execution_count": 13,
   "id": "b8d44dcb",
   "metadata": {},
   "outputs": [
    {
     "name": "stderr",
     "output_type": "stream",
     "text": [
      "2023-04-13 15:44:35.364558: E tensorflow/compiler/xla/stream_executor/cuda/cuda_driver.cc:267] failed call to cuInit: CUDA_ERROR_NO_DEVICE: no CUDA-capable device is detected\n"
     ]
    }
   ],
   "source": [
    "dataset, ids_from_chars, chars_from_ids, vocab = prep_model_data(recipe_dict)"
   ]
  },
  {
   "cell_type": "code",
   "execution_count": null,
   "id": "310eec29",
   "metadata": {},
   "outputs": [],
   "source": [
    "def prep_model_data(recipe_dict):\n",
    "    text = ingredients_to_text(recipe_dict)\n",
    "    vocab, ids_from_chars, chars_from_ids = tokenize_text(text)\n",
    "    sequences = create_sequences(text, ids_from_chars)\n",
    "    dataset0 = sequences.map(split_input_target)\n",
    "    dataset = make_training_data(dataset0)\n",
    "\n",
    "    return dataset"
   ]
  },
  {
   "cell_type": "code",
   "execution_count": null,
   "id": "4013fce8",
   "metadata": {},
   "outputs": [
    {
     "name": "stdout",
     "output_type": "stream",
     "text": [
      "Epoch 1/95\n",
      "8/8 [==============================] - 13s 1s/step - loss: 4.3876\n",
      "Epoch 2/95\n",
      "8/8 [==============================] - 12s 2s/step - loss: 3.8602\n",
      "Epoch 3/95\n",
      "8/8 [==============================] - 15s 2s/step - loss: 3.3719\n",
      "Epoch 4/95\n",
      "8/8 [==============================] - 14s 2s/step - loss: 2.9929\n",
      "Epoch 5/95\n",
      "8/8 [==============================] - 11s 1s/step - loss: 2.7579\n",
      "Epoch 6/95\n",
      "8/8 [==============================] - 14s 2s/step - loss: 2.5015\n",
      "Epoch 7/95\n",
      "8/8 [==============================] - 10s 1s/step - loss: 2.2482\n",
      "Epoch 8/95\n",
      "8/8 [==============================] - 15s 2s/step - loss: 2.0583\n",
      "Epoch 9/95\n",
      "8/8 [==============================] - 15s 2s/step - loss: 1.9112\n",
      "Epoch 10/95\n",
      "8/8 [==============================] - 13s 2s/step - loss: 1.7949\n",
      "Epoch 11/95\n",
      "8/8 [==============================] - 12s 2s/step - loss: 1.6974\n",
      "Epoch 12/95\n",
      "8/8 [==============================] - 10s 1s/step - loss: 1.6031\n",
      "Epoch 13/95\n",
      "8/8 [==============================] - 14s 2s/step - loss: 1.5020\n",
      "Epoch 14/95\n",
      "8/8 [==============================] - 14s 2s/step - loss: 1.3949\n",
      "Epoch 15/95\n",
      "8/8 [==============================] - 57s 8s/step - loss: 1.2903\n",
      "Epoch 16/95\n",
      "8/8 [==============================] - 69s 8s/step - loss: 1.2064\n",
      "Epoch 17/95\n",
      "8/8 [==============================] - 14s 2s/step - loss: 1.0984\n",
      "Epoch 18/95\n",
      "8/8 [==============================] - 21s 3s/step - loss: 1.0173\n",
      "Epoch 19/95\n",
      "8/8 [==============================] - 81s 10s/step - loss: 0.9481\n",
      "Epoch 20/95\n",
      "8/8 [==============================] - 84s 10s/step - loss: 0.8837\n",
      "Epoch 21/95\n",
      "8/8 [==============================] - 80s 10s/step - loss: 0.8290\n",
      "Epoch 22/95\n",
      "8/8 [==============================] - 24s 2s/step - loss: 0.7772\n",
      "Epoch 23/95\n",
      "8/8 [==============================] - 15s 2s/step - loss: 0.7384\n",
      "Epoch 24/95\n",
      "8/8 [==============================] - 65s 9s/step - loss: 0.6951\n",
      "Epoch 25/95\n",
      "8/8 [==============================] - 82s 10s/step - loss: 0.6631\n",
      "Epoch 26/95\n",
      "8/8 [==============================] - 69s 8s/step - loss: 0.6358\n",
      "Epoch 27/95\n",
      "8/8 [==============================] - 10s 1s/step - loss: 0.6020\n",
      "Epoch 28/95\n",
      "8/8 [==============================] - 9s 1s/step - loss: 0.5859\n",
      "Epoch 29/95\n",
      "8/8 [==============================] - 9s 1s/step - loss: 0.5548\n",
      "Epoch 30/95\n",
      "8/8 [==============================] - 25s 3s/step - loss: 0.5326\n",
      "Epoch 31/95\n",
      "8/8 [==============================] - 88s 11s/step - loss: 0.5129\n",
      "Epoch 32/95\n",
      "8/8 [==============================] - 87s 11s/step - loss: 0.4920\n",
      "Epoch 33/95\n",
      "8/8 [==============================] - 15s 2s/step - loss: 0.4683\n",
      "Epoch 34/95\n",
      "8/8 [==============================] - 16s 2s/step - loss: 0.4526\n",
      "Epoch 35/95\n",
      "8/8 [==============================] - 77s 10s/step - loss: 0.4421\n",
      "Epoch 36/95\n",
      "8/8 [==============================] - 89s 11s/step - loss: 0.4260\n",
      "Epoch 37/95\n",
      "8/8 [==============================] - 84s 11s/step - loss: 0.4069\n",
      "Epoch 38/95\n",
      "8/8 [==============================] - 24s 2s/step - loss: 0.3933\n",
      "Epoch 39/95\n",
      "8/8 [==============================] - 9s 1s/step - loss: 0.3824\n",
      "Epoch 40/95\n",
      "8/8 [==============================] - 9s 1s/step - loss: 0.3738\n",
      "Epoch 41/95\n",
      "8/8 [==============================] - 9s 1s/step - loss: 0.3591\n",
      "Epoch 42/95\n",
      "8/8 [==============================] - 46s 6s/step - loss: 0.3496\n",
      "Epoch 43/95\n",
      "8/8 [==============================] - 86s 11s/step - loss: 0.3402\n",
      "Epoch 44/95\n",
      "8/8 [==============================] - 85s 10s/step - loss: 0.3260\n",
      "Epoch 45/95\n",
      "8/8 [==============================] - 26s 2s/step - loss: 0.3174\n",
      "Epoch 46/95\n",
      "8/8 [==============================] - 15s 2s/step - loss: 0.3078\n",
      "Epoch 47/95\n",
      "8/8 [==============================] - 70s 10s/step - loss: 0.2955\n",
      "Epoch 48/95\n",
      "8/8 [==============================] - 84s 10s/step - loss: 0.2902\n",
      "Epoch 49/95\n",
      "8/8 [==============================] - 86s 11s/step - loss: 0.2838\n",
      "Epoch 50/95\n",
      "8/8 [==============================] - 41s 4s/step - loss: 0.2769\n",
      "Epoch 51/95\n",
      "8/8 [==============================] - 14s 2s/step - loss: 0.2684\n",
      "Epoch 52/95\n",
      "8/8 [==============================] - 37s 5s/step - loss: 0.2630\n",
      "Epoch 53/95\n",
      "8/8 [==============================] - 84s 10s/step - loss: 0.2567\n",
      "Epoch 54/95\n",
      "8/8 [==============================] - 86s 10s/step - loss: 0.2479\n",
      "Epoch 55/95\n",
      "8/8 [==============================] - 26s 2s/step - loss: 0.2443\n",
      "Epoch 56/95\n",
      "8/8 [==============================] - 66s 9s/step - loss: 0.2367\n",
      "Epoch 57/95\n",
      "8/8 [==============================] - 82s 10s/step - loss: 0.2303\n",
      "Epoch 58/95\n",
      "8/8 [==============================] - 87s 11s/step - loss: 0.2230\n",
      "Epoch 59/95\n",
      "8/8 [==============================] - 47s 5s/step - loss: 0.2174\n",
      "Epoch 60/95\n",
      "4/8 [==============>...............] - ETA: 46s - loss: 0.2145"
     ]
    }
   ],
   "source": [
    "history, model = train_rnn_model(dataset, ids_from_chars, vocab, epochs=95)\n",
    "# apply_one_step_model(model, chars_from_ids, ids_from_chars)"
   ]
  },
  {
   "cell_type": "code",
   "execution_count": null,
   "id": "cccb7eb1",
   "metadata": {},
   "outputs": [],
   "source": [
    "def create_one_step_model(model, chars_from_ids, ids_from_chars):\n",
    "    one_step_model = OneStep(model, chars_from_ids, ids_from_chars)\n",
    "    return one_step_model\n",
    "\n",
    "\n",
    "def apply_one_step_model(model, steps=1000):\n",
    "    \"\"\"Run the one-step RNN model in a loop to generate text.\"\"\"\n",
    "    start = time.time()\n",
    "    states = None\n",
    "    next_char = tf.constant(['Ingredients:'])\n",
    "    result = [next_char]\n",
    "\n",
    "    for n in range(steps):\n",
    "        next_char, states = one_step_model.generate_one_step(next_char, states=states)\n",
    "        result.append(next_char)\n",
    "\n",
    "    result = tf.strings.join(result)\n",
    "    end = time.time()\n",
    "    print(result[0].numpy().decode('utf-8'), '\\n\\n' + '_'*80)\n",
    "    print('\\nRun time:', end - start)\n",
    "\n",
    "\n",
    "def save_model(model, location=\"one_step\"):\n",
    "    tf.saved_model.save(one_step_model, location')\n",
    "    return None\n"
   ]
  },
  {
   "cell_type": "code",
   "execution_count": null,
   "id": "f89450d7",
   "metadata": {},
   "outputs": [],
   "source": [
    "# TODO: save model in dir w/ time stamp\n",
    "from datetime import datetime\n",
    "\n",
    "today = datetime.today()\n",
    "\n",
    "dt = today.strftime(\"%d_%m_%Y_%H_%M\")"
   ]
  },
  {
   "cell_type": "code",
   "execution_count": null,
   "id": "5f97c6a0",
   "metadata": {},
   "outputs": [],
   "source": [
    "one_step_model = create_one_step_model(model, chars_from_ids, ids_from_chars)\n",
    "apply_one_step_model(one_step_model)"
   ]
  },
  {
   "cell_type": "code",
   "execution_count": null,
   "id": "a2d42d55",
   "metadata": {},
   "outputs": [],
   "source": [
    "save_model(one_step_model, f\"one_step/{dt}\")"
   ]
  },
  {
   "cell_type": "code",
   "execution_count": null,
   "id": "b15597fd",
   "metadata": {},
   "outputs": [],
   "source": [
    "# Generate recipe title first? And from that, generate ingredients?\n",
    "# https://www.tensorflow.org/guide/keras/rnn#rnns_with_listdict_inputs_or_nested_inputs"
   ]
  },
  {
   "cell_type": "markdown",
   "id": "60d0dd41",
   "metadata": {},
   "source": [
    "# EVERYTHING BELOW IS JUST TESTING"
   ]
  },
  {
   "cell_type": "markdown",
   "id": "df61b19b",
   "metadata": {},
   "source": [
    "## Create training batches\n",
    "\n",
    "Before feeding this data into the model, you need to shuffle the data and pack it into batches."
   ]
  },
  {
   "cell_type": "markdown",
   "id": "fe782cb4",
   "metadata": {},
   "source": [
    "## Build The Model\n",
    "This section defines the model as a keras.Model subclass.\n",
    "\n",
    "This model has three layers:\n",
    "\n",
    "- tf.keras.layers.Embedding: The input layer. A trainable lookup table that will map each character-ID to a vector with embedding_dim dimensions;\n",
    "- tf.keras.layers.GRU: A type of RNN with size units=rnn_units (You can also use an LSTM layer here.)\n",
    "- tf.keras.layers.Dense: The output layer, with vocab_size outputs. It outputs one logit for each character in the vocabulary. These are the log-likelihood of each character according to the model.\n",
    "\n",
    "### References:\n",
    "\n",
    "https://www.tensorflow.org/text/tutorials/text_generation#build_the_model"
   ]
  },
  {
   "cell_type": "code",
   "execution_count": null,
   "id": "99231987",
   "metadata": {},
   "outputs": [],
   "source": [
    "# Length of the vocabulary in chars\n",
    "vocab_size = len(vocab)\n",
    "\n",
    "# The embedding dimension\n",
    "embedding_dim = 256\n",
    "\n",
    "# Number of RNN units\n",
    "rnn_units = 1024"
   ]
  },
  {
   "cell_type": "code",
   "execution_count": null,
   "id": "9125a19b",
   "metadata": {},
   "outputs": [],
   "source": [
    "apply_one_step_model(model, chars_from_ids, ids_from_chars)"
   ]
  },
  {
   "cell_type": "markdown",
   "id": "bca4995f",
   "metadata": {},
   "source": [
    "## Advanced: Customized Training\n",
    "\n",
    "The above training procedure is simple, but does not give you much control. It uses teacher-forcing which prevents bad predictions from being fed back to the model, so the model never learns to recover from mistakes.\n",
    "\n",
    "So now that you've seen how to run the model manually next you'll implement the training loop. This gives a starting point if, for example, you want to implement curriculum learning to help stabilize the model's open-loop output.\n",
    "\n",
    "The most important part of a custom training loop is the train step function."
   ]
  },
  {
   "cell_type": "code",
   "execution_count": null,
   "id": "58053d16",
   "metadata": {},
   "outputs": [],
   "source": [
    "class CustomTraining(MyModel):\n",
    "  @tf.function\n",
    "  def train_step(self, inputs):\n",
    "      inputs, labels = inputs\n",
    "      with tf.GradientTape() as tape:\n",
    "          predictions = self(inputs, training=True)\n",
    "          loss = self.loss(labels, predictions)\n",
    "      grads = tape.gradient(loss, model.trainable_variables)\n",
    "      self.optimizer.apply_gradients(zip(grads, model.trainable_variables))\n",
    "\n",
    "      return {'loss': loss}"
   ]
  },
  {
   "cell_type": "code",
   "execution_count": null,
   "id": "9cd295e2",
   "metadata": {},
   "outputs": [],
   "source": [
    "model = CustomTraining(\n",
    "    vocab_size=len(ids_from_chars.get_vocabulary()),\n",
    "    embedding_dim=embedding_dim,\n",
    "    rnn_units=rnn_units\n",
    ")\n",
    "\n",
    "model.compile(\n",
    "    optimizer = tf.keras.optimizers.Adam(),\n",
    "    loss=tf.keras.losses.SparseCategoricalCrossentropy(from_logits=True)\n",
    ")\n",
    "\n",
    "model.fit(dataset, epochs=1)"
   ]
  }
 ],
 "metadata": {
  "kernelspec": {
   "display_name": "conda_tensorflow2_p310",
   "language": "python",
   "name": "conda_tensorflow2_p310"
  },
  "language_info": {
   "codemirror_mode": {
    "name": "ipython",
    "version": 3
   },
   "file_extension": ".py",
   "mimetype": "text/x-python",
   "name": "python",
   "nbconvert_exporter": "python",
   "pygments_lexer": "ipython3",
   "version": "3.10.8"
  }
 },
 "nbformat": 4,
 "nbformat_minor": 5
}
