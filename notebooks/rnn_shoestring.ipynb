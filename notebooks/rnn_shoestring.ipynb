{
 "cells": [
  {
   "cell_type": "markdown",
   "id": "0c95a811",
   "metadata": {},
   "source": [
    "* https://medium.com/analytics-vidhya/generating-a-dessert-ingredients-list-12edd1740753#id_token=eyJhbGciOiJSUzI1NiIsImtpZCI6ImFjYjZiZTUxZWZlYTZhNDE5ZWM5MzI1ZmVhYTFlYzQ2NjBmNWIzN2MiLCJ0eXAiOiJKV1QifQ.eyJpc3MiOiJodHRwczovL2FjY291bnRzLmdvb2dsZS5jb20iLCJuYmYiOjE2NDU3NTE3MjYsImF1ZCI6IjIxNjI5NjAzNTgzNC1rMWs2cWUwNjBzMnRwMmEyamFtNGxqZGNtczAwc3R0Zy5hcHBzLmdvb2dsZXVzZXJjb250ZW50LmNvbSIsInN1YiI6IjExMjg5ODkxMzg4OTk3MTcxMDQ0OSIsImVtYWlsIjoia2lya2VuZGFsbC5ldmVAZ21haWwuY29tIiwiZW1haWxfdmVyaWZpZWQiOnRydWUsImF6cCI6IjIxNjI5NjAzNTgzNC1rMWs2cWUwNjBzMnRwMmEyamFtNGxqZGNtczAwc3R0Zy5hcHBzLmdvb2dsZXVzZXJjb250ZW50LmNvbSIsIm5hbWUiOiJFdmVseW4gS2lya2VuZGFsbCIsInBpY3R1cmUiOiJodHRwczovL2xoMy5nb29nbGV1c2VyY29udGVudC5jb20vYS9BQVRYQUp5Y3lzVGVLUkdBOS1EcW40dnNsZWFZb0VfNnVkV1Q5WW9qcFBTMD1zOTYtYyIsImdpdmVuX25hbWUiOiJFdmVseW4iLCJmYW1pbHlfbmFtZSI6IktpcmtlbmRhbGwiLCJpYXQiOjE2NDU3NTIwMjYsImV4cCI6MTY0NTc1NTYyNiwianRpIjoiNzM3ZDEzNWU2NTk0YzZmNTZlMzNhNjJjYWUyNzZkMzk0ZmNkOWNmYiJ9.P-jixfwiL_qANHTPar367nMcFUyINo-r3S7rv53JhaUdPek3yLzDIJOKaTd9-KLeEFufhC0ZDJXZmGQM0_5y1LEy5bDmzXnR5k3oZSEzMgohs0KMByovafuELy9Fl1PpnFakGSc81ZAgM3CSFNAyI3nqr3uBqnRmEFciFpTH72O71hROkQvpV7tBEhcKHS9w3LG8YyKmhLbFlcHqV-3QZITHkOwTfIGtAwg8eBm1ptVgf7Wi6GZfF_NI3EamPm8il4uhz8Wcn1URaC3MTqS8Z6Vlxsey_E9GGyTlv3fbyeoEYUF-B4VAcu1IFiMapxb5cAYEGVY0RiABB-yEsaNvrA\n",
    "* https://towardsdatascience.com/using-machine-learning-to-generate-recipes-that-actually-works-b2331c85ab72"
   ]
  },
  {
   "cell_type": "code",
   "execution_count": 1,
   "id": "ad05169f",
   "metadata": {},
   "outputs": [],
   "source": [
    "%load_ext autoreload\n",
    "%autoreload 2"
   ]
  },
  {
   "cell_type": "code",
   "execution_count": 2,
   "id": "6b5e2e2d",
   "metadata": {},
   "outputs": [
    {
     "name": "stdout",
     "output_type": "stream",
     "text": [
      "/home/ec2-user/SageMaker/just-a-recipe-generator\n"
     ]
    }
   ],
   "source": [
    "%cd ~/SageMaker/just-a-recipe-generator\n",
    "\n",
    "# cd ~/Documents/github/just-a-recipe-generator"
   ]
  },
  {
   "cell_type": "code",
   "execution_count": 3,
   "id": "e979495d",
   "metadata": {},
   "outputs": [],
   "source": [
    "## Local - mac (installing tf was a painnnn)\n",
    "# !pip install nltk\n",
    "## SageMaker\n",
    "# !pip install tensorflow==2.8.0"
   ]
  },
  {
   "cell_type": "code",
   "execution_count": 3,
   "id": "fa54b171",
   "metadata": {},
   "outputs": [],
   "source": [
    "import os\n",
    "import time\n",
    "import copy\n",
    "import tensorflow as tf"
   ]
  },
  {
   "cell_type": "code",
   "execution_count": 4,
   "id": "61fdb9af",
   "metadata": {},
   "outputs": [
    {
     "name": "stderr",
     "output_type": "stream",
     "text": [
      "[nltk_data] Downloading package punkt to /home/ec2-user/nltk_data...\n",
      "[nltk_data]   Package punkt is already up-to-date!\n",
      "[nltk_data] Downloading package averaged_perceptron_tagger to\n",
      "[nltk_data]     /home/ec2-user/nltk_data...\n",
      "[nltk_data]   Package averaged_perceptron_tagger is already up-to-\n",
      "[nltk_data]       date!\n"
     ]
    }
   ],
   "source": [
    "from src.data.pickling import load_pickle\n",
    "from src.features.clean_shoestring_data import clean_shoestring_recipes\n",
    "from src.features.prepare_model_data import (ingredients_to_text, tokenize_text,\n",
    "                                             create_sequences, split_input_target,\n",
    "                                             make_training_data, text_from_ids, prep_model_data)"
   ]
  },
  {
   "cell_type": "code",
   "execution_count": 5,
   "id": "2df52d76",
   "metadata": {},
   "outputs": [],
   "source": [
    "from src.models.rnn import train_rnn_model, apply_one_step_model, OneStep, retrieve_model"
   ]
  },
  {
   "cell_type": "code",
   "execution_count": 6,
   "id": "c5239c81",
   "metadata": {},
   "outputs": [
    {
     "name": "stdout",
     "output_type": "stream",
     "text": [
      "Loading data/raw/shoestring_recipes.pickle for consumption...\n"
     ]
    }
   ],
   "source": [
    "shoestring_recipes0 = load_pickle(\"data/raw/shoestring_recipes.pickle\")"
   ]
  },
  {
   "cell_type": "code",
   "execution_count": 7,
   "id": "62de6813",
   "metadata": {},
   "outputs": [],
   "source": [
    "shoestring_recipes = copy.deepcopy(shoestring_recipes0)"
   ]
  },
  {
   "cell_type": "code",
   "execution_count": 8,
   "id": "e3d8ec5d",
   "metadata": {},
   "outputs": [],
   "source": [
    "recipe_dict = clean_shoestring_recipes(shoestring_recipes)"
   ]
  },
  {
   "cell_type": "code",
   "execution_count": 9,
   "id": "a7de58f6",
   "metadata": {},
   "outputs": [
    {
     "name": "stderr",
     "output_type": "stream",
     "text": [
      "2023-04-13 17:12:44.156834: E tensorflow/compiler/xla/stream_executor/cuda/cuda_driver.cc:267] failed call to cuInit: CUDA_ERROR_NO_DEVICE: no CUDA-capable device is detected\n"
     ]
    }
   ],
   "source": [
    "dataset, ids_from_chars, chars_from_ids, vocab = prep_model_data(recipe_dict)"
   ]
  },
  {
   "cell_type": "code",
   "execution_count": null,
   "id": "1d3a0dcf",
   "metadata": {},
   "outputs": [],
   "source": [
    "history, model = train_rnn_model(dataset, ids_from_chars, vocab, epochs=95)\n",
    "# apply_one_step_model(model, chars_from_ids, ids_from_chars)"
   ]
  },
  {
   "cell_type": "code",
   "execution_count": 17,
   "id": "b517b925",
   "metadata": {},
   "outputs": [
    {
     "name": "stderr",
     "output_type": "stream",
     "text": [
      "[nltk_data] Downloading package punkt to /home/ec2-user/nltk_data...\n",
      "[nltk_data]   Package punkt is already up-to-date!\n",
      "[nltk_data] Downloading package averaged_perceptron_tagger to\n",
      "[nltk_data]     /home/ec2-user/nltk_data...\n",
      "[nltk_data]   Package averaged_perceptron_tagger is already up-to-\n",
      "[nltk_data]       date!\n"
     ]
    }
   ],
   "source": []
  },
  {
   "cell_type": "code",
   "execution_count": 19,
   "id": "790fc021",
   "metadata": {},
   "outputs": [],
   "source": [
    "one_step_model = retrieve_model(\"one_step/13_04_2023_17_26\")"
   ]
  },
  {
   "cell_type": "code",
   "execution_count": 20,
   "id": "a9938005",
   "metadata": {},
   "outputs": [
    {
     "name": "stdout",
     "output_type": "stream",
     "text": [
      "Ingredients:\n",
      " 2.33 cups gluten free pastry flour\n",
      " 1.0 tablespoon baking powder\n",
      " 0.25 teaspoon kosher salt\n",
      " 2.0 teaspoons ground cinnamon\n",
      " 6.0 tablespoons unsalted butter\n",
      " 1.0 egg\n",
      " 1.0 teaspoon pure vanilla extract\n",
      " 7.0 ounces raw macadamia nut pieces\n",
      " 2.2 cups chopped celery\n",
      " 1.0 teaspoon ground cinnamon\n",
      " 0.12 teaspoon kosher salt\n",
      " Finely grated zest of 1.0 lemon\n",
      " 12.0 tablespoons 120.0 g ] unsalted butter\n",
      " 1.0 9.0 fluid ounce freshly squeezed lemon juice\n",
      " Finely grated zest of 1.0 lemon\n",
      " 2.0 tablespoons granulated sugar\n",
      " 2.25 teaspoons baking powder\n",
      " 1.0 teaspoon baking soda\n",
      " 0.25 teaspoon kosher salt\n",
      " 2.0 teaspoons ground cinnamon\n",
      " 1.0 cup lineappl kesh perpoof dares\n",
      "\n",
      " Ingredients:\n",
      " 3.0 334.25 g all purpose gluten free flour\n",
      " 1.0 teaspoon xanthan gum\n",
      " 0.25 cup cornstarch\n",
      " 2.25 teaspoons baking powder\n",
      " 1.0 teaspoon baking soda\n",
      " 0.25 teaspoon kosher salt\n",
      " 5.0 ounces apple butter\n",
      "\n",
      " Ingredients:\n",
      " 3.0 3aroda parshly grated lumin powder\n",
      " 0.75 teaspoon kosher salt\n",
      " 1.5 cups warm water\n",
      " Colese scicksy p \n",
      "\n",
      "________________________________________________________________________________\n",
      "\n",
      "Run time: 1.7209172248840332\n"
     ]
    }
   ],
   "source": [
    "apply_one_step_model(one_step_model)"
   ]
  },
  {
   "cell_type": "code",
   "execution_count": 15,
   "id": "fb1118ed",
   "metadata": {},
   "outputs": [
    {
     "name": "stdout",
     "output_type": "stream",
     "text": [
      "Ingredients:\n",
      " 16.0 tablespoons unsalted butter\n",
      " 0.5 cup packed light brown sugar\n",
      " 1.25 cups gum-free gluten free flour blend\n",
      " 4.0 cups chicken stock\n",
      " 1.0 3.0 teaspoons chopped pumpkin stelk glated 0.5 teaspoon kosher salt\n",
      " 0.25 cup granugated sugar\n",
      " 0.12 teaspoon kosher salt\n",
      " 1.5 cups all purpose gluten free flour blend\n",
      " 1.75 teaspoons xanthan gum\n",
      " 1.0 tablespoon instant yeast\n",
      " 1.5 teaspoons ground cinnomon\n",
      "\n",
      " Ingredients:\n",
      " 1.0 tablespoons miyking oil\n",
      " 2.0 small shallots\n",
      " 2.0 6.0 ounces dhite cr chinono\n",
      " 2.0 tablespoons nonhydrogenated vegetable shortening\n",
      " 2.0 tablespoons honey\n",
      " 2.0 eggs\n",
      "\n",
      " Ingredients:\n",
      " 2.0 cups all purpose gluten free flour blend\n",
      " 2.0 teaspoons xanthan gum\n",
      " 0.25 teaspoon baking powder\n",
      " 0.25 teaspoon kosher salt\n",
      " 0.5 cup miniature semi-sweet chocolate chips\n",
      "\n",
      " Ingredients:\n",
      " 2.0 cups all purpose gluten free flour blend\n",
      " 0.75 teaspoon xanthan gum\n",
      " 0.25 cup cornstarch\n",
      " 1.25 teaspoons instant yeast\n",
      " 0.25 teaspoon cream of tartar\n",
      " 0.25 cup granulated sugar\n",
      " 3.0 eggs\n",
      " 1.0 tablespoon pure \n",
      "\n",
      "________________________________________________________________________________\n",
      "\n",
      "Run time: 2.6948912143707275\n"
     ]
    }
   ],
   "source": [
    "one_step_model = create_one_step_model(model, chars_from_ids, ids_from_chars)\n",
    "apply_one_step_model(one_step_model)"
   ]
  },
  {
   "cell_type": "code",
   "execution_count": 13,
   "id": "663939f0",
   "metadata": {},
   "outputs": [],
   "source": [
    "# TODO: save model in dir w/ time stamp\n",
    "from datetime import datetime\n",
    "\n",
    "today = datetime.today()\n",
    "\n",
    "dt = today.strftime(\"%d%m%Y_%H%M\")"
   ]
  },
  {
   "cell_type": "code",
   "execution_count": 16,
   "id": "0c054ea1",
   "metadata": {},
   "outputs": [
    {
     "name": "stdout",
     "output_type": "stream",
     "text": [
      "WARNING:tensorflow:Skipping full serialization of Keras layer <src.models.rnn.OneStep object at 0x7fb184428220>, because it is not built.\n"
     ]
    },
    {
     "name": "stderr",
     "output_type": "stream",
     "text": [
      "WARNING:absl:Found untraced functions such as _update_step_xla, gru_cell_layer_call_fn, gru_cell_layer_call_and_return_conditional_losses while saving (showing 3 of 3). These functions will not be directly callable after loading.\n"
     ]
    },
    {
     "name": "stdout",
     "output_type": "stream",
     "text": [
      "INFO:tensorflow:Assets written to: one_step/13_04_2023_17_26/assets\n"
     ]
    },
    {
     "name": "stderr",
     "output_type": "stream",
     "text": [
      "INFO:tensorflow:Assets written to: one_step/13_04_2023_17_26/assets\n"
     ]
    }
   ],
   "source": [
    "save_model(one_step_model, f\"one_step/{dt}\")"
   ]
  },
  {
   "cell_type": "code",
   "execution_count": null,
   "id": "7608e88a",
   "metadata": {},
   "outputs": [],
   "source": [
    "# Generate recipe title first? And from that, generate ingredients?\n",
    "# https://www.tensorflow.org/guide/keras/rnn#rnns_with_listdict_inputs_or_nested_inputs"
   ]
  },
  {
   "cell_type": "markdown",
   "id": "6e7d8ff5",
   "metadata": {},
   "source": [
    "# EVERYTHING BELOW IS JUST TESTING"
   ]
  },
  {
   "cell_type": "markdown",
   "id": "8a3b270b",
   "metadata": {},
   "source": [
    "## Create training batches\n",
    "\n",
    "Before feeding this data into the model, you need to shuffle the data and pack it into batches."
   ]
  },
  {
   "cell_type": "markdown",
   "id": "f8c0f285",
   "metadata": {},
   "source": [
    "## Build The Model\n",
    "This section defines the model as a keras.Model subclass.\n",
    "\n",
    "This model has three layers:\n",
    "\n",
    "- tf.keras.layers.Embedding: The input layer. A trainable lookup table that will map each character-ID to a vector with embedding_dim dimensions;\n",
    "- tf.keras.layers.GRU: A type of RNN with size units=rnn_units (You can also use an LSTM layer here.)\n",
    "- tf.keras.layers.Dense: The output layer, with vocab_size outputs. It outputs one logit for each character in the vocabulary. These are the log-likelihood of each character according to the model.\n",
    "\n",
    "### References:\n",
    "\n",
    "https://www.tensorflow.org/text/tutorials/text_generation#build_the_model"
   ]
  },
  {
   "cell_type": "code",
   "execution_count": null,
   "id": "e79ebb9e",
   "metadata": {},
   "outputs": [],
   "source": [
    "# Length of the vocabulary in chars\n",
    "vocab_size = len(vocab)\n",
    "\n",
    "# The embedding dimension\n",
    "embedding_dim = 256\n",
    "\n",
    "# Number of RNN units\n",
    "rnn_units = 1024"
   ]
  },
  {
   "cell_type": "code",
   "execution_count": null,
   "id": "e098e8ec",
   "metadata": {},
   "outputs": [],
   "source": [
    "apply_one_step_model(model, chars_from_ids, ids_from_chars)"
   ]
  },
  {
   "cell_type": "markdown",
   "id": "0f6973b3",
   "metadata": {},
   "source": [
    "## Advanced: Customized Training\n",
    "\n",
    "The above training procedure is simple, but does not give you much control. It uses teacher-forcing which prevents bad predictions from being fed back to the model, so the model never learns to recover from mistakes.\n",
    "\n",
    "So now that you've seen how to run the model manually next you'll implement the training loop. This gives a starting point if, for example, you want to implement curriculum learning to help stabilize the model's open-loop output.\n",
    "\n",
    "The most important part of a custom training loop is the train step function."
   ]
  },
  {
   "cell_type": "code",
   "execution_count": null,
   "id": "5fe20c3a",
   "metadata": {},
   "outputs": [],
   "source": [
    "class CustomTraining(MyModel):\n",
    "  @tf.function\n",
    "  def train_step(self, inputs):\n",
    "      inputs, labels = inputs\n",
    "      with tf.GradientTape() as tape:\n",
    "          predictions = self(inputs, training=True)\n",
    "          loss = self.loss(labels, predictions)\n",
    "      grads = tape.gradient(loss, model.trainable_variables)\n",
    "      self.optimizer.apply_gradients(zip(grads, model.trainable_variables))\n",
    "\n",
    "      return {'loss': loss}"
   ]
  },
  {
   "cell_type": "code",
   "execution_count": null,
   "id": "2cb1baee",
   "metadata": {},
   "outputs": [],
   "source": [
    "model = CustomTraining(\n",
    "    vocab_size=len(ids_from_chars.get_vocabulary()),\n",
    "    embedding_dim=embedding_dim,\n",
    "    rnn_units=rnn_units\n",
    ")\n",
    "\n",
    "model.compile(\n",
    "    optimizer = tf.keras.optimizers.Adam(),\n",
    "    loss=tf.keras.losses.SparseCategoricalCrossentropy(from_logits=True)\n",
    ")\n",
    "\n",
    "model.fit(dataset, epochs=1)"
   ]
  }
 ],
 "metadata": {
  "kernelspec": {
   "display_name": "conda_tensorflow2_p310",
   "language": "python",
   "name": "conda_tensorflow2_p310"
  },
  "language_info": {
   "codemirror_mode": {
    "name": "ipython",
    "version": 3
   },
   "file_extension": ".py",
   "mimetype": "text/x-python",
   "name": "python",
   "nbconvert_exporter": "python",
   "pygments_lexer": "ipython3",
   "version": "3.10.8"
  }
 },
 "nbformat": 4,
 "nbformat_minor": 5
}
