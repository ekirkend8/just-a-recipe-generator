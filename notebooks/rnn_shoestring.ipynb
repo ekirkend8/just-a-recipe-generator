{
 "cells": [
  {
   "cell_type": "markdown",
   "id": "9a9de4c1",
   "metadata": {},
   "source": [
    "* https://medium.com/analytics-vidhya/generating-a-dessert-ingredients-list-12edd1740753#id_token=eyJhbGciOiJSUzI1NiIsImtpZCI6ImFjYjZiZTUxZWZlYTZhNDE5ZWM5MzI1ZmVhYTFlYzQ2NjBmNWIzN2MiLCJ0eXAiOiJKV1QifQ.eyJpc3MiOiJodHRwczovL2FjY291bnRzLmdvb2dsZS5jb20iLCJuYmYiOjE2NDU3NTE3MjYsImF1ZCI6IjIxNjI5NjAzNTgzNC1rMWs2cWUwNjBzMnRwMmEyamFtNGxqZGNtczAwc3R0Zy5hcHBzLmdvb2dsZXVzZXJjb250ZW50LmNvbSIsInN1YiI6IjExMjg5ODkxMzg4OTk3MTcxMDQ0OSIsImVtYWlsIjoia2lya2VuZGFsbC5ldmVAZ21haWwuY29tIiwiZW1haWxfdmVyaWZpZWQiOnRydWUsImF6cCI6IjIxNjI5NjAzNTgzNC1rMWs2cWUwNjBzMnRwMmEyamFtNGxqZGNtczAwc3R0Zy5hcHBzLmdvb2dsZXVzZXJjb250ZW50LmNvbSIsIm5hbWUiOiJFdmVseW4gS2lya2VuZGFsbCIsInBpY3R1cmUiOiJodHRwczovL2xoMy5nb29nbGV1c2VyY29udGVudC5jb20vYS9BQVRYQUp5Y3lzVGVLUkdBOS1EcW40dnNsZWFZb0VfNnVkV1Q5WW9qcFBTMD1zOTYtYyIsImdpdmVuX25hbWUiOiJFdmVseW4iLCJmYW1pbHlfbmFtZSI6IktpcmtlbmRhbGwiLCJpYXQiOjE2NDU3NTIwMjYsImV4cCI6MTY0NTc1NTYyNiwianRpIjoiNzM3ZDEzNWU2NTk0YzZmNTZlMzNhNjJjYWUyNzZkMzk0ZmNkOWNmYiJ9.P-jixfwiL_qANHTPar367nMcFUyINo-r3S7rv53JhaUdPek3yLzDIJOKaTd9-KLeEFufhC0ZDJXZmGQM0_5y1LEy5bDmzXnR5k3oZSEzMgohs0KMByovafuELy9Fl1PpnFakGSc81ZAgM3CSFNAyI3nqr3uBqnRmEFciFpTH72O71hROkQvpV7tBEhcKHS9w3LG8YyKmhLbFlcHqV-3QZITHkOwTfIGtAwg8eBm1ptVgf7Wi6GZfF_NI3EamPm8il4uhz8Wcn1URaC3MTqS8Z6Vlxsey_E9GGyTlv3fbyeoEYUF-B4VAcu1IFiMapxb5cAYEGVY0RiABB-yEsaNvrA\n",
    "* https://towardsdatascience.com/using-machine-learning-to-generate-recipes-that-actually-works-b2331c85ab72"
   ]
  },
  {
   "cell_type": "code",
   "execution_count": 1,
   "id": "a803b6d3",
   "metadata": {},
   "outputs": [],
   "source": [
    "%load_ext autoreload\n",
    "%autoreload 2"
   ]
  },
  {
   "cell_type": "code",
   "execution_count": 2,
   "id": "025e43a9",
   "metadata": {},
   "outputs": [
    {
     "data": {
      "text/plain": [
       "'/home/ec2-user/SageMaker/just-a-recipe-generator/notebooks'"
      ]
     },
     "execution_count": 2,
     "metadata": {},
     "output_type": "execute_result"
    }
   ],
   "source": [
    "%pwd"
   ]
  },
  {
   "cell_type": "code",
   "execution_count": 3,
   "id": "d0649182",
   "metadata": {},
   "outputs": [
    {
     "name": "stdout",
     "output_type": "stream",
     "text": [
      "/home/ec2-user/SageMaker/just-a-recipe-generator\n"
     ]
    }
   ],
   "source": [
    "# Local\n",
    "# %cd ~/Documents/github/just-a-recipe-generator\n",
    "\n",
    "# SageMaker\n",
    "%cd ~/SageMaker/just-a-recipe-generator"
   ]
  },
  {
   "cell_type": "code",
   "execution_count": 4,
   "id": "bb59b16d",
   "metadata": {},
   "outputs": [],
   "source": [
    "## Local - mac (installing tf was a painnnn)\n",
    "# !pip install nltk"
   ]
  },
  {
   "cell_type": "code",
   "execution_count": 5,
   "id": "cc839602",
   "metadata": {},
   "outputs": [],
   "source": [
    "## SageMaker\n",
    "# !pip install tensorflow==2.8.0"
   ]
  },
  {
   "cell_type": "code",
   "execution_count": 6,
   "id": "5d99d7a2",
   "metadata": {},
   "outputs": [],
   "source": [
    "import os\n",
    "import time\n",
    "import copy\n",
    "import tensorflow as tf"
   ]
  },
  {
   "cell_type": "code",
   "execution_count": 7,
   "id": "24550a6a",
   "metadata": {},
   "outputs": [
    {
     "name": "stderr",
     "output_type": "stream",
     "text": [
      "[nltk_data] Downloading package punkt to /home/ec2-user/nltk_data...\n",
      "[nltk_data]   Package punkt is already up-to-date!\n",
      "[nltk_data] Downloading package averaged_perceptron_tagger to\n",
      "[nltk_data]     /home/ec2-user/nltk_data...\n",
      "[nltk_data]   Package averaged_perceptron_tagger is already up-to-\n",
      "[nltk_data]       date!\n"
     ]
    }
   ],
   "source": [
    "from src.data.pickling import load_pickle\n",
    "from src.features.clean_shoestring_data import clean_shoestring_recipes\n",
    "from src.features.prepare_model_data import (ingredients_to_text, tokenize_text,\n",
    "                                             create_sequences, split_input_target,\n",
    "                                             make_training_data, text_from_ids, prep_data\n",
    "                                            )"
   ]
  },
  {
   "cell_type": "code",
   "execution_count": 17,
   "id": "fc22bfd3",
   "metadata": {},
   "outputs": [],
   "source": [
    "from src.models.rnn import train_rnn_model, apply_one_step_model, OneStep"
   ]
  },
  {
   "cell_type": "code",
   "execution_count": 9,
   "id": "8afc7658",
   "metadata": {},
   "outputs": [
    {
     "name": "stdout",
     "output_type": "stream",
     "text": [
      "Loading data/raw/shoestring_recipes.pickle for consumption...\n"
     ]
    }
   ],
   "source": [
    "shoestring_recipes0 = load_pickle(\"data/raw/shoestring_recipes.pickle\")"
   ]
  },
  {
   "cell_type": "code",
   "execution_count": 10,
   "id": "2c9dbf3b",
   "metadata": {},
   "outputs": [],
   "source": [
    "shoestring_recipes = copy.deepcopy(shoestring_recipes0)"
   ]
  },
  {
   "cell_type": "code",
   "execution_count": null,
   "id": "b21af254",
   "metadata": {},
   "outputs": [],
   "source": []
  },
  {
   "cell_type": "code",
   "execution_count": 11,
   "id": "b009691e",
   "metadata": {},
   "outputs": [],
   "source": [
    "recipe_dict = clean_shoestring_recipes(shoestring_recipes)"
   ]
  },
  {
   "cell_type": "code",
   "execution_count": null,
   "id": "e665a995",
   "metadata": {},
   "outputs": [],
   "source": [
    "# \"\"\"Convert dict of recipes into a string\"\"\"\n",
    "# all_ingredients = []\n",
    "\n",
    "# for recipe in list(recipe_dict.keys()):\n",
    "#     all_ingredients.extend([recipe])\n",
    "#     all_ingredients.extend([\"Ingredients:\"])\n",
    "#     all_ingredients.extend(recipe_dict[recipe])\n",
    "\n",
    "# ingredients_text = \"\"\n",
    "\n",
    "# for ingredient in all_ingredients:\n",
    "# #     if ingredient == \"Ingredients:\":\n",
    "# #         ingredients_text += \"\\n\"\n",
    "#     ingredient_words = ingredient.split(\" \")\n",
    "#     ingredients_text += (\"\\n \" + \" \".join(ingredient_words))\n",
    "\n",
    "# ingredients_text = ingredients_text.lstrip()\n",
    "# print(ingredients_text[:100]"
   ]
  },
  {
   "cell_type": "code",
   "execution_count": 12,
   "id": "b91ee65e",
   "metadata": {},
   "outputs": [
    {
     "name": "stderr",
     "output_type": "stream",
     "text": [
      "2023-04-12 20:58:23.799245: E tensorflow/compiler/xla/stream_executor/cuda/cuda_driver.cc:267] failed call to cuInit: CUDA_ERROR_NO_DEVICE: no CUDA-capable device is detected\n"
     ]
    }
   ],
   "source": [
    "os.environ['CUDA_VISIBLE_DEVICES'] = \"0\"\n",
    "dataset, chars_from_ids, ids_from_chars, vocab = prep_data(recipe_dict)"
   ]
  },
  {
   "cell_type": "code",
   "execution_count": null,
   "id": "16b1a323",
   "metadata": {},
   "outputs": [],
   "source": [
    "# os.environ['CUDA_VISIBLE_DEVICES'] = \"0\"\n",
    "# text = ingredients_to_text(recipe_dict)\n",
    "# vocab, ids_from_chars, chars_from_ids = tokenize_text(text)"
   ]
  },
  {
   "cell_type": "code",
   "execution_count": 13,
   "id": "41dd0181",
   "metadata": {},
   "outputs": [],
   "source": [
    "def create_one_step_model(model, chars_from_ids, ids_from_chars):\n",
    "    \"\"\"Run the one-step RNN model in a loop to generate text.\"\"\"\n",
    "    one_step_model = OneStep(model, chars_from_ids, ids_from_chars)\n",
    "\n",
    "    return one_step_model\n",
    "\n",
    "\n",
    "def apply_one_step_model(one_step_model, steps=1000):\n",
    "    start = time.time()\n",
    "    states = None\n",
    "#     next_char = tf.constant(['Ingredients:'])\n",
    "    next_char = tf\n",
    "    result = [next_char]\n",
    "\n",
    "    for n in range(steps):\n",
    "        next_char, states = one_step_model.generate_one_step(next_char, states=states)\n",
    "        result.append(next_char)\n",
    "\n",
    "    result = tf.strings.join(result)\n",
    "    end = time.time()\n",
    "    print(result[0].numpy().decode('utf-8'), '\\n\\n' + '_'*80)\n",
    "    print('\\nRun time:', end - start)\n",
    "\n",
    "    return one_step_model\n",
    "\n",
    "\n",
    "def save_model(model, model_name=\"one_step\"):\n",
    "    tf.saved_model.save(model, model_name)\n",
    "    return None\n",
    "\n",
    "\n",
    "def retrieve_model():\n",
    "    saved_model = tf.saved_model.load(\n",
    "        \"one_step\", tags=None, options=None\n",
    "    )\n",
    "    return saved_model"
   ]
  },
  {
   "cell_type": "code",
   "execution_count": null,
   "id": "f89d3bb8",
   "metadata": {},
   "outputs": [],
   "source": [
    "history, model = train_rnn_model(dataset, ids_from_chars, vocab, epochs=25)\n",
    "apply_one_step_model(model)"
   ]
  },
  {
   "cell_type": "code",
   "execution_count": 15,
   "id": "93e1f923",
   "metadata": {},
   "outputs": [],
   "source": [
    "# to reuse model\n",
    "model = retrieve_model()"
   ]
  },
  {
   "cell_type": "code",
   "execution_count": 18,
   "id": "01417333",
   "metadata": {},
   "outputs": [
    {
     "ename": "TypeError",
     "evalue": "Exception encountered when calling layer 'string_lookup_1' (type StringLookup).\n\nCannot convert ['[UNK]'] to EagerTensor of dtype int64\n\nCall arguments received by layer 'string_lookup_1' (type StringLookup):\n  • inputs=[\"'[UNK]'\"]",
     "output_type": "error",
     "traceback": [
      "\u001b[0;31m---------------------------------------------------------------------------\u001b[0m",
      "\u001b[0;31mTypeError\u001b[0m                                 Traceback (most recent call last)",
      "\u001b[0;32m/tmp/ipykernel_30451/1805332899.py\u001b[0m in \u001b[0;36m<cell line: 1>\u001b[0;34m()\u001b[0m\n\u001b[0;32m----> 1\u001b[0;31m \u001b[0mone_step_model\u001b[0m \u001b[0;34m=\u001b[0m \u001b[0mcreate_one_step_model\u001b[0m\u001b[0;34m(\u001b[0m\u001b[0mmodel\u001b[0m\u001b[0;34m,\u001b[0m \u001b[0mchars_from_ids\u001b[0m\u001b[0;34m,\u001b[0m \u001b[0mids_from_chars\u001b[0m\u001b[0;34m)\u001b[0m\u001b[0;34m\u001b[0m\u001b[0;34m\u001b[0m\u001b[0m\n\u001b[0m\u001b[1;32m      2\u001b[0m \u001b[0mapply_one_step_model\u001b[0m\u001b[0;34m(\u001b[0m\u001b[0mmodel\u001b[0m\u001b[0;34m)\u001b[0m\u001b[0;34m\u001b[0m\u001b[0;34m\u001b[0m\u001b[0m\n",
      "\u001b[0;32m/tmp/ipykernel_30451/2638179996.py\u001b[0m in \u001b[0;36mcreate_one_step_model\u001b[0;34m(model, chars_from_ids, ids_from_chars)\u001b[0m\n\u001b[1;32m      1\u001b[0m \u001b[0;32mdef\u001b[0m \u001b[0mcreate_one_step_model\u001b[0m\u001b[0;34m(\u001b[0m\u001b[0mmodel\u001b[0m\u001b[0;34m,\u001b[0m \u001b[0mchars_from_ids\u001b[0m\u001b[0;34m,\u001b[0m \u001b[0mids_from_chars\u001b[0m\u001b[0;34m)\u001b[0m\u001b[0;34m:\u001b[0m\u001b[0;34m\u001b[0m\u001b[0;34m\u001b[0m\u001b[0m\n\u001b[1;32m      2\u001b[0m     \u001b[0;34m\"\"\"Run the one-step RNN model in a loop to generate text.\"\"\"\u001b[0m\u001b[0;34m\u001b[0m\u001b[0;34m\u001b[0m\u001b[0m\n\u001b[0;32m----> 3\u001b[0;31m     \u001b[0mone_step_model\u001b[0m \u001b[0;34m=\u001b[0m \u001b[0mOneStep\u001b[0m\u001b[0;34m(\u001b[0m\u001b[0mmodel\u001b[0m\u001b[0;34m,\u001b[0m \u001b[0mchars_from_ids\u001b[0m\u001b[0;34m,\u001b[0m \u001b[0mids_from_chars\u001b[0m\u001b[0;34m)\u001b[0m\u001b[0;34m\u001b[0m\u001b[0;34m\u001b[0m\u001b[0m\n\u001b[0m\u001b[1;32m      4\u001b[0m \u001b[0;34m\u001b[0m\u001b[0m\n\u001b[1;32m      5\u001b[0m     \u001b[0;32mreturn\u001b[0m \u001b[0mone_step_model\u001b[0m\u001b[0;34m\u001b[0m\u001b[0;34m\u001b[0m\u001b[0m\n",
      "\u001b[0;32m~/SageMaker/just-a-recipe-generator/src/models/rnn.py\u001b[0m in \u001b[0;36m__init__\u001b[0;34m(self, model, chars_from_ids, ids_from_chars, temperature)\u001b[0m\n\u001b[1;32m     39\u001b[0m \u001b[0;34m\u001b[0m\u001b[0m\n\u001b[1;32m     40\u001b[0m         \u001b[0;31m# Create a mask to prevent \"[UNK]\" from being generated.\u001b[0m\u001b[0;34m\u001b[0m\u001b[0;34m\u001b[0m\u001b[0m\n\u001b[0;32m---> 41\u001b[0;31m         \u001b[0mskip_ids\u001b[0m \u001b[0;34m=\u001b[0m \u001b[0mself\u001b[0m\u001b[0;34m.\u001b[0m\u001b[0mids_from_chars\u001b[0m\u001b[0;34m(\u001b[0m\u001b[0;34m[\u001b[0m\u001b[0;34m'[UNK]'\u001b[0m\u001b[0;34m]\u001b[0m\u001b[0;34m)\u001b[0m\u001b[0;34m[\u001b[0m\u001b[0;34m:\u001b[0m\u001b[0;34m,\u001b[0m \u001b[0;32mNone\u001b[0m\u001b[0;34m]\u001b[0m\u001b[0;34m\u001b[0m\u001b[0;34m\u001b[0m\u001b[0m\n\u001b[0m\u001b[1;32m     42\u001b[0m         sparse_mask = tf.SparseTensor(\n\u001b[1;32m     43\u001b[0m \u001b[0;31m#             # Put a -inf at each bad index.\u001b[0m\u001b[0;34m\u001b[0m\u001b[0;34m\u001b[0m\u001b[0m\n",
      "\u001b[0;32m~/anaconda3/envs/tensorflow2_p310/lib/python3.10/site-packages/keras/utils/traceback_utils.py\u001b[0m in \u001b[0;36merror_handler\u001b[0;34m(*args, **kwargs)\u001b[0m\n\u001b[1;32m     68\u001b[0m             \u001b[0;31m# To get the full stack trace, call:\u001b[0m\u001b[0;34m\u001b[0m\u001b[0;34m\u001b[0m\u001b[0m\n\u001b[1;32m     69\u001b[0m             \u001b[0;31m# `tf.debugging.disable_traceback_filtering()`\u001b[0m\u001b[0;34m\u001b[0m\u001b[0;34m\u001b[0m\u001b[0m\n\u001b[0;32m---> 70\u001b[0;31m             \u001b[0;32mraise\u001b[0m \u001b[0me\u001b[0m\u001b[0;34m.\u001b[0m\u001b[0mwith_traceback\u001b[0m\u001b[0;34m(\u001b[0m\u001b[0mfiltered_tb\u001b[0m\u001b[0;34m)\u001b[0m \u001b[0;32mfrom\u001b[0m \u001b[0;32mNone\u001b[0m\u001b[0;34m\u001b[0m\u001b[0;34m\u001b[0m\u001b[0m\n\u001b[0m\u001b[1;32m     71\u001b[0m         \u001b[0;32mfinally\u001b[0m\u001b[0;34m:\u001b[0m\u001b[0;34m\u001b[0m\u001b[0;34m\u001b[0m\u001b[0m\n\u001b[1;32m     72\u001b[0m             \u001b[0;32mdel\u001b[0m \u001b[0mfiltered_tb\u001b[0m\u001b[0;34m\u001b[0m\u001b[0;34m\u001b[0m\u001b[0m\n",
      "\u001b[0;32m~/anaconda3/envs/tensorflow2_p310/lib/python3.10/site-packages/tensorflow/python/framework/constant_op.py\u001b[0m in \u001b[0;36mconvert_to_eager_tensor\u001b[0;34m(value, ctx, dtype)\u001b[0m\n\u001b[1;32m    100\u001b[0m       \u001b[0mdtype\u001b[0m \u001b[0;34m=\u001b[0m \u001b[0mdtypes\u001b[0m\u001b[0;34m.\u001b[0m\u001b[0mas_dtype\u001b[0m\u001b[0;34m(\u001b[0m\u001b[0mdtype\u001b[0m\u001b[0;34m)\u001b[0m\u001b[0;34m.\u001b[0m\u001b[0mas_datatype_enum\u001b[0m\u001b[0;34m\u001b[0m\u001b[0;34m\u001b[0m\u001b[0m\n\u001b[1;32m    101\u001b[0m   \u001b[0mctx\u001b[0m\u001b[0;34m.\u001b[0m\u001b[0mensure_initialized\u001b[0m\u001b[0;34m(\u001b[0m\u001b[0;34m)\u001b[0m\u001b[0;34m\u001b[0m\u001b[0;34m\u001b[0m\u001b[0m\n\u001b[0;32m--> 102\u001b[0;31m   \u001b[0;32mreturn\u001b[0m \u001b[0mops\u001b[0m\u001b[0;34m.\u001b[0m\u001b[0mEagerTensor\u001b[0m\u001b[0;34m(\u001b[0m\u001b[0mvalue\u001b[0m\u001b[0;34m,\u001b[0m \u001b[0mctx\u001b[0m\u001b[0;34m.\u001b[0m\u001b[0mdevice_name\u001b[0m\u001b[0;34m,\u001b[0m \u001b[0mdtype\u001b[0m\u001b[0;34m)\u001b[0m\u001b[0;34m\u001b[0m\u001b[0;34m\u001b[0m\u001b[0m\n\u001b[0m\u001b[1;32m    103\u001b[0m \u001b[0;34m\u001b[0m\u001b[0m\n\u001b[1;32m    104\u001b[0m \u001b[0;34m\u001b[0m\u001b[0m\n",
      "\u001b[0;31mTypeError\u001b[0m: Exception encountered when calling layer 'string_lookup_1' (type StringLookup).\n\nCannot convert ['[UNK]'] to EagerTensor of dtype int64\n\nCall arguments received by layer 'string_lookup_1' (type StringLookup):\n  • inputs=[\"'[UNK]'\"]"
     ]
    }
   ],
   "source": [
    "one_step_model = create_one_step_model(model, chars_from_ids, ids_from_chars)\n",
    "apply_one_step_model(model)"
   ]
  },
  {
   "cell_type": "code",
   "execution_count": null,
   "id": "736805d4",
   "metadata": {},
   "outputs": [],
   "source": [
    "ids_from_chars(['[UNK]'])"
   ]
  },
  {
   "cell_type": "code",
   "execution_count": null,
   "id": "90d72592",
   "metadata": {},
   "outputs": [],
   "source": [
    "apply_one_step_model(model)"
   ]
  },
  {
   "cell_type": "code",
   "execution_count": null,
   "id": "d2008172",
   "metadata": {},
   "outputs": [],
   "source": [
    "history, model = train_rnn_model(dataset, ids_from_chars, vocab, epochs=75)\n",
    "apply_one_step_model(model, chars_from_ids, ids_from_chars)"
   ]
  },
  {
   "cell_type": "code",
   "execution_count": null,
   "id": "659d0aec",
   "metadata": {},
   "outputs": [],
   "source": [
    "apply_one_step_model(model, chars_from_ids, ids_from_chars)"
   ]
  },
  {
   "cell_type": "code",
   "execution_count": null,
   "id": "a359d23b",
   "metadata": {},
   "outputs": [],
   "source": [
    "saved_model = tf.saved_model.load(\n",
    "    \"one_step\", tags=None, options=None\n",
    ")"
   ]
  },
  {
   "cell_type": "code",
   "execution_count": null,
   "id": "ae5bf814",
   "metadata": {},
   "outputs": [],
   "source": [
    "# Generate recipe title first? And from that, generate ingredients?\n",
    "# https://www.tensorflow.org/guide/keras/rnn#rnns_with_listdict_inputs_or_nested_inputs"
   ]
  },
  {
   "cell_type": "markdown",
   "id": "dcceab90",
   "metadata": {},
   "source": [
    "# EVERYTHING BELOW IS JUST TESTING"
   ]
  },
  {
   "cell_type": "markdown",
   "id": "b2a7b79e",
   "metadata": {},
   "source": [
    "## Create training batches\n",
    "\n",
    "Before feeding this data into the model, you need to shuffle the data and pack it into batches."
   ]
  },
  {
   "cell_type": "markdown",
   "id": "fe38fe62",
   "metadata": {},
   "source": [
    "## Build The Model\n",
    "This section defines the model as a keras.Model subclass.\n",
    "\n",
    "This model has three layers:\n",
    "\n",
    "- tf.keras.layers.Embedding: The input layer. A trainable lookup table that will map each character-ID to a vector with embedding_dim dimensions;\n",
    "- tf.keras.layers.GRU: A type of RNN with size units=rnn_units (You can also use an LSTM layer here.)\n",
    "- tf.keras.layers.Dense: The output layer, with vocab_size outputs. It outputs one logit for each character in the vocabulary. These are the log-likelihood of each character according to the model.\n",
    "\n",
    "### References:\n",
    "\n",
    "https://www.tensorflow.org/text/tutorials/text_generation#build_the_model"
   ]
  },
  {
   "cell_type": "code",
   "execution_count": null,
   "id": "05c2a3f4",
   "metadata": {},
   "outputs": [],
   "source": [
    "# Length of the vocabulary in chars\n",
    "vocab_size = len(vocab)\n",
    "\n",
    "# The embedding dimension\n",
    "embedding_dim = 256\n",
    "\n",
    "# Number of RNN units\n",
    "rnn_units = 1024"
   ]
  },
  {
   "cell_type": "code",
   "execution_count": null,
   "id": "20a60ff2",
   "metadata": {},
   "outputs": [],
   "source": [
    "apply_one_step_model(model, chars_from_ids, ids_from_chars)"
   ]
  },
  {
   "cell_type": "markdown",
   "id": "85f071b5",
   "metadata": {},
   "source": [
    "## Advanced: Customized Training\n",
    "\n",
    "The above training procedure is simple, but does not give you much control. It uses teacher-forcing which prevents bad predictions from being fed back to the model, so the model never learns to recover from mistakes.\n",
    "\n",
    "So now that you've seen how to run the model manually next you'll implement the training loop. This gives a starting point if, for example, you want to implement curriculum learning to help stabilize the model's open-loop output.\n",
    "\n",
    "The most important part of a custom training loop is the train step function."
   ]
  },
  {
   "cell_type": "code",
   "execution_count": null,
   "id": "507aa202",
   "metadata": {},
   "outputs": [],
   "source": [
    "class CustomTraining(MyModel):\n",
    "  @tf.function\n",
    "  def train_step(self, inputs):\n",
    "      inputs, labels = inputs\n",
    "      with tf.GradientTape() as tape:\n",
    "          predictions = self(inputs, training=True)\n",
    "          loss = self.loss(labels, predictions)\n",
    "      grads = tape.gradient(loss, model.trainable_variables)\n",
    "      self.optimizer.apply_gradients(zip(grads, model.trainable_variables))\n",
    "\n",
    "      return {'loss': loss}"
   ]
  },
  {
   "cell_type": "code",
   "execution_count": null,
   "id": "8504183f",
   "metadata": {},
   "outputs": [],
   "source": [
    "model = CustomTraining(\n",
    "    vocab_size=len(ids_from_chars.get_vocabulary()),\n",
    "    embedding_dim=embedding_dim,\n",
    "    rnn_units=rnn_units\n",
    ")\n",
    "\n",
    "model.compile(\n",
    "    optimizer = tf.keras.optimizers.Adam(),\n",
    "    loss=tf.keras.losses.SparseCategoricalCrossentropy(from_logits=True)\n",
    ")\n",
    "\n",
    "model.fit(dataset, epochs=1)"
   ]
  }
 ],
 "metadata": {
  "kernelspec": {
   "display_name": "conda_tensorflow2_p310",
   "language": "python",
   "name": "conda_tensorflow2_p310"
  },
  "language_info": {
   "codemirror_mode": {
    "name": "ipython",
    "version": 3
   },
   "file_extension": ".py",
   "mimetype": "text/x-python",
   "name": "python",
   "nbconvert_exporter": "python",
   "pygments_lexer": "ipython3",
   "version": "3.10.8"
  }
 },
 "nbformat": 4,
 "nbformat_minor": 5
}
