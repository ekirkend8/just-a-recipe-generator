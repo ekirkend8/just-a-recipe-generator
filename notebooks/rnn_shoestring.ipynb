{
 "cells": [
  {
   "cell_type": "markdown",
   "id": "8a07e273",
   "metadata": {},
   "source": [
    "* https://medium.com/analytics-vidhya/generating-a-dessert-ingredients-list-12edd1740753#id_token=eyJhbGciOiJSUzI1NiIsImtpZCI6ImFjYjZiZTUxZWZlYTZhNDE5ZWM5MzI1ZmVhYTFlYzQ2NjBmNWIzN2MiLCJ0eXAiOiJKV1QifQ.eyJpc3MiOiJodHRwczovL2FjY291bnRzLmdvb2dsZS5jb20iLCJuYmYiOjE2NDU3NTE3MjYsImF1ZCI6IjIxNjI5NjAzNTgzNC1rMWs2cWUwNjBzMnRwMmEyamFtNGxqZGNtczAwc3R0Zy5hcHBzLmdvb2dsZXVzZXJjb250ZW50LmNvbSIsInN1YiI6IjExMjg5ODkxMzg4OTk3MTcxMDQ0OSIsImVtYWlsIjoia2lya2VuZGFsbC5ldmVAZ21haWwuY29tIiwiZW1haWxfdmVyaWZpZWQiOnRydWUsImF6cCI6IjIxNjI5NjAzNTgzNC1rMWs2cWUwNjBzMnRwMmEyamFtNGxqZGNtczAwc3R0Zy5hcHBzLmdvb2dsZXVzZXJjb250ZW50LmNvbSIsIm5hbWUiOiJFdmVseW4gS2lya2VuZGFsbCIsInBpY3R1cmUiOiJodHRwczovL2xoMy5nb29nbGV1c2VyY29udGVudC5jb20vYS9BQVRYQUp5Y3lzVGVLUkdBOS1EcW40dnNsZWFZb0VfNnVkV1Q5WW9qcFBTMD1zOTYtYyIsImdpdmVuX25hbWUiOiJFdmVseW4iLCJmYW1pbHlfbmFtZSI6IktpcmtlbmRhbGwiLCJpYXQiOjE2NDU3NTIwMjYsImV4cCI6MTY0NTc1NTYyNiwianRpIjoiNzM3ZDEzNWU2NTk0YzZmNTZlMzNhNjJjYWUyNzZkMzk0ZmNkOWNmYiJ9.P-jixfwiL_qANHTPar367nMcFUyINo-r3S7rv53JhaUdPek3yLzDIJOKaTd9-KLeEFufhC0ZDJXZmGQM0_5y1LEy5bDmzXnR5k3oZSEzMgohs0KMByovafuELy9Fl1PpnFakGSc81ZAgM3CSFNAyI3nqr3uBqnRmEFciFpTH72O71hROkQvpV7tBEhcKHS9w3LG8YyKmhLbFlcHqV-3QZITHkOwTfIGtAwg8eBm1ptVgf7Wi6GZfF_NI3EamPm8il4uhz8Wcn1URaC3MTqS8Z6Vlxsey_E9GGyTlv3fbyeoEYUF-B4VAcu1IFiMapxb5cAYEGVY0RiABB-yEsaNvrA\n",
    "* https://towardsdatascience.com/using-machine-learning-to-generate-recipes-that-actually-works-b2331c85ab72"
   ]
  },
  {
   "cell_type": "code",
   "execution_count": 1,
   "id": "71e81894",
   "metadata": {},
   "outputs": [],
   "source": [
    "%load_ext autoreload\n",
    "%autoreload 2"
   ]
  },
  {
   "cell_type": "code",
   "execution_count": 3,
   "id": "d7ddfe1d",
   "metadata": {},
   "outputs": [
    {
     "name": "stdout",
     "output_type": "stream",
     "text": [
      "/home/ec2-user/SageMaker/just-a-recipe-generator\n"
     ]
    }
   ],
   "source": [
    "%cd ~/SageMaker/just-a-recipe-generator\n",
    "\n",
    "# cd ~/Documents/github/just-a-recipe-generator"
   ]
  },
  {
   "cell_type": "code",
   "execution_count": 4,
   "id": "57379e60",
   "metadata": {},
   "outputs": [],
   "source": [
    "## Local - mac (installing tf was a painnnn)\n",
    "# !pip install nltk"
   ]
  },
  {
   "cell_type": "code",
   "execution_count": 5,
   "id": "4a0db547",
   "metadata": {},
   "outputs": [],
   "source": [
    "## SageMaker\n",
    "# !pip install tensorflow==2.8.0"
   ]
  },
  {
   "cell_type": "code",
   "execution_count": 6,
   "id": "f98e6237",
   "metadata": {},
   "outputs": [],
   "source": [
    "import os\n",
    "import time\n",
    "import copy\n",
    "import tensorflow as tf"
   ]
  },
  {
   "cell_type": "code",
   "execution_count": 15,
   "id": "3c43ae87",
   "metadata": {},
   "outputs": [],
   "source": [
    "from src.data.pickling import load_pickle\n",
    "from src.features.clean_shoestring_data import clean_shoestring_recipes\n",
    "from src.features.prepare_model_data import (ingredients_to_text, tokenize_text,\n",
    "                                             create_sequences, split_input_target,\n",
    "                                             make_training_data, text_from_ids, prep_model_data)"
   ]
  },
  {
   "cell_type": "code",
   "execution_count": 8,
   "id": "e7dd1e2f",
   "metadata": {},
   "outputs": [],
   "source": [
    "from src.models.rnn import train_rnn_model, apply_one_step_model, OneStep, retrieve_model"
   ]
  },
  {
   "cell_type": "code",
   "execution_count": 9,
   "id": "96cd3351",
   "metadata": {},
   "outputs": [
    {
     "name": "stdout",
     "output_type": "stream",
     "text": [
      "Loading data/raw/shoestring_recipes.pickle for consumption...\n"
     ]
    }
   ],
   "source": [
    "shoestring_recipes0 = load_pickle(\"data/raw/shoestring_recipes.pickle\")"
   ]
  },
  {
   "cell_type": "code",
   "execution_count": 10,
   "id": "f1e493b5",
   "metadata": {},
   "outputs": [],
   "source": [
    "shoestring_recipes = copy.deepcopy(shoestring_recipes0)"
   ]
  },
  {
   "cell_type": "code",
   "execution_count": 11,
   "id": "fae70bff",
   "metadata": {},
   "outputs": [],
   "source": [
    "recipe_dict = clean_shoestring_recipes(shoestring_recipes)"
   ]
  },
  {
   "cell_type": "code",
   "execution_count": 16,
   "id": "332ba5de",
   "metadata": {},
   "outputs": [],
   "source": [
    "dataset, ids_from_chars, chars_from_ids, vocab = prep_model_data(recipe_dict)"
   ]
  },
  {
   "cell_type": "code",
   "execution_count": null,
   "id": "720124ce",
   "metadata": {},
   "outputs": [],
   "source": [
    "def prep_model_data(recipe_dict):\n",
    "    text = ingredients_to_text(recipe_dict)\n",
    "    vocab, ids_from_chars, chars_from_ids = tokenize_text(text)\n",
    "    sequences = create_sequences(text, ids_from_chars)\n",
    "    dataset0 = sequences.map(split_input_target)\n",
    "    dataset = make_training_data(dataset0)\n",
    "\n",
    "    return dataset"
   ]
  },
  {
   "cell_type": "code",
   "execution_count": null,
   "id": "7b7dbca7",
   "metadata": {},
   "outputs": [
    {
     "name": "stdout",
     "output_type": "stream",
     "text": [
      "Epoch 1/100\n",
      "8/8 [==============================] - 29s 3s/step - loss: 4.4954\n",
      "Epoch 2/100\n",
      "8/8 [==============================] - 25s 3s/step - loss: 3.9030\n",
      "Epoch 3/100\n",
      "8/8 [==============================] - 26s 3s/step - loss: 3.4259\n",
      "Epoch 4/100\n",
      "8/8 [==============================] - 25s 3s/step - loss: 3.0141\n",
      "Epoch 5/100\n",
      "8/8 [==============================] - 28s 4s/step - loss: 2.7698\n",
      "Epoch 6/100\n",
      "8/8 [==============================] - 26s 3s/step - loss: 2.5168\n",
      "Epoch 7/100\n",
      "8/8 [==============================] - 26s 3s/step - loss: 2.2777\n",
      "Epoch 8/100\n",
      "8/8 [==============================] - 24s 3s/step - loss: 2.0748\n",
      "Epoch 9/100\n",
      "8/8 [==============================] - 25s 3s/step - loss: 1.9343\n",
      "Epoch 10/100\n",
      "8/8 [==============================] - 28s 3s/step - loss: 1.8194\n",
      "Epoch 11/100\n",
      "8/8 [==============================] - 25s 3s/step - loss: 1.7332\n",
      "Epoch 12/100\n",
      "8/8 [==============================] - 26s 3s/step - loss: 1.6337\n",
      "Epoch 13/100\n",
      "8/8 [==============================] - 26s 3s/step - loss: 1.5311\n",
      "Epoch 14/100\n",
      "8/8 [==============================] - 26s 3s/step - loss: 1.4362\n",
      "Epoch 15/100\n",
      "8/8 [==============================] - 28s 3s/step - loss: 1.3224\n",
      "Epoch 16/100\n",
      "8/8 [==============================] - 25s 3s/step - loss: 1.2319\n",
      "Epoch 17/100\n",
      "8/8 [==============================] - 25s 3s/step - loss: 1.1342\n",
      "Epoch 18/100\n",
      "8/8 [==============================] - 26s 3s/step - loss: 1.0441\n",
      "Epoch 19/100\n",
      "8/8 [==============================] - 25s 3s/step - loss: 0.9665\n",
      "Epoch 20/100\n",
      "8/8 [==============================] - 25s 3s/step - loss: 0.8949\n",
      "Epoch 21/100\n",
      "8/8 [==============================] - 27s 3s/step - loss: 0.8495\n",
      "Epoch 22/100\n",
      "8/8 [==============================] - 26s 3s/step - loss: 0.7856\n",
      "Epoch 23/100\n",
      "8/8 [==============================] - 25s 3s/step - loss: 0.7401\n",
      "Epoch 24/100\n",
      "8/8 [==============================] - 26s 3s/step - loss: 0.7106\n",
      "Epoch 25/100\n",
      "8/8 [==============================] - 26s 3s/step - loss: 0.6657\n",
      "Epoch 26/100\n",
      "8/8 [==============================] - 25s 3s/step - loss: 0.6371\n",
      "Epoch 27/100\n",
      "8/8 [==============================] - 27s 3s/step - loss: 0.6093\n",
      "Epoch 28/100\n",
      "8/8 [==============================] - 25s 3s/step - loss: 0.5744\n",
      "Epoch 29/100\n",
      "8/8 [==============================] - 25s 3s/step - loss: 0.5594\n",
      "Epoch 30/100\n",
      "8/8 [==============================] - 25s 3s/step - loss: 0.5315\n",
      "Epoch 31/100\n",
      "8/8 [==============================] - 25s 3s/step - loss: 0.5114\n",
      "Epoch 32/100\n",
      "8/8 [==============================] - 26s 3s/step - loss: 0.4947\n",
      "Epoch 33/100\n",
      "8/8 [==============================] - 26s 3s/step - loss: 0.4818\n",
      "Epoch 34/100\n",
      "8/8 [==============================] - 26s 3s/step - loss: 0.4684\n",
      "Epoch 35/100\n",
      "8/8 [==============================] - 26s 3s/step - loss: 0.4478\n",
      "Epoch 36/100\n",
      "8/8 [==============================] - 26s 3s/step - loss: 0.4316\n",
      "Epoch 37/100\n",
      "8/8 [==============================] - 26s 3s/step - loss: 0.4135\n",
      "Epoch 38/100\n",
      "8/8 [==============================] - 28s 3s/step - loss: 0.3971\n",
      "Epoch 39/100\n",
      "8/8 [==============================] - 26s 3s/step - loss: 0.3827\n",
      "Epoch 40/100\n",
      "8/8 [==============================] - 25s 3s/step - loss: 0.3748\n",
      "Epoch 41/100\n",
      "8/8 [==============================] - 26s 3s/step - loss: 0.3684\n",
      "Epoch 42/100\n",
      "8/8 [==============================] - 26s 3s/step - loss: 0.3542\n",
      "Epoch 43/100\n",
      "8/8 [==============================] - 28s 4s/step - loss: 0.3437\n",
      "Epoch 44/100\n",
      "8/8 [==============================] - 25s 3s/step - loss: 0.3365\n",
      "Epoch 45/100\n",
      "8/8 [==============================] - 25s 3s/step - loss: 0.3257\n",
      "Epoch 46/100\n",
      "8/8 [==============================] - 25s 3s/step - loss: 0.3155\n",
      "Epoch 47/100\n",
      "8/8 [==============================] - 25s 3s/step - loss: 0.3049\n",
      "Epoch 48/100\n",
      "8/8 [==============================] - 27s 3s/step - loss: 0.2983\n",
      "Epoch 49/100\n",
      "8/8 [==============================] - 26s 3s/step - loss: 0.2926\n",
      "Epoch 50/100\n",
      "8/8 [==============================] - 25s 3s/step - loss: 0.2826\n",
      "Epoch 51/100\n",
      "8/8 [==============================] - 25s 3s/step - loss: 0.2793\n",
      "Epoch 52/100\n",
      "8/8 [==============================] - 25s 3s/step - loss: 0.2777\n",
      "Epoch 53/100\n",
      "8/8 [==============================] - 25s 3s/step - loss: 0.2702\n",
      "Epoch 54/100\n",
      "8/8 [==============================] - 28s 3s/step - loss: 0.2592\n",
      "Epoch 55/100\n",
      "8/8 [==============================] - 25s 3s/step - loss: 0.2555\n",
      "Epoch 56/100\n",
      "8/8 [==============================] - 25s 3s/step - loss: 0.2455\n",
      "Epoch 57/100\n",
      "8/8 [==============================] - 26s 3s/step - loss: 0.2384\n",
      "Epoch 58/100\n",
      "8/8 [==============================] - 26s 3s/step - loss: 0.2325\n",
      "Epoch 59/100\n",
      "8/8 [==============================] - 25s 3s/step - loss: 0.2269\n",
      "Epoch 60/100\n",
      "8/8 [==============================] - 25s 3s/step - loss: 0.2233\n",
      "Epoch 61/100\n",
      "8/8 [==============================] - 25s 3s/step - loss: 0.2178\n",
      "Epoch 62/100\n",
      "8/8 [==============================] - 25s 3s/step - loss: 0.2142\n",
      "Epoch 63/100\n",
      "8/8 [==============================] - 25s 3s/step - loss: 0.2095\n",
      "Epoch 64/100\n",
      "8/8 [==============================] - 28s 3s/step - loss: 0.2068\n",
      "Epoch 65/100\n",
      "8/8 [==============================] - 25s 3s/step - loss: 0.2003\n",
      "Epoch 66/100\n",
      "8/8 [==============================] - 25s 3s/step - loss: 0.1959\n",
      "Epoch 67/100\n",
      "8/8 [==============================] - 25s 3s/step - loss: 0.1936\n",
      "Epoch 68/100\n",
      "8/8 [==============================] - 25s 3s/step - loss: 0.1901\n",
      "Epoch 69/100\n",
      "8/8 [==============================] - 28s 3s/step - loss: 0.1867\n",
      "Epoch 70/100\n",
      "8/8 [==============================] - 26s 3s/step - loss: 0.1794\n",
      "Epoch 71/100\n",
      "8/8 [==============================] - 25s 3s/step - loss: 0.1737\n",
      "Epoch 72/100\n",
      "8/8 [==============================] - 25s 3s/step - loss: 0.1683\n",
      "Epoch 73/100\n",
      "8/8 [==============================] - 25s 3s/step - loss: 0.1663\n",
      "Epoch 74/100\n",
      "8/8 [==============================] - 28s 3s/step - loss: 0.1635\n",
      "Epoch 75/100\n",
      "8/8 [==============================] - 26s 3s/step - loss: 0.1618\n",
      "Epoch 76/100\n",
      "8/8 [==============================] - 25s 3s/step - loss: 0.1570\n",
      "Epoch 77/100\n",
      "8/8 [==============================] - 25s 3s/step - loss: 0.1527\n",
      "Epoch 78/100\n",
      "8/8 [==============================] - 25s 3s/step - loss: 0.1484\n",
      "Epoch 79/100\n",
      "8/8 [==============================] - 26s 3s/step - loss: 0.1446\n",
      "Epoch 80/100\n",
      "8/8 [==============================] - 28s 3s/step - loss: 0.1439\n",
      "Epoch 81/100\n",
      "8/8 [==============================] - 25s 3s/step - loss: 0.1424\n",
      "Epoch 82/100\n",
      "8/8 [==============================] - 25s 3s/step - loss: 0.1408\n",
      "Epoch 83/100\n",
      "8/8 [==============================] - 25s 3s/step - loss: 0.1387\n",
      "Epoch 84/100\n",
      "8/8 [==============================] - 25s 3s/step - loss: 0.1373\n",
      "Epoch 85/100\n",
      "8/8 [==============================] - 26s 3s/step - loss: 0.1331\n",
      "Epoch 86/100\n",
      "8/8 [==============================] - 26s 3s/step - loss: 0.1306\n",
      "Epoch 87/100\n",
      "8/8 [==============================] - 26s 3s/step - loss: 0.1272\n",
      "Epoch 88/100\n",
      "8/8 [==============================] - 25s 3s/step - loss: 0.1235\n",
      "Epoch 89/100\n",
      "8/8 [==============================] - 25s 3s/step - loss: 0.1224\n",
      "Epoch 90/100\n",
      "8/8 [==============================] - 25s 3s/step - loss: 0.1162\n",
      "Epoch 91/100\n",
      "8/8 [==============================] - 27s 3s/step - loss: 0.1131\n",
      "Epoch 92/100\n",
      "8/8 [==============================] - 25s 3s/step - loss: 0.1116\n",
      "Epoch 93/100\n",
      "8/8 [==============================] - 25s 3s/step - loss: 0.1087\n",
      "Epoch 94/100\n",
      "8/8 [==============================] - 26s 3s/step - loss: 0.1075\n",
      "Epoch 95/100\n",
      "8/8 [==============================] - 26s 3s/step - loss: 0.1038\n",
      "Epoch 96/100\n",
      "8/8 [==============================] - 25s 3s/step - loss: 0.1014\n",
      "Epoch 97/100\n",
      "8/8 [==============================] - 28s 3s/step - loss: 0.0984\n",
      "Epoch 98/100\n",
      "6/8 [=====================>........] - ETA: 6s - loss: 0.0955"
     ]
    }
   ],
   "source": [
    "history, model = train_rnn_model(dataset, ids_from_chars, vocab, epochs=100)\n",
    "# apply_one_step_model(model, chars_from_ids, ids_from_chars)"
   ]
  },
  {
   "cell_type": "code",
   "execution_count": null,
   "id": "e2e65037",
   "metadata": {},
   "outputs": [],
   "source": [
    "def create_one_step_model(model, chars_from_ids, ids_from_chars):\n",
    "    one_step_model = OneStep(model, chars_from_ids, ids_from_chars)\n",
    "    return one_step_model\n",
    "\n",
    "\n",
    "def apply_one_step_model(model, steps=1000):\n",
    "    \"\"\"Run the one-step RNN model in a loop to generate text.\"\"\"\n",
    "    start = time.time()\n",
    "    states = None\n",
    "    next_char = tf.constant(['Ingredients:'])\n",
    "    result = [next_char]\n",
    "\n",
    "    for n in range(steps):\n",
    "        next_char, states = one_step_model.generate_one_step(next_char, states=states)\n",
    "        result.append(next_char)\n",
    "\n",
    "    result = tf.strings.join(result)\n",
    "    end = time.time()\n",
    "    print(result[0].numpy().decode('utf-8'), '\\n\\n' + '_'*80)\n",
    "    print('\\nRun time:', end - start)\n",
    "\n",
    "\n",
    "def save_model(model, location=\"one_step\"):\n",
    "    tf.saved_model.save(one_step_model, location')\n",
    "    return None\n"
   ]
  },
  {
   "cell_type": "code",
   "execution_count": null,
   "id": "0807508a",
   "metadata": {},
   "outputs": [],
   "source": [
    "# TODO: save model in dir w/ time stamp\n",
    "from datetime import datetime\n",
    "\n",
    "today = datetime.today()\n",
    "\n",
    "dt = today.strftime(\"%d_%m_%Y_%H_%M\")"
   ]
  },
  {
   "cell_type": "code",
   "execution_count": null,
   "id": "54b12333",
   "metadata": {},
   "outputs": [],
   "source": [
    "one_step_model = create_one_step_model(model, chars_from_ids, ids_from_chars)\n",
    "apply_one_step_model(one_step_model)"
   ]
  },
  {
   "cell_type": "code",
   "execution_count": null,
   "id": "026d915e",
   "metadata": {},
   "outputs": [],
   "source": [
    "save_model(one_step_model, f\"one_step/{dt}\")"
   ]
  },
  {
   "cell_type": "code",
   "execution_count": null,
   "id": "a0d9cdd3",
   "metadata": {},
   "outputs": [],
   "source": [
    "# Generate recipe title first? And from that, generate ingredients?\n",
    "# https://www.tensorflow.org/guide/keras/rnn#rnns_with_listdict_inputs_or_nested_inputs"
   ]
  },
  {
   "cell_type": "markdown",
   "id": "e6694762",
   "metadata": {},
   "source": [
    "# EVERYTHING BELOW IS JUST TESTING"
   ]
  },
  {
   "cell_type": "markdown",
   "id": "173013ff",
   "metadata": {},
   "source": [
    "## Create training batches\n",
    "\n",
    "Before feeding this data into the model, you need to shuffle the data and pack it into batches."
   ]
  },
  {
   "cell_type": "markdown",
   "id": "95ed4341",
   "metadata": {},
   "source": [
    "## Build The Model\n",
    "This section defines the model as a keras.Model subclass.\n",
    "\n",
    "This model has three layers:\n",
    "\n",
    "- tf.keras.layers.Embedding: The input layer. A trainable lookup table that will map each character-ID to a vector with embedding_dim dimensions;\n",
    "- tf.keras.layers.GRU: A type of RNN with size units=rnn_units (You can also use an LSTM layer here.)\n",
    "- tf.keras.layers.Dense: The output layer, with vocab_size outputs. It outputs one logit for each character in the vocabulary. These are the log-likelihood of each character according to the model.\n",
    "\n",
    "### References:\n",
    "\n",
    "https://www.tensorflow.org/text/tutorials/text_generation#build_the_model"
   ]
  },
  {
   "cell_type": "code",
   "execution_count": null,
   "id": "ff380418",
   "metadata": {},
   "outputs": [],
   "source": [
    "# Length of the vocabulary in chars\n",
    "vocab_size = len(vocab)\n",
    "\n",
    "# The embedding dimension\n",
    "embedding_dim = 256\n",
    "\n",
    "# Number of RNN units\n",
    "rnn_units = 1024"
   ]
  },
  {
   "cell_type": "code",
   "execution_count": null,
   "id": "9882a8c8",
   "metadata": {},
   "outputs": [],
   "source": [
    "apply_one_step_model(model, chars_from_ids, ids_from_chars)"
   ]
  },
  {
   "cell_type": "markdown",
   "id": "1601668d",
   "metadata": {},
   "source": [
    "## Advanced: Customized Training\n",
    "\n",
    "The above training procedure is simple, but does not give you much control. It uses teacher-forcing which prevents bad predictions from being fed back to the model, so the model never learns to recover from mistakes.\n",
    "\n",
    "So now that you've seen how to run the model manually next you'll implement the training loop. This gives a starting point if, for example, you want to implement curriculum learning to help stabilize the model's open-loop output.\n",
    "\n",
    "The most important part of a custom training loop is the train step function."
   ]
  },
  {
   "cell_type": "code",
   "execution_count": null,
   "id": "ff507dc4",
   "metadata": {},
   "outputs": [],
   "source": [
    "class CustomTraining(MyModel):\n",
    "  @tf.function\n",
    "  def train_step(self, inputs):\n",
    "      inputs, labels = inputs\n",
    "      with tf.GradientTape() as tape:\n",
    "          predictions = self(inputs, training=True)\n",
    "          loss = self.loss(labels, predictions)\n",
    "      grads = tape.gradient(loss, model.trainable_variables)\n",
    "      self.optimizer.apply_gradients(zip(grads, model.trainable_variables))\n",
    "\n",
    "      return {'loss': loss}"
   ]
  },
  {
   "cell_type": "code",
   "execution_count": null,
   "id": "75665596",
   "metadata": {},
   "outputs": [],
   "source": [
    "model = CustomTraining(\n",
    "    vocab_size=len(ids_from_chars.get_vocabulary()),\n",
    "    embedding_dim=embedding_dim,\n",
    "    rnn_units=rnn_units\n",
    ")\n",
    "\n",
    "model.compile(\n",
    "    optimizer = tf.keras.optimizers.Adam(),\n",
    "    loss=tf.keras.losses.SparseCategoricalCrossentropy(from_logits=True)\n",
    ")\n",
    "\n",
    "model.fit(dataset, epochs=1)"
   ]
  }
 ],
 "metadata": {
  "kernelspec": {
   "display_name": "conda_tensorflow2_p310",
   "language": "python",
   "name": "conda_tensorflow2_p310"
  },
  "language_info": {
   "codemirror_mode": {
    "name": "ipython",
    "version": 3
   },
   "file_extension": ".py",
   "mimetype": "text/x-python",
   "name": "python",
   "nbconvert_exporter": "python",
   "pygments_lexer": "ipython3",
   "version": "3.10.8"
  }
 },
 "nbformat": 4,
 "nbformat_minor": 5
}
